{
 "cells": [
  {
   "cell_type": "markdown",
   "metadata": {
    "colab_type": "text",
    "id": "Ldr0HZ193GKb"
   },
   "source": [
    "Lambda School Data Science\n",
    "\n",
    "*Unit 1, Sprint 1, Module 1*\n",
    "\n",
    "---\n",
    "\n"
   ]
  },
  {
   "cell_type": "markdown",
   "metadata": {
    "colab_type": "text",
    "id": "tdFFCCC_fIjV"
   },
   "source": [
    "this is a test "
   ]
  },
  {
   "cell_type": "code",
   "execution_count": 0,
   "metadata": {
    "colab": {
     "base_uri": "https://localhost:8080/",
     "height": 34
    },
    "colab_type": "code",
    "id": "2JOl3OY1fRkQ",
    "outputId": "b322fbb4-8ceb-4000-c6d0-e9f993fbb69d"
   },
   "outputs": [
    {
     "name": "stdout",
     "output_type": "stream",
     "text": [
      "hello world\n"
     ]
    }
   ],
   "source": [
    "print('hello world')"
   ]
  },
<<<<<<< HEAD
  {
   "cell_type": "markdown",
   "metadata": {
    "colab_type": "text",
    "id": "2CkckTc6-txA"
   },
   "source": [
    "# Exploratory Data Analysis\n",
    "\n",
    "- Student can submit assignments via GitHub (save work to GitHub).\n",
    "- Student can load a dataset (CSV) from a URL using `pandas.read_csv()`\n",
    "- Student can load a dataset (CSV) from a local file using `pandas.read_csv()`\n",
    "- Student can use basic pandas EDA functions like: `pandas.describe()`, `pandas.isnull()`, `pandas.value_counts()`, `pandas.crosstab()`.\n",
    "- Student can generate basic visualizations with Pandas: line plot, histogram, scatterplot, density plot."
   ]
  },
  {
   "cell_type": "markdown",
   "metadata": {
    "colab_type": "text",
    "id": "FnOWk3zMOuqz"
   },
   "source": [
    "# [Objective](#save-to-github) - Save a .ipynb file (Colab Notebook) to GitHub\n",
    "\n"
   ]
  },
  {
   "cell_type": "markdown",
   "metadata": {
    "colab_type": "text",
    "id": "fCryOFLnm_vc"
   },
   "source": [
    "## Overview\n",
    "\n",
    "GitHub is a website where you can save code or other files either for personal use or for sharing with others. The website is used primarily for storing \"open-source\" project files so that users can work together on large code bases without overwriting each other's work. You will be using GitHub to collaborate on large projects, both with other students and in your career. \n",
    "\n",
    "In order to help you get familiar with this tool we have structured our assignment submission process around the typical GitHub workflow to try and mimic how this tool is used. The following process is the workflow that you will follow in order to submit your assignments so that the Team Leads can view your work and give you daily feedback."
   ]
  },
  {
   "cell_type": "markdown",
   "metadata": {
    "colab_type": "text",
    "id": "OF5FwWe1m-Wo"
   },
   "source": [
    "## Follow Along"
   ]
  },
  {
   "cell_type": "markdown",
   "metadata": {
    "colab_type": "text",
    "id": "M8moDKv-Tg63"
   },
   "source": [
    "### 1) Fork the Repository for that Sprint at the beginning of the Sprint\n",
    "\n",
    "**NOTE: You will only do this step a single time at the beginning of each sprint.**\n",
    "\n",
    "Go to <http://github.com/lambdaschool>\n",
    "\n",
    "All of our data science curriculum can be accessed through this page.\n",
    "\n",
    "In the search bar start typing:\n",
    "\n",
    "`DS-Unit-1-Sprint-1-Data-Wrangling-and-Storytelling`\n",
    "\n",
    "Repositories that don't match what you are typing in the search bar will be filtered out, eventually leaving this sprint's repository. \n",
    "\n",
    "> \"Repository\" is fancy work that just means: folder where we are going to store some files on GitHub. You'll hear people say \"repo\" for short.\n",
    "\n",
    "**At the beginning of each sprint you will need to find that sprint's corresponding repository and \"fork\" it to your personal GitHub account.** \"Forking\" a repository is GitHub lingo for \"Make a copy.\" If you click the fork button on the top right corner of the webpage, GitHub will make a copy of the folder of files that we will be using for that sprint to your personal GitHub account. You will be doing your work and saving your changes to the copied version on your account.\n",
    "\n",
    "You can tell when you have successfully forked a repository because you should briefly see an animation appear that looks like a book is being photocopied with a fork stuck in it and then you will be redirected to your copy of the repository.\n",
    "\n",
    "You can always tell when you're looking at the forked version on your personal github account by looking at the name of the repository and looking at the username that is just to the left of it in the filepath:\n",
    "\n",
    "![Forked Repository Username Screenshot](https://lambdachops.com/img/fork-repository-screenshot.png)\n"
   ]
  },
  {
   "cell_type": "markdown",
   "metadata": {
    "colab_type": "text",
    "id": "DHgG8kFqYAz0"
   },
   "source": [
    "### 2) Open one of the files and make a change to it. \n",
    "\n",
    "The files that we will be working with primarily during the course have the file extension: .ipynb for \"IPython Notebook\" any of these are notebooks that we can open in Google Colab.\n",
    "\n",
    "To open one of these notebook files in Google Colab go to:\n",
    "\n",
    "<https://colab.research.google.com/github/> \n",
    "\n",
    "If you haven't done so already, give Google permission to access your GitHub account from your Google Account.\n",
    "\n",
    "Once you have all of the permissions sorted out, select the repository that you're most interested in from the dropdown menu. Once you select a repository Google Colab will look through it to find all of the .ipynb files and will list them below:\n",
    "\n",
    "![Open .ipynb file from GitHub in Google Colab](https://lambdachops.com/img/google-colab-github.png)\n",
    "\n",
    "If you don't like going to this link everyday to open your notebooks, there is also a Google Chrome extension that you can use to easily open any .ipynb file from GitHub directly in Google Colab: \n",
    "\n",
    "### [Google Chrome Extension to Open .ipynb files easily in Google Colab](https://chrome.google.com/webstore/detail/open-in-colab/iogfkhleblhcpcekbiedikdehleodpjo?hl=en)"
   ]
  },
  {
   "cell_type": "markdown",
   "metadata": {
    "colab_type": "text",
    "id": "OdRobgtWZrex"
   },
   "source": [
    "### 3) Save your changes back to your forked repository on Github.\n",
    "\n",
    "Once you have finished making all of the changes that you want to the notebook, you can save your work back to GitHub by selecting `File` >> `Save a copy in GitHub` from the dropdown menu. \n",
    "\n",
    "When you select this a new tab will open in your browser to show you the saved file on GitHub to let you know that the save has been completed successfully.\n",
    "\n",
    "![Save A Copy In Github](https://lambdachops.com/img/save-a-copy-in-github.png)\n",
    "\n",
    "### You will do steps 2 and 3 of this process every day as you work on your assignment work, however, you will only do steps 1 and 4 at the beginning of a sprint."
   ]
  },
  {
   "cell_type": "markdown",
   "metadata": {
    "colab_type": "text",
    "id": "z_EX6QN9babi"
   },
   "source": [
    "### 4) Submit a \"Pull Request\" of your work.\n",
    "\n",
    "The final step in submitting your work is to open a \"Pull Request\" GitHub won't allow you to complete this step until you have saved some changes to your version of the repository on GitHub.\n",
    "\n",
    "Opening a Pull Request is something that only needs to be done once per week (typically at the beginning of the week). This pull request is what ties your work back to the original Lambda School repository and makes it easy for the Team Leads to find your work.\n",
    "\n",
    "In order to open a pull request, navigate to your repository on GitHub and select the \"Pull Requests\" tab at the top of the page.\n",
    "\n",
    "![Pull Requests Tab](https://lambdachops.com/img/pull-request.png)\n",
    "\n",
    "To open a new pull request you will need to click the green \"New Pull Request\" button and give your pull request a title. Please include your name and Cohort number i.e. DS8, DS9, or DS10, etc. at the beginning of the pull request title so that the Team Leads can easily identify your Pull Request. Once you have filled out the title, just click the remaining large green buttons until the pull request has been submitted.\n"
   ]
  },
  {
   "cell_type": "markdown",
   "metadata": {
    "colab_type": "text",
    "id": "v1KNmIgQdbOo"
   },
   "source": [
    "### In Summary\n",
    "\n",
    "1) Fork the Repository (make a copy to your personal account)\n",
    "\n",
    "2) Open the Repository in Google Colab and make changes to the files (work on your assignment).\n",
    "\n",
    "3) Save the changes back to github using the dropdown menu.\n",
    "\n",
    "4) Make sure that sometime before the end of the first day of the sprint that you have submitted a Pull Request so that the TLs can find your work."
   ]
  },
  {
   "cell_type": "markdown",
   "metadata": {
    "colab_type": "text",
    "id": "-s3sC4gwrFGN"
   },
   "source": [
    "## Challenge\n",
    "\n",
    "You'll have to do follow this process or one very close to it every day/week for the next nine months. If this feels a little bit overwhelming at first, don't worry about it! We will be doing this everyday and you have your Team Leads and classmates to lean on for help. You'll be a pro at using GitHub in no time.\n",
    "\n",
    "If you're already familiar with GitHub and or Git via the command line, feel free to use the tools that you are most comfortable with, but you still need to save your work to GitHub every day."
   ]
  },
  {
   "cell_type": "markdown",
   "metadata": {
    "colab_type": "text",
    "id": "QszuYn1bnZSe"
   },
   "source": [
    "# [Objective](#load-csv-from-url) - Load a dataset (CSV) via its URL"
   ]
  },
  {
   "cell_type": "markdown",
   "metadata": {
    "colab_type": "text",
    "id": "_7uhS1HHOaR-"
   },
   "source": [
    "## Overview\n",
    "\n",
    "In order to practice Loading Datasets into Google Colab, we're going to use the [Flags Dataset](https://archive.ics.uci.edu/ml/datasets/Flags) from UCI to show both loading the dataset via its URL and from a local file.\n",
    "\n",
    "Steps for loading a dataset:\n",
    "\n",
    "1) Learn as much as you can about the dataset:\n",
    " - Number of rows\n",
    " - Number of columns\n",
    " - Column headers (Is there a \"data dictionary\"?)\n",
    " - Is there missing data?\n",
    " - **OPEN THE RAW FILE AND LOOK AT IT. IT MAY NOT BE FORMATTED IN THE WAY THAT YOU EXPECT.**\n",
    "\n",
    "2) Try loading the dataset using `pandas.read_csv()` and if things aren't acting the way that you expect, investigate until you can get it loading correctly.\n",
    "\n",
    "3) Keep in mind that functions like `pandas.read_csv()` have a lot of optional parameters that might help us change the way that data is read in. If you get stuck, google, read the documentation, and try things out.\n",
    "\n",
    "4) You might need to type out column headers by hand if they are not provided in a neat format in the original dataset. It can be a drag."
   ]
  },
  {
   "cell_type": "markdown",
   "metadata": {
    "colab_type": "text",
    "id": "8vpS8MBjm7A0"
   },
   "source": [
    "## Follow Along"
   ]
  },
  {
   "cell_type": "markdown",
   "metadata": {
    "colab_type": "text",
    "id": "vZobh57ag1S9"
   },
   "source": [
    "### Learn about the dataset and look at the raw file."
   ]
  },
  {
   "cell_type": "code",
   "execution_count": 0,
   "metadata": {
    "colab": {},
    "colab_type": "code",
    "id": "sYypbXovgaSi"
   },
   "outputs": [],
   "source": [
    "# Find the actual file to download\n",
    "# From navigating the page, clicking \"Data Folder\"\n",
    "# Right click on the link to the dataset and say \"Copy Link Address\"\n",
    "\n",
    "flag_data_url = 'https://archive.ics.uci.edu/ml/machine-learning-databases/flags/flag.data'\n",
    "\n",
    "# You can \"shell out\" in a notebook for more powerful tools\n",
    "# https://jakevdp.github.io/PythonDataScienceHandbook/01.05-ipython-and-shell-commands.html\n",
    "\n",
    "# Funny extension, but on inspection looks like a csv\n",
    "!curl https://archive.ics.uci.edu/ml/machine-learning-databases/flags/flag.data\n",
    "\n",
    "# Extensions are just a norm! You have to inspect to be sure what something is"
   ]
  },
  {
   "cell_type": "markdown",
   "metadata": {
    "colab_type": "text",
    "id": "KncohxMIg5Dq"
   },
   "source": [
    "### Attempt to load it via its URL"
   ]
  },
  {
   "cell_type": "code",
   "execution_count": 0,
   "metadata": {
    "colab": {
     "base_uri": "https://localhost:8080/",
     "height": 239
    },
    "colab_type": "code",
    "id": "-r24OTvggWub",
    "outputId": "0bcd34b1-ccf0-4abe-fb2b-015596120b1c"
   },
   "outputs": [
    {
     "data": {
      "text/html": [
       "<div>\n",
       "<style scoped>\n",
       "    .dataframe tbody tr th:only-of-type {\n",
       "        vertical-align: middle;\n",
       "    }\n",
       "\n",
       "    .dataframe tbody tr th {\n",
       "        vertical-align: top;\n",
       "    }\n",
       "\n",
       "    .dataframe thead th {\n",
       "        text-align: right;\n",
       "    }\n",
       "</style>\n",
       "<table border=\"1\" class=\"dataframe\">\n",
       "  <thead>\n",
       "    <tr style=\"text-align: right;\">\n",
       "      <th></th>\n",
       "      <th>Afghanistan</th>\n",
       "      <th>5</th>\n",
       "      <th>1</th>\n",
       "      <th>648</th>\n",
       "      <th>16</th>\n",
       "      <th>10</th>\n",
       "      <th>2</th>\n",
       "      <th>0</th>\n",
       "      <th>3</th>\n",
       "      <th>5.1</th>\n",
       "      <th>1.1</th>\n",
       "      <th>1.2</th>\n",
       "      <th>0.1</th>\n",
       "      <th>1.3</th>\n",
       "      <th>1.4</th>\n",
       "      <th>1.5</th>\n",
       "      <th>0.2</th>\n",
       "      <th>green</th>\n",
       "      <th>0.3</th>\n",
       "      <th>0.4</th>\n",
       "      <th>0.5</th>\n",
       "      <th>0.6</th>\n",
       "      <th>1.6</th>\n",
       "      <th>0.7</th>\n",
       "      <th>0.8</th>\n",
       "      <th>1.7</th>\n",
       "      <th>0.9</th>\n",
       "      <th>0.10</th>\n",
       "      <th>black</th>\n",
       "      <th>green.1</th>\n",
       "    </tr>\n",
       "  </thead>\n",
       "  <tbody>\n",
       "    <tr>\n",
       "      <th>0</th>\n",
       "      <td>Albania</td>\n",
       "      <td>3</td>\n",
       "      <td>1</td>\n",
       "      <td>29</td>\n",
       "      <td>3</td>\n",
       "      <td>6</td>\n",
       "      <td>6</td>\n",
       "      <td>0</td>\n",
       "      <td>0</td>\n",
       "      <td>3</td>\n",
       "      <td>1</td>\n",
       "      <td>0</td>\n",
       "      <td>0</td>\n",
       "      <td>1</td>\n",
       "      <td>0</td>\n",
       "      <td>1</td>\n",
       "      <td>0</td>\n",
       "      <td>red</td>\n",
       "      <td>0</td>\n",
       "      <td>0</td>\n",
       "      <td>0</td>\n",
       "      <td>0</td>\n",
       "      <td>1</td>\n",
       "      <td>0</td>\n",
       "      <td>0</td>\n",
       "      <td>0</td>\n",
       "      <td>1</td>\n",
       "      <td>0</td>\n",
       "      <td>red</td>\n",
       "      <td>red</td>\n",
       "    </tr>\n",
       "    <tr>\n",
       "      <th>1</th>\n",
       "      <td>Algeria</td>\n",
       "      <td>4</td>\n",
       "      <td>1</td>\n",
       "      <td>2388</td>\n",
       "      <td>20</td>\n",
       "      <td>8</td>\n",
       "      <td>2</td>\n",
       "      <td>2</td>\n",
       "      <td>0</td>\n",
       "      <td>3</td>\n",
       "      <td>1</td>\n",
       "      <td>1</td>\n",
       "      <td>0</td>\n",
       "      <td>0</td>\n",
       "      <td>1</td>\n",
       "      <td>0</td>\n",
       "      <td>0</td>\n",
       "      <td>green</td>\n",
       "      <td>0</td>\n",
       "      <td>0</td>\n",
       "      <td>0</td>\n",
       "      <td>0</td>\n",
       "      <td>1</td>\n",
       "      <td>1</td>\n",
       "      <td>0</td>\n",
       "      <td>0</td>\n",
       "      <td>0</td>\n",
       "      <td>0</td>\n",
       "      <td>green</td>\n",
       "      <td>white</td>\n",
       "    </tr>\n",
       "    <tr>\n",
       "      <th>2</th>\n",
       "      <td>American-Samoa</td>\n",
       "      <td>6</td>\n",
       "      <td>3</td>\n",
       "      <td>0</td>\n",
       "      <td>0</td>\n",
       "      <td>1</td>\n",
       "      <td>1</td>\n",
       "      <td>0</td>\n",
       "      <td>0</td>\n",
       "      <td>5</td>\n",
       "      <td>1</td>\n",
       "      <td>0</td>\n",
       "      <td>1</td>\n",
       "      <td>1</td>\n",
       "      <td>1</td>\n",
       "      <td>0</td>\n",
       "      <td>1</td>\n",
       "      <td>blue</td>\n",
       "      <td>0</td>\n",
       "      <td>0</td>\n",
       "      <td>0</td>\n",
       "      <td>0</td>\n",
       "      <td>0</td>\n",
       "      <td>0</td>\n",
       "      <td>1</td>\n",
       "      <td>1</td>\n",
       "      <td>1</td>\n",
       "      <td>0</td>\n",
       "      <td>blue</td>\n",
       "      <td>red</td>\n",
       "    </tr>\n",
       "    <tr>\n",
       "      <th>3</th>\n",
       "      <td>Andorra</td>\n",
       "      <td>3</td>\n",
       "      <td>1</td>\n",
       "      <td>0</td>\n",
       "      <td>0</td>\n",
       "      <td>6</td>\n",
       "      <td>0</td>\n",
       "      <td>3</td>\n",
       "      <td>0</td>\n",
       "      <td>3</td>\n",
       "      <td>1</td>\n",
       "      <td>0</td>\n",
       "      <td>1</td>\n",
       "      <td>1</td>\n",
       "      <td>0</td>\n",
       "      <td>0</td>\n",
       "      <td>0</td>\n",
       "      <td>gold</td>\n",
       "      <td>0</td>\n",
       "      <td>0</td>\n",
       "      <td>0</td>\n",
       "      <td>0</td>\n",
       "      <td>0</td>\n",
       "      <td>0</td>\n",
       "      <td>0</td>\n",
       "      <td>0</td>\n",
       "      <td>0</td>\n",
       "      <td>0</td>\n",
       "      <td>blue</td>\n",
       "      <td>red</td>\n",
       "    </tr>\n",
       "    <tr>\n",
       "      <th>4</th>\n",
       "      <td>Angola</td>\n",
       "      <td>4</td>\n",
       "      <td>2</td>\n",
       "      <td>1247</td>\n",
       "      <td>7</td>\n",
       "      <td>10</td>\n",
       "      <td>5</td>\n",
       "      <td>0</td>\n",
       "      <td>2</td>\n",
       "      <td>3</td>\n",
       "      <td>1</td>\n",
       "      <td>0</td>\n",
       "      <td>0</td>\n",
       "      <td>1</td>\n",
       "      <td>0</td>\n",
       "      <td>1</td>\n",
       "      <td>0</td>\n",
       "      <td>red</td>\n",
       "      <td>0</td>\n",
       "      <td>0</td>\n",
       "      <td>0</td>\n",
       "      <td>0</td>\n",
       "      <td>1</td>\n",
       "      <td>0</td>\n",
       "      <td>0</td>\n",
       "      <td>1</td>\n",
       "      <td>0</td>\n",
       "      <td>0</td>\n",
       "      <td>red</td>\n",
       "      <td>black</td>\n",
       "    </tr>\n",
       "  </tbody>\n",
       "</table>\n",
       "</div>"
      ],
      "text/plain": [
       "      Afghanistan  5  1   648  16  10  ...  0.8  1.7  0.9  0.10  black  green.1\n",
       "0         Albania  3  1    29   3   6  ...    0    0    1     0    red      red\n",
       "1         Algeria  4  1  2388  20   8  ...    0    0    0     0  green    white\n",
       "2  American-Samoa  6  3     0   0   1  ...    1    1    1     0   blue      red\n",
       "3         Andorra  3  1     0   0   6  ...    0    0    0     0   blue      red\n",
       "4          Angola  4  2  1247   7  10  ...    0    1    0     0    red    black\n",
       "\n",
       "[5 rows x 30 columns]"
      ]
     },
     "execution_count": 1,
     "metadata": {
      "tags": []
     },
     "output_type": "execute_result"
    }
   ],
   "source": [
    "# Load the flags dataset from its URL:\n",
    "flag_data_url = 'https://archive.ics.uci.edu/ml/machine-learning-databases/flags/flag.data'\n",
    "import pandas as pd\n",
    "\n",
    "flags_df = pd.read_csv(flag_data_url)\n",
    "flags_df.head()"
   ]
  },
  {
   "cell_type": "markdown",
   "metadata": {
    "colab_type": "text",
    "id": "1hI3GvRgg818"
   },
   "source": [
    "### If things go wrong, investigate and try to figure out why.\n"
   ]
  },
  {
   "cell_type": "code",
   "execution_count": 0,
   "metadata": {
    "colab": {},
    "colab_type": "code",
    "id": "8PK-Njl0hJxz"
   },
   "outputs": [],
   "source": [
    "# Different ways to look at the documentation:\n"
   ]
  },
  {
   "cell_type": "markdown",
   "metadata": {
    "colab_type": "text",
    "id": "xuX3bUdOhQ1S"
   },
   "source": [
    "### Try Again"
   ]
  },
  {
   "cell_type": "code",
   "execution_count": 0,
   "metadata": {
    "colab": {
     "base_uri": "https://localhost:8080/",
     "height": 239
    },
    "colab_type": "code",
    "id": "AJfCoAg-hRzq",
    "outputId": "f87a37df-c7f6-4581-df1e-9dcc3164d14f"
   },
   "outputs": [
    {
     "data": {
      "text/html": [
       "<div>\n",
       "<style scoped>\n",
       "    .dataframe tbody tr th:only-of-type {\n",
       "        vertical-align: middle;\n",
       "    }\n",
       "\n",
       "    .dataframe tbody tr th {\n",
       "        vertical-align: top;\n",
       "    }\n",
       "\n",
       "    .dataframe thead th {\n",
       "        text-align: right;\n",
       "    }\n",
       "</style>\n",
       "<table border=\"1\" class=\"dataframe\">\n",
       "  <thead>\n",
       "    <tr style=\"text-align: right;\">\n",
       "      <th></th>\n",
       "      <th>name</th>\n",
       "      <th>landmass</th>\n",
       "      <th>zone</th>\n",
       "      <th>area</th>\n",
       "      <th>population</th>\n",
       "      <th>language</th>\n",
       "      <th>religion</th>\n",
       "      <th>bars</th>\n",
       "      <th>stripes</th>\n",
       "      <th>colors</th>\n",
       "      <th>red</th>\n",
       "      <th>green</th>\n",
       "      <th>blue</th>\n",
       "      <th>gold</th>\n",
       "      <th>white</th>\n",
       "      <th>black</th>\n",
       "      <th>orange</th>\n",
       "      <th>mainhue</th>\n",
       "      <th>circles</th>\n",
       "      <th>crosses</th>\n",
       "      <th>saltires</th>\n",
       "      <th>quarters</th>\n",
       "      <th>sunstars</th>\n",
       "      <th>crescent</th>\n",
       "      <th>triangle</th>\n",
       "      <th>icon</th>\n",
       "      <th>animate</th>\n",
       "      <th>text</th>\n",
       "      <th>topleft</th>\n",
       "      <th>botright</th>\n",
       "    </tr>\n",
       "  </thead>\n",
       "  <tbody>\n",
       "    <tr>\n",
       "      <th>0</th>\n",
       "      <td>Afghanistan</td>\n",
       "      <td>5</td>\n",
       "      <td>1</td>\n",
       "      <td>648</td>\n",
       "      <td>16</td>\n",
       "      <td>10</td>\n",
       "      <td>2</td>\n",
       "      <td>0</td>\n",
       "      <td>3</td>\n",
       "      <td>5</td>\n",
       "      <td>1</td>\n",
       "      <td>1</td>\n",
       "      <td>0</td>\n",
       "      <td>1</td>\n",
       "      <td>1</td>\n",
       "      <td>1</td>\n",
       "      <td>0</td>\n",
       "      <td>green</td>\n",
       "      <td>0</td>\n",
       "      <td>0</td>\n",
       "      <td>0</td>\n",
       "      <td>0</td>\n",
       "      <td>1</td>\n",
       "      <td>0</td>\n",
       "      <td>0</td>\n",
       "      <td>1</td>\n",
       "      <td>0</td>\n",
       "      <td>0</td>\n",
       "      <td>black</td>\n",
       "      <td>green</td>\n",
       "    </tr>\n",
       "    <tr>\n",
       "      <th>1</th>\n",
       "      <td>Albania</td>\n",
       "      <td>3</td>\n",
       "      <td>1</td>\n",
       "      <td>29</td>\n",
       "      <td>3</td>\n",
       "      <td>6</td>\n",
       "      <td>6</td>\n",
       "      <td>0</td>\n",
       "      <td>0</td>\n",
       "      <td>3</td>\n",
       "      <td>1</td>\n",
       "      <td>0</td>\n",
       "      <td>0</td>\n",
       "      <td>1</td>\n",
       "      <td>0</td>\n",
       "      <td>1</td>\n",
       "      <td>0</td>\n",
       "      <td>red</td>\n",
       "      <td>0</td>\n",
       "      <td>0</td>\n",
       "      <td>0</td>\n",
       "      <td>0</td>\n",
       "      <td>1</td>\n",
       "      <td>0</td>\n",
       "      <td>0</td>\n",
       "      <td>0</td>\n",
       "      <td>1</td>\n",
       "      <td>0</td>\n",
       "      <td>red</td>\n",
       "      <td>red</td>\n",
       "    </tr>\n",
       "    <tr>\n",
       "      <th>2</th>\n",
       "      <td>Algeria</td>\n",
       "      <td>4</td>\n",
       "      <td>1</td>\n",
       "      <td>2388</td>\n",
       "      <td>20</td>\n",
       "      <td>8</td>\n",
       "      <td>2</td>\n",
       "      <td>2</td>\n",
       "      <td>0</td>\n",
       "      <td>3</td>\n",
       "      <td>1</td>\n",
       "      <td>1</td>\n",
       "      <td>0</td>\n",
       "      <td>0</td>\n",
       "      <td>1</td>\n",
       "      <td>0</td>\n",
       "      <td>0</td>\n",
       "      <td>green</td>\n",
       "      <td>0</td>\n",
       "      <td>0</td>\n",
       "      <td>0</td>\n",
       "      <td>0</td>\n",
       "      <td>1</td>\n",
       "      <td>1</td>\n",
       "      <td>0</td>\n",
       "      <td>0</td>\n",
       "      <td>0</td>\n",
       "      <td>0</td>\n",
       "      <td>green</td>\n",
       "      <td>white</td>\n",
       "    </tr>\n",
       "    <tr>\n",
       "      <th>3</th>\n",
       "      <td>American-Samoa</td>\n",
       "      <td>6</td>\n",
       "      <td>3</td>\n",
       "      <td>0</td>\n",
       "      <td>0</td>\n",
       "      <td>1</td>\n",
       "      <td>1</td>\n",
       "      <td>0</td>\n",
       "      <td>0</td>\n",
       "      <td>5</td>\n",
       "      <td>1</td>\n",
       "      <td>0</td>\n",
       "      <td>1</td>\n",
       "      <td>1</td>\n",
       "      <td>1</td>\n",
       "      <td>0</td>\n",
       "      <td>1</td>\n",
       "      <td>blue</td>\n",
       "      <td>0</td>\n",
       "      <td>0</td>\n",
       "      <td>0</td>\n",
       "      <td>0</td>\n",
       "      <td>0</td>\n",
       "      <td>0</td>\n",
       "      <td>1</td>\n",
       "      <td>1</td>\n",
       "      <td>1</td>\n",
       "      <td>0</td>\n",
       "      <td>blue</td>\n",
       "      <td>red</td>\n",
       "    </tr>\n",
       "    <tr>\n",
       "      <th>4</th>\n",
       "      <td>Andorra</td>\n",
       "      <td>3</td>\n",
       "      <td>1</td>\n",
       "      <td>0</td>\n",
       "      <td>0</td>\n",
       "      <td>6</td>\n",
       "      <td>0</td>\n",
       "      <td>3</td>\n",
       "      <td>0</td>\n",
       "      <td>3</td>\n",
       "      <td>1</td>\n",
       "      <td>0</td>\n",
       "      <td>1</td>\n",
       "      <td>1</td>\n",
       "      <td>0</td>\n",
       "      <td>0</td>\n",
       "      <td>0</td>\n",
       "      <td>gold</td>\n",
       "      <td>0</td>\n",
       "      <td>0</td>\n",
       "      <td>0</td>\n",
       "      <td>0</td>\n",
       "      <td>0</td>\n",
       "      <td>0</td>\n",
       "      <td>0</td>\n",
       "      <td>0</td>\n",
       "      <td>0</td>\n",
       "      <td>0</td>\n",
       "      <td>blue</td>\n",
       "      <td>red</td>\n",
       "    </tr>\n",
       "  </tbody>\n",
       "</table>\n",
       "</div>"
      ],
      "text/plain": [
       "             name  landmass  zone  area  ...  animate  text  topleft  botright\n",
       "0     Afghanistan         5     1   648  ...        0     0    black     green\n",
       "1         Albania         3     1    29  ...        1     0      red       red\n",
       "2         Algeria         4     1  2388  ...        0     0    green     white\n",
       "3  American-Samoa         6     3     0  ...        1     0     blue       red\n",
       "4         Andorra         3     1     0  ...        0     0     blue       red\n",
       "\n",
       "[5 rows x 30 columns]"
      ]
     },
     "execution_count": 2,
     "metadata": {
      "tags": []
     },
     "output_type": "execute_result"
    }
   ],
   "source": [
    "# Keep on trying things until you get it. \n",
    "# If you really mess things up you can always just restart your runtime\n",
    "column_headers = ['name', 'landmass', 'zone', 'area', 'population', 'language', 'religion', 'bars', 'stripes', 'colors', 'red', 'green',\n",
    "                  'blue', 'gold', 'white', 'black', 'orange', 'mainhue', 'circles', 'crosses', 'saltires', 'quarters', 'sunstars', 'crescent',\n",
    "                  'triangle', 'icon', 'animate', 'text', 'topleft', 'botright']\n",
    "\n",
    "flags_df = pd.read_csv(flag_data_url, header=None, names=column_headers)\n",
    "flags_df.head()"
   ]
  },
  {
   "cell_type": "markdown",
   "metadata": {
    "colab_type": "text",
    "id": "-KRODapErmeM"
   },
   "source": [
    "## Challenge\n",
    "\n",
    "You'll get very good at reading documentation, Googling, asking for help, troubleshooting, debugging, etc. by the time you're done here at Lambda School. Our goal is to turn you into a data scientist that can solve their own problems. "
   ]
  },
  {
   "cell_type": "markdown",
   "metadata": {
    "colab_type": "text",
    "id": "Hi71j4Y-Oj1q"
   },
   "source": [
    "# [Objective](#load-csv-from-file) - Load a dataset (CSV) from a local file"
   ]
  },
  {
   "cell_type": "markdown",
   "metadata": {
    "colab_type": "text",
    "id": "a2FqWlMhloY3"
   },
   "source": [
    "## Overview\n",
    "\n",
    "We won't always have CSVs hosted on the interwebs for us. We need to be able to upload files from our local machines as well. With Google Colab this is trickier than it is with other software (like Jupyter Notebooks for example. Because the main file system backing Google Colab is Google Drive, we can't use a filepath to the file on our computers in order to access our data. We have to upload our files to Google Colab before we can start working with them."
   ]
  },
  {
   "cell_type": "markdown",
   "metadata": {
    "colab_type": "text",
    "id": "jpm_rVwHlnOt"
   },
   "source": [
    "## Follow Along"
   ]
  },
  {
   "cell_type": "markdown",
   "metadata": {
    "colab_type": "text",
    "id": "9ocDcrXWhceM"
   },
   "source": [
    "### Method 1: Google Colab File Upload Package\n",
    "- What should we google to try and figure this out?"
   ]
  },
  {
   "cell_type": "code",
   "execution_count": 0,
   "metadata": {
    "colab": {},
    "colab_type": "code",
    "id": "_HQlN7vIhtZe"
   },
   "outputs": [],
   "source": []
  },
  {
   "cell_type": "markdown",
   "metadata": {
    "colab_type": "text",
    "id": "sqmNtickhoP_"
   },
   "source": [
    "### Method 2: Use the GUI (Graphical User Interface)"
   ]
  },
  {
   "cell_type": "code",
   "execution_count": 0,
   "metadata": {
    "colab": {},
    "colab_type": "code",
    "id": "SliGiU1zhbea"
   },
   "outputs": [],
   "source": []
  },
  {
   "cell_type": "markdown",
   "metadata": {
    "colab_type": "text",
    "id": "A-jXtl0Er8EM"
   },
   "source": [
    "## Challenge\n",
    "\n",
    "On the assignment this afternoon you'll get to choose a new dataset and try both of these methods, we will load hundreds of datasets into notebooks by the time the class is over, you'll be pro at it in no time."
   ]
  },
  {
   "cell_type": "markdown",
   "metadata": {
    "colab_type": "text",
    "id": "5iFyoAdDOoqu"
   },
   "source": [
    "# [Objective](#basic-pandas-functions) - Use basic Pandas functions for Exploratory Data Analysis (EDA)"
   ]
  },
  {
   "cell_type": "markdown",
   "metadata": {
    "colab_type": "text",
    "id": "k9DobU7dqILL"
   },
   "source": [
    "## Overview\n",
    "\n",
    "> Exploratory Data Analysis (EDA) refers to the critical process of performing initial investigations on data so as to discover patterns, to spot anomalies, to test hypotheses and to check assumptions with the help of summary statistics and graphical representations\n",
    "\n",
    "Exploratory Data Analysis is often the first thing that we'll do when starting out with a new dataset. How we treat our data, the models we choose, the approach we take to analyzing our data and in large part the entirety of our data science methodology and next steps are driven by the discoveries that we make during this stage of the process. "
   ]
  },
  {
   "cell_type": "markdown",
   "metadata": {
    "colab_type": "text",
    "id": "iRBUyBOWog7X"
   },
   "source": [
    "## Follow Along\n",
    "\n",
    "What can we discover about this dataset?\n",
    "\n",
    "- df.shape\n",
    "- df.head()\n",
    "- df.dtypes\n",
    "- df.describe()\n",
    " - Numeric\n",
    " - Non-Numeric\n",
    "- df['column'].value_counts()\n",
    "- df.isnull().sum()\n",
    "- df.fillna()\n",
    "- df.dropna()\n",
    "- df.drop()\n",
    "- pd.crosstab()"
   ]
  },
  {
   "cell_type": "code",
   "execution_count": 0,
   "metadata": {
    "colab": {},
    "colab_type": "code",
    "id": "cGU_UjFKpGsE"
   },
   "outputs": [],
   "source": [
    "# Lets try reading in a new dataset: The Adult Dataset\n",
    "# https://archive.ics.uci.edu/ml/datasets/adult"
   ]
  },
  {
   "cell_type": "code",
   "execution_count": 0,
   "metadata": {
    "colab": {},
    "colab_type": "code",
    "id": "XJyni24kknaR"
   },
   "outputs": [],
   "source": [
    "data_url = 'https://archive.ics.uci.edu/ml/machine-learning-databases/adult/adult.data'"
   ]
  },
  {
   "cell_type": "code",
   "execution_count": 0,
   "metadata": {
    "colab": {},
    "colab_type": "code",
    "id": "fSrQwxj5kn1g"
   },
   "outputs": [],
   "source": [
    "column_headers2=['age', 'workclass', 'fnlwgt', 'education', 'education-num', 'marital-status', 'occupation', 'relationship',\n",
    "                 'race', 'sex', 'capital-gain', 'capital-loss', 'hours-per-week', 'native-country', 'income']"
   ]
  },
  {
   "cell_type": "code",
   "execution_count": 0,
   "metadata": {
    "colab": {
     "base_uri": "https://localhost:8080/",
     "height": 247
    },
    "colab_type": "code",
    "id": "kXFMoQpEkmAA",
    "outputId": "956c2d44-8524-4816-b05c-827fa37063fd"
   },
   "outputs": [
    {
     "data": {
      "text/html": [
       "<div>\n",
       "<style scoped>\n",
       "    .dataframe tbody tr th:only-of-type {\n",
       "        vertical-align: middle;\n",
       "    }\n",
       "\n",
       "    .dataframe tbody tr th {\n",
       "        vertical-align: top;\n",
       "    }\n",
       "\n",
       "    .dataframe thead th {\n",
       "        text-align: right;\n",
       "    }\n",
       "</style>\n",
       "<table border=\"1\" class=\"dataframe\">\n",
       "  <thead>\n",
       "    <tr style=\"text-align: right;\">\n",
       "      <th></th>\n",
       "      <th>age</th>\n",
       "      <th>workclass</th>\n",
       "      <th>fnlwgt</th>\n",
       "      <th>education</th>\n",
       "      <th>education-num</th>\n",
       "      <th>marital-status</th>\n",
       "      <th>occupation</th>\n",
       "      <th>relationship</th>\n",
       "      <th>race</th>\n",
       "      <th>sex</th>\n",
       "      <th>capital-gain</th>\n",
       "      <th>capital-loss</th>\n",
       "      <th>hours-per-week</th>\n",
       "      <th>native-country</th>\n",
       "      <th>income</th>\n",
       "    </tr>\n",
       "  </thead>\n",
       "  <tbody>\n",
       "    <tr>\n",
       "      <th>0</th>\n",
       "      <td>39</td>\n",
       "      <td>State-gov</td>\n",
       "      <td>77516</td>\n",
       "      <td>Bachelors</td>\n",
       "      <td>13</td>\n",
       "      <td>Never-married</td>\n",
       "      <td>Adm-clerical</td>\n",
       "      <td>Not-in-family</td>\n",
       "      <td>White</td>\n",
       "      <td>Male</td>\n",
       "      <td>2174</td>\n",
       "      <td>0</td>\n",
       "      <td>40</td>\n",
       "      <td>United-States</td>\n",
       "      <td>&lt;=50K</td>\n",
       "    </tr>\n",
       "    <tr>\n",
       "      <th>1</th>\n",
       "      <td>50</td>\n",
       "      <td>Self-emp-not-inc</td>\n",
       "      <td>83311</td>\n",
       "      <td>Bachelors</td>\n",
       "      <td>13</td>\n",
       "      <td>Married-civ-spouse</td>\n",
       "      <td>Exec-managerial</td>\n",
       "      <td>Husband</td>\n",
       "      <td>White</td>\n",
       "      <td>Male</td>\n",
       "      <td>0</td>\n",
       "      <td>0</td>\n",
       "      <td>13</td>\n",
       "      <td>United-States</td>\n",
       "      <td>&lt;=50K</td>\n",
       "    </tr>\n",
       "    <tr>\n",
       "      <th>2</th>\n",
       "      <td>38</td>\n",
       "      <td>Private</td>\n",
       "      <td>215646</td>\n",
       "      <td>HS-grad</td>\n",
       "      <td>9</td>\n",
       "      <td>Divorced</td>\n",
       "      <td>Handlers-cleaners</td>\n",
       "      <td>Not-in-family</td>\n",
       "      <td>White</td>\n",
       "      <td>Male</td>\n",
       "      <td>0</td>\n",
       "      <td>0</td>\n",
       "      <td>40</td>\n",
       "      <td>United-States</td>\n",
       "      <td>&lt;=50K</td>\n",
       "    </tr>\n",
       "  </tbody>\n",
       "</table>\n",
       "</div>"
      ],
      "text/plain": [
       "   age          workclass  fnlwgt  ... hours-per-week  native-country  income\n",
       "0   39          State-gov   77516  ...             40   United-States   <=50K\n",
       "1   50   Self-emp-not-inc   83311  ...             13   United-States   <=50K\n",
       "2   38            Private  215646  ...             40   United-States   <=50K\n",
       "\n",
       "[3 rows x 15 columns]"
      ]
     },
     "execution_count": 55,
     "metadata": {
      "tags": []
     },
     "output_type": "execute_result"
    }
   ],
   "source": [
    "work_df = pd.read_csv(data_url, header=None, names=column_headers2)\n",
    "work_df.head(3)"
   ]
  },
  {
   "cell_type": "code",
   "execution_count": 0,
   "metadata": {
    "colab": {
     "base_uri": "https://localhost:8080/",
     "height": 35
    },
    "colab_type": "code",
    "id": "lHT_6d0PmJIK",
    "outputId": "191b2216-4110-4fe1-a93a-e488a709edc3"
   },
   "outputs": [
    {
     "data": {
      "text/plain": [
       "(32561, 15)"
      ]
     },
     "execution_count": 10,
     "metadata": {
      "tags": []
     },
     "output_type": "execute_result"
    }
   ],
   "source": [
    "# data exploration techniques\n",
    "# what is the shape of the dataframe?\n",
    "work_df.shape"
   ]
  },
  {
   "cell_type": "code",
   "execution_count": 0,
   "metadata": {
    "colab": {
     "base_uri": "https://localhost:8080/",
     "height": 104
    },
    "colab_type": "code",
    "id": "ordk4pDZmJYJ",
    "outputId": "421adb3c-aca6-4dd6-d481-778750f9a1fb"
   },
   "outputs": [
    {
     "data": {
      "text/plain": [
       "Index(['age', 'workclass', 'fnlwgt', 'education', 'education-num',\n",
       "       'marital-status', 'occupation', 'relationship', 'race', 'sex',\n",
       "       'capital-gain', 'capital-loss', 'hours-per-week', 'native-country',\n",
       "       'income'],\n",
       "      dtype='object')"
      ]
     },
     "execution_count": 11,
     "metadata": {
      "tags": []
     },
     "output_type": "execute_result"
    }
   ],
   "source": [
    "work_df.columns"
   ]
  },
  {
   "cell_type": "code",
   "execution_count": 0,
   "metadata": {
    "colab": {
     "base_uri": "https://localhost:8080/",
     "height": 295
    },
    "colab_type": "code",
    "id": "VUAdCMt4mJot",
    "outputId": "6eaa5621-aec0-4661-ff74-efeecd491c47"
   },
   "outputs": [
    {
     "data": {
      "text/plain": [
       "age                int64\n",
       "workclass         object\n",
       "fnlwgt             int64\n",
       "education         object\n",
       "education-num      int64\n",
       "marital-status    object\n",
       "occupation        object\n",
       "relationship      object\n",
       "race              object\n",
       "sex               object\n",
       "capital-gain       int64\n",
       "capital-loss       int64\n",
       "hours-per-week     int64\n",
       "native-country    object\n",
       "income            object\n",
       "dtype: object"
      ]
     },
     "execution_count": 12,
     "metadata": {
      "tags": []
     },
     "output_type": "execute_result"
    }
   ],
   "source": [
    "# what are the data types?\n",
    "work_df.dtypes"
   ]
  },
  {
   "cell_type": "code",
   "execution_count": 0,
   "metadata": {
    "colab": {
     "base_uri": "https://localhost:8080/",
     "height": 294
    },
    "colab_type": "code",
    "id": "6mEU_C6hmJ5g",
    "outputId": "e105c2f0-349c-4cb7-8ddd-b279f23760c0"
   },
   "outputs": [
    {
     "data": {
      "text/html": [
       "<div>\n",
       "<style scoped>\n",
       "    .dataframe tbody tr th:only-of-type {\n",
       "        vertical-align: middle;\n",
       "    }\n",
       "\n",
       "    .dataframe tbody tr th {\n",
       "        vertical-align: top;\n",
       "    }\n",
       "\n",
       "    .dataframe thead th {\n",
       "        text-align: right;\n",
       "    }\n",
       "</style>\n",
       "<table border=\"1\" class=\"dataframe\">\n",
       "  <thead>\n",
       "    <tr style=\"text-align: right;\">\n",
       "      <th></th>\n",
       "      <th>age</th>\n",
       "      <th>fnlwgt</th>\n",
       "      <th>education-num</th>\n",
       "      <th>capital-gain</th>\n",
       "      <th>capital-loss</th>\n",
       "      <th>hours-per-week</th>\n",
       "    </tr>\n",
       "  </thead>\n",
       "  <tbody>\n",
       "    <tr>\n",
       "      <th>count</th>\n",
       "      <td>32561.000000</td>\n",
       "      <td>3.256100e+04</td>\n",
       "      <td>32561.000000</td>\n",
       "      <td>32561.000000</td>\n",
       "      <td>32561.000000</td>\n",
       "      <td>32561.000000</td>\n",
       "    </tr>\n",
       "    <tr>\n",
       "      <th>mean</th>\n",
       "      <td>38.581647</td>\n",
       "      <td>1.897784e+05</td>\n",
       "      <td>10.080679</td>\n",
       "      <td>1077.648844</td>\n",
       "      <td>87.303830</td>\n",
       "      <td>40.437456</td>\n",
       "    </tr>\n",
       "    <tr>\n",
       "      <th>std</th>\n",
       "      <td>13.640433</td>\n",
       "      <td>1.055500e+05</td>\n",
       "      <td>2.572720</td>\n",
       "      <td>7385.292085</td>\n",
       "      <td>402.960219</td>\n",
       "      <td>12.347429</td>\n",
       "    </tr>\n",
       "    <tr>\n",
       "      <th>min</th>\n",
       "      <td>17.000000</td>\n",
       "      <td>1.228500e+04</td>\n",
       "      <td>1.000000</td>\n",
       "      <td>0.000000</td>\n",
       "      <td>0.000000</td>\n",
       "      <td>1.000000</td>\n",
       "    </tr>\n",
       "    <tr>\n",
       "      <th>25%</th>\n",
       "      <td>28.000000</td>\n",
       "      <td>1.178270e+05</td>\n",
       "      <td>9.000000</td>\n",
       "      <td>0.000000</td>\n",
       "      <td>0.000000</td>\n",
       "      <td>40.000000</td>\n",
       "    </tr>\n",
       "    <tr>\n",
       "      <th>50%</th>\n",
       "      <td>37.000000</td>\n",
       "      <td>1.783560e+05</td>\n",
       "      <td>10.000000</td>\n",
       "      <td>0.000000</td>\n",
       "      <td>0.000000</td>\n",
       "      <td>40.000000</td>\n",
       "    </tr>\n",
       "    <tr>\n",
       "      <th>75%</th>\n",
       "      <td>48.000000</td>\n",
       "      <td>2.370510e+05</td>\n",
       "      <td>12.000000</td>\n",
       "      <td>0.000000</td>\n",
       "      <td>0.000000</td>\n",
       "      <td>45.000000</td>\n",
       "    </tr>\n",
       "    <tr>\n",
       "      <th>max</th>\n",
       "      <td>90.000000</td>\n",
       "      <td>1.484705e+06</td>\n",
       "      <td>16.000000</td>\n",
       "      <td>99999.000000</td>\n",
       "      <td>4356.000000</td>\n",
       "      <td>99.000000</td>\n",
       "    </tr>\n",
       "  </tbody>\n",
       "</table>\n",
       "</div>"
      ],
      "text/plain": [
       "                age        fnlwgt  ...  capital-loss  hours-per-week\n",
       "count  32561.000000  3.256100e+04  ...  32561.000000    32561.000000\n",
       "mean      38.581647  1.897784e+05  ...     87.303830       40.437456\n",
       "std       13.640433  1.055500e+05  ...    402.960219       12.347429\n",
       "min       17.000000  1.228500e+04  ...      0.000000        1.000000\n",
       "25%       28.000000  1.178270e+05  ...      0.000000       40.000000\n",
       "50%       37.000000  1.783560e+05  ...      0.000000       40.000000\n",
       "75%       48.000000  2.370510e+05  ...      0.000000       45.000000\n",
       "max       90.000000  1.484705e+06  ...   4356.000000       99.000000\n",
       "\n",
       "[8 rows x 6 columns]"
      ]
     },
     "execution_count": 13,
     "metadata": {
      "tags": []
     },
     "output_type": "execute_result"
    }
   ],
   "source": [
    "# high-level stats about our data\n",
    "work_df.describe()"
   ]
  },
  {
   "cell_type": "code",
   "execution_count": 0,
   "metadata": {
    "colab": {
     "base_uri": "https://localhost:8080/",
     "height": 206
    },
    "colab_type": "code",
    "id": "8MoLrY20mKGl",
    "outputId": "ee5159cc-359e-488a-8c78-dd84bc302b24"
   },
   "outputs": [
    {
     "data": {
      "text/html": [
       "<div>\n",
       "<style scoped>\n",
       "    .dataframe tbody tr th:only-of-type {\n",
       "        vertical-align: middle;\n",
       "    }\n",
       "\n",
       "    .dataframe tbody tr th {\n",
       "        vertical-align: top;\n",
       "    }\n",
       "\n",
       "    .dataframe thead th {\n",
       "        text-align: right;\n",
       "    }\n",
       "</style>\n",
       "<table border=\"1\" class=\"dataframe\">\n",
       "  <thead>\n",
       "    <tr style=\"text-align: right;\">\n",
       "      <th></th>\n",
       "      <th>workclass</th>\n",
       "      <th>education</th>\n",
       "      <th>marital-status</th>\n",
       "      <th>occupation</th>\n",
       "      <th>relationship</th>\n",
       "      <th>race</th>\n",
       "      <th>sex</th>\n",
       "      <th>native-country</th>\n",
       "      <th>income</th>\n",
       "    </tr>\n",
       "  </thead>\n",
       "  <tbody>\n",
       "    <tr>\n",
       "      <th>count</th>\n",
       "      <td>32561</td>\n",
       "      <td>32561</td>\n",
       "      <td>32561</td>\n",
       "      <td>32561</td>\n",
       "      <td>32561</td>\n",
       "      <td>32561</td>\n",
       "      <td>32561</td>\n",
       "      <td>32561</td>\n",
       "      <td>32561</td>\n",
       "    </tr>\n",
       "    <tr>\n",
       "      <th>unique</th>\n",
       "      <td>9</td>\n",
       "      <td>16</td>\n",
       "      <td>7</td>\n",
       "      <td>15</td>\n",
       "      <td>6</td>\n",
       "      <td>5</td>\n",
       "      <td>2</td>\n",
       "      <td>42</td>\n",
       "      <td>2</td>\n",
       "    </tr>\n",
       "    <tr>\n",
       "      <th>top</th>\n",
       "      <td>Private</td>\n",
       "      <td>HS-grad</td>\n",
       "      <td>Married-civ-spouse</td>\n",
       "      <td>Prof-specialty</td>\n",
       "      <td>Husband</td>\n",
       "      <td>White</td>\n",
       "      <td>Male</td>\n",
       "      <td>United-States</td>\n",
       "      <td>&lt;=50K</td>\n",
       "    </tr>\n",
       "    <tr>\n",
       "      <th>freq</th>\n",
       "      <td>22696</td>\n",
       "      <td>10501</td>\n",
       "      <td>14976</td>\n",
       "      <td>4140</td>\n",
       "      <td>13193</td>\n",
       "      <td>27816</td>\n",
       "      <td>21790</td>\n",
       "      <td>29170</td>\n",
       "      <td>24720</td>\n",
       "    </tr>\n",
       "  </tbody>\n",
       "</table>\n",
       "</div>"
      ],
      "text/plain": [
       "       workclass education       marital-status  ...    sex  native-country  income\n",
       "count      32561     32561                32561  ...  32561           32561   32561\n",
       "unique         9        16                    7  ...      2              42       2\n",
       "top      Private   HS-grad   Married-civ-spouse  ...   Male   United-States   <=50K\n",
       "freq       22696     10501                14976  ...  21790           29170   24720\n",
       "\n",
       "[4 rows x 9 columns]"
      ]
     },
     "execution_count": 14,
     "metadata": {
      "tags": []
     },
     "output_type": "execute_result"
    }
   ],
   "source": [
    "# what about non-numeric?\n",
    "work_df.describe(exclude = 'number')"
   ]
  },
  {
   "cell_type": "code",
   "execution_count": 0,
   "metadata": {
    "colab": {
     "base_uri": "https://localhost:8080/",
     "height": 141
    },
    "colab_type": "code",
    "id": "i02mOhxumKS5",
    "outputId": "30d420b5-2c5f-4e7e-bd8c-bf5a3040e75d"
   },
   "outputs": [
    {
     "data": {
      "text/html": [
       "<div>\n",
       "<style scoped>\n",
       "    .dataframe tbody tr th:only-of-type {\n",
       "        vertical-align: middle;\n",
       "    }\n",
       "\n",
       "    .dataframe tbody tr th {\n",
       "        vertical-align: top;\n",
       "    }\n",
       "\n",
       "    .dataframe thead th {\n",
       "        text-align: right;\n",
       "    }\n",
       "</style>\n",
       "<table border=\"1\" class=\"dataframe\">\n",
       "  <thead>\n",
       "    <tr style=\"text-align: right;\">\n",
       "      <th></th>\n",
       "      <th>occupation</th>\n",
       "      <th>native-country</th>\n",
       "      <th>sex</th>\n",
       "      <th>race</th>\n",
       "    </tr>\n",
       "  </thead>\n",
       "  <tbody>\n",
       "    <tr>\n",
       "      <th>21121</th>\n",
       "      <td>Other-service</td>\n",
       "      <td>United-States</td>\n",
       "      <td>Male</td>\n",
       "      <td>White</td>\n",
       "    </tr>\n",
       "    <tr>\n",
       "      <th>26772</th>\n",
       "      <td>Farming-fishing</td>\n",
       "      <td>Mexico</td>\n",
       "      <td>Male</td>\n",
       "      <td>White</td>\n",
       "    </tr>\n",
       "    <tr>\n",
       "      <th>2328</th>\n",
       "      <td>Farming-fishing</td>\n",
       "      <td>United-States</td>\n",
       "      <td>Male</td>\n",
       "      <td>White</td>\n",
       "    </tr>\n",
       "  </tbody>\n",
       "</table>\n",
       "</div>"
      ],
      "text/plain": [
       "             occupation  native-country    sex    race\n",
       "21121     Other-service   United-States   Male   White\n",
       "26772   Farming-fishing          Mexico   Male   White\n",
       "2328    Farming-fishing   United-States   Male   White"
      ]
     },
     "execution_count": 22,
     "metadata": {
      "tags": []
     },
     "output_type": "execute_result"
    }
   ],
   "source": [
    "# call a single column?\n",
    "work_df[['occupation', 'native-country', 'sex', 'race']].sample(3)"
   ]
  },
  {
   "cell_type": "code",
   "execution_count": 0,
   "metadata": {
    "colab": {
     "base_uri": "https://localhost:8080/",
     "height": 121
    },
    "colab_type": "code",
    "id": "79uD3p6OoHJm",
    "outputId": "471e1b3c-b68a-4ad3-b0ec-6b817d4b083a"
   },
   "outputs": [
    {
     "data": {
      "text/plain": [
       " United-States    29170\n",
       " Mexico             643\n",
       " ?                  583\n",
       " Philippines        198\n",
       " Germany            137\n",
       "Name: native-country, dtype: int64"
      ]
     },
     "execution_count": 42,
     "metadata": {
      "tags": []
     },
     "output_type": "execute_result"
    }
   ],
   "source": [
    "# top values from a single column?\n",
    "work_df['native-country'].value_counts().head()"
   ]
  },
  {
   "cell_type": "code",
   "execution_count": 0,
   "metadata": {
    "colab": {
     "base_uri": "https://localhost:8080/",
     "height": 121
    },
    "colab_type": "code",
    "id": "CP0CF45xoHZU",
    "outputId": "4d0d2c65-1da1-42f8-d36d-c47b2e741103"
   },
   "outputs": [
    {
     "data": {
      "text/plain": [
       " Holand-Netherlands             1\n",
       " Scotland                      12\n",
       " Hungary                       13\n",
       " Honduras                      13\n",
       " Outlying-US(Guam-USVI-etc)    14\n",
       "Name: native-country, dtype: int64"
      ]
     },
     "execution_count": 28,
     "metadata": {
      "tags": []
     },
     "output_type": "execute_result"
    }
   ],
   "source": [
    "# sort my values\n",
    "work_df['native-country'].value_counts().sort_values(ascending=True).head()"
   ]
  },
  {
   "cell_type": "code",
   "execution_count": 0,
   "metadata": {
    "colab": {
     "base_uri": "https://localhost:8080/",
     "height": 173
    },
    "colab_type": "code",
    "id": "SPHDVZj_oHnV",
    "outputId": "b3cc470f-5155-471a-d0cc-0d7241420acf"
   },
   "outputs": [
    {
     "data": {
      "text/plain": [
       "count        8.000000\n",
       "mean      3884.000000\n",
       "std      10219.417344\n",
       "min        106.000000\n",
       "25%        119.250000\n",
       "50%        167.500000\n",
       "75%        598.000000\n",
       "max      29170.000000\n",
       "Name: native-country, dtype: float64"
      ]
     },
     "execution_count": 30,
     "metadata": {
      "tags": []
     },
     "output_type": "execute_result"
    }
   ],
   "source": [
    "# descrive those values\n",
    "work_df['native-country'].value_counts().head(8).describe()"
   ]
  },
  {
   "cell_type": "code",
   "execution_count": 0,
   "metadata": {
    "colab": {
     "base_uri": "https://localhost:8080/",
     "height": 121
    },
    "colab_type": "code",
    "id": "SUOQgWVSoH1F",
    "outputId": "00f04fa2-4ad0-447b-8149-bacaa8d549a6"
   },
   "outputs": [
    {
     "data": {
      "text/plain": [
       " United-States    29170\n",
       " Mexico             643\n",
       " ?                  583\n",
       " Philippines        198\n",
       " Germany            137\n",
       "Name: native-country, dtype: int64"
      ]
     },
     "execution_count": 31,
     "metadata": {
      "tags": []
     },
     "output_type": "execute_result"
    }
   ],
   "source": [
    "# unknown country\n",
    "work_df['native-country'].value_counts().head()"
   ]
  },
  {
   "cell_type": "code",
   "execution_count": 0,
   "metadata": {
    "colab": {
     "base_uri": "https://localhost:8080/",
     "height": 329
    },
    "colab_type": "code",
    "id": "6tfIsVLoq0f5",
    "outputId": "ecff3640-a860-4ffe-f02b-7692bb8956aa"
   },
   "outputs": [
    {
     "ename": "IndexingError",
     "evalue": "ignored",
     "output_type": "error",
     "traceback": [
      "\u001b[0;31m---------------------------------------------------------------------------\u001b[0m",
      "\u001b[0;31mIndexingError\u001b[0m                             Traceback (most recent call last)",
      "\u001b[0;32m<ipython-input-48-184f47478913>\u001b[0m in \u001b[0;36m<module>\u001b[0;34m()\u001b[0m\n\u001b[1;32m      1\u001b[0m \u001b[0msubset\u001b[0m \u001b[0;34m=\u001b[0m \u001b[0mwork_df\u001b[0m\u001b[0;34m[\u001b[0m\u001b[0;34m'native-country'\u001b[0m\u001b[0;34m]\u001b[0m\u001b[0;34m.\u001b[0m\u001b[0mvalue_counts\u001b[0m\u001b[0;34m(\u001b[0m\u001b[0;34m)\u001b[0m\u001b[0;34m.\u001b[0m\u001b[0mhead\u001b[0m\u001b[0;34m(\u001b[0m\u001b[0;34m)\u001b[0m\u001b[0;34m\u001b[0m\u001b[0;34m\u001b[0m\u001b[0m\n\u001b[0;32m----> 2\u001b[0;31m \u001b[0msubset\u001b[0m\u001b[0;34m.\u001b[0m\u001b[0miloc\u001b[0m\u001b[0;34m[\u001b[0m\u001b[0;36m0\u001b[0m\u001b[0;34m,\u001b[0m \u001b[0;36m2\u001b[0m\u001b[0;34m]\u001b[0m\u001b[0;34m\u001b[0m\u001b[0;34m\u001b[0m\u001b[0m\n\u001b[0m",
      "\u001b[0;32m/usr/local/lib/python3.6/dist-packages/pandas/core/indexing.py\u001b[0m in \u001b[0;36m__getitem__\u001b[0;34m(self, key)\u001b[0m\n\u001b[1;32m   1416\u001b[0m                 \u001b[0;32mexcept\u001b[0m \u001b[0;34m(\u001b[0m\u001b[0mKeyError\u001b[0m\u001b[0;34m,\u001b[0m \u001b[0mIndexError\u001b[0m\u001b[0;34m,\u001b[0m \u001b[0mAttributeError\u001b[0m\u001b[0;34m)\u001b[0m\u001b[0;34m:\u001b[0m\u001b[0;34m\u001b[0m\u001b[0;34m\u001b[0m\u001b[0m\n\u001b[1;32m   1417\u001b[0m                     \u001b[0;32mpass\u001b[0m\u001b[0;34m\u001b[0m\u001b[0;34m\u001b[0m\u001b[0m\n\u001b[0;32m-> 1418\u001b[0;31m             \u001b[0;32mreturn\u001b[0m \u001b[0mself\u001b[0m\u001b[0;34m.\u001b[0m\u001b[0m_getitem_tuple\u001b[0m\u001b[0;34m(\u001b[0m\u001b[0mkey\u001b[0m\u001b[0;34m)\u001b[0m\u001b[0;34m\u001b[0m\u001b[0;34m\u001b[0m\u001b[0m\n\u001b[0m\u001b[1;32m   1419\u001b[0m         \u001b[0;32melse\u001b[0m\u001b[0;34m:\u001b[0m\u001b[0;34m\u001b[0m\u001b[0;34m\u001b[0m\u001b[0m\n\u001b[1;32m   1420\u001b[0m             \u001b[0;31m# we by definition only have the 0th axis\u001b[0m\u001b[0;34m\u001b[0m\u001b[0;34m\u001b[0m\u001b[0;34m\u001b[0m\u001b[0m\n",
      "\u001b[0;32m/usr/local/lib/python3.6/dist-packages/pandas/core/indexing.py\u001b[0m in \u001b[0;36m_getitem_tuple\u001b[0;34m(self, tup)\u001b[0m\n\u001b[1;32m   2090\u001b[0m     \u001b[0;32mdef\u001b[0m \u001b[0m_getitem_tuple\u001b[0m\u001b[0;34m(\u001b[0m\u001b[0mself\u001b[0m\u001b[0;34m,\u001b[0m \u001b[0mtup\u001b[0m\u001b[0;34m)\u001b[0m\u001b[0;34m:\u001b[0m\u001b[0;34m\u001b[0m\u001b[0;34m\u001b[0m\u001b[0m\n\u001b[1;32m   2091\u001b[0m \u001b[0;34m\u001b[0m\u001b[0m\n\u001b[0;32m-> 2092\u001b[0;31m         \u001b[0mself\u001b[0m\u001b[0;34m.\u001b[0m\u001b[0m_has_valid_tuple\u001b[0m\u001b[0;34m(\u001b[0m\u001b[0mtup\u001b[0m\u001b[0;34m)\u001b[0m\u001b[0;34m\u001b[0m\u001b[0;34m\u001b[0m\u001b[0m\n\u001b[0m\u001b[1;32m   2093\u001b[0m         \u001b[0;32mtry\u001b[0m\u001b[0;34m:\u001b[0m\u001b[0;34m\u001b[0m\u001b[0;34m\u001b[0m\u001b[0m\n\u001b[1;32m   2094\u001b[0m             \u001b[0;32mreturn\u001b[0m \u001b[0mself\u001b[0m\u001b[0;34m.\u001b[0m\u001b[0m_getitem_lowerdim\u001b[0m\u001b[0;34m(\u001b[0m\u001b[0mtup\u001b[0m\u001b[0;34m)\u001b[0m\u001b[0;34m\u001b[0m\u001b[0;34m\u001b[0m\u001b[0m\n",
      "\u001b[0;32m/usr/local/lib/python3.6/dist-packages/pandas/core/indexing.py\u001b[0m in \u001b[0;36m_has_valid_tuple\u001b[0;34m(self, key)\u001b[0m\n\u001b[1;32m    231\u001b[0m         \u001b[0;32mfor\u001b[0m \u001b[0mi\u001b[0m\u001b[0;34m,\u001b[0m \u001b[0mk\u001b[0m \u001b[0;32min\u001b[0m \u001b[0menumerate\u001b[0m\u001b[0;34m(\u001b[0m\u001b[0mkey\u001b[0m\u001b[0;34m)\u001b[0m\u001b[0;34m:\u001b[0m\u001b[0;34m\u001b[0m\u001b[0;34m\u001b[0m\u001b[0m\n\u001b[1;32m    232\u001b[0m             \u001b[0;32mif\u001b[0m \u001b[0mi\u001b[0m \u001b[0;34m>=\u001b[0m \u001b[0mself\u001b[0m\u001b[0;34m.\u001b[0m\u001b[0mobj\u001b[0m\u001b[0;34m.\u001b[0m\u001b[0mndim\u001b[0m\u001b[0;34m:\u001b[0m\u001b[0;34m\u001b[0m\u001b[0;34m\u001b[0m\u001b[0m\n\u001b[0;32m--> 233\u001b[0;31m                 \u001b[0;32mraise\u001b[0m \u001b[0mIndexingError\u001b[0m\u001b[0;34m(\u001b[0m\u001b[0;34m\"Too many indexers\"\u001b[0m\u001b[0;34m)\u001b[0m\u001b[0;34m\u001b[0m\u001b[0;34m\u001b[0m\u001b[0m\n\u001b[0m\u001b[1;32m    234\u001b[0m             \u001b[0;32mtry\u001b[0m\u001b[0;34m:\u001b[0m\u001b[0;34m\u001b[0m\u001b[0;34m\u001b[0m\u001b[0m\n\u001b[1;32m    235\u001b[0m                 \u001b[0mself\u001b[0m\u001b[0;34m.\u001b[0m\u001b[0m_validate_key\u001b[0m\u001b[0;34m(\u001b[0m\u001b[0mk\u001b[0m\u001b[0;34m,\u001b[0m \u001b[0mi\u001b[0m\u001b[0;34m)\u001b[0m\u001b[0;34m\u001b[0m\u001b[0;34m\u001b[0m\u001b[0m\n",
      "\u001b[0;31mIndexingError\u001b[0m: Too many indexers"
     ]
    }
   ],
   "source": [
    "# examine the ?\n",
    "subset = work_df['native-country'].value_counts().head()\n",
    "subset.iloc[0, 2]"
   ]
  },
  {
   "cell_type": "code",
   "execution_count": 0,
   "metadata": {
    "colab": {
     "base_uri": "https://localhost:8080/",
     "height": 295
    },
    "colab_type": "code",
    "id": "vxxzlmwpoH_t",
    "outputId": "c08be439-9c89-43a9-e4d1-fe668a1c7511"
   },
   "outputs": [
    {
     "data": {
      "text/plain": [
       "age               0\n",
       "workclass         0\n",
       "fnlwgt            0\n",
       "education         0\n",
       "education-num     0\n",
       "marital-status    0\n",
       "occupation        0\n",
       "relationship      0\n",
       "race              0\n",
       "sex               0\n",
       "capital-gain      0\n",
       "capital-loss      0\n",
       "hours-per-week    0\n",
       "native-country    0\n",
       "income            0\n",
       "dtype: int64"
      ]
     },
     "execution_count": 49,
     "metadata": {
      "tags": []
     },
     "output_type": "execute_result"
    }
   ],
   "source": [
    "# what about missing data?\n",
    "# how much missing data do I have?\n",
    "work_df.isnull().sum()"
   ]
  },
  {
   "cell_type": "code",
   "execution_count": 0,
   "metadata": {
    "colab": {},
    "colab_type": "code",
    "id": "wvHogKTVoI0V"
   },
   "outputs": [],
   "source": [
    "# flag ? as missing\n",
    "import numpy as np\n",
    "work_df = work_df.replace(' ?', np.NaN)"
   ]
  },
  {
   "cell_type": "code",
   "execution_count": 0,
   "metadata": {
    "colab": {},
    "colab_type": "code",
    "id": "R3cIIr52qqX6"
   },
   "outputs": [],
   "source": []
  },
  {
   "cell_type": "code",
   "execution_count": 0,
   "metadata": {
    "colab": {
     "base_uri": "https://localhost:8080/",
     "height": 295
    },
    "colab_type": "code",
    "id": "uoJ7k57gqbub",
    "outputId": "5f24f984-66a5-4497-82ed-cf61a463eccc"
   },
   "outputs": [
    {
     "data": {
      "text/plain": [
       "age                  0\n",
       "workclass         1836\n",
       "fnlwgt               0\n",
       "education            0\n",
       "education-num        0\n",
       "marital-status       0\n",
       "occupation        1843\n",
       "relationship         0\n",
       "race                 0\n",
       "sex                  0\n",
       "capital-gain         0\n",
       "capital-loss         0\n",
       "hours-per-week       0\n",
       "native-country     583\n",
       "income               0\n",
       "dtype: int64"
      ]
     },
     "execution_count": 51,
     "metadata": {
      "tags": []
     },
     "output_type": "execute_result"
    }
   ],
   "source": [
    "# missing data appears \n",
    "work_df.isnull().sum()"
   ]
  },
  {
   "cell_type": "code",
   "execution_count": 0,
   "metadata": {
    "colab": {},
    "colab_type": "code",
    "id": "F3XP4sN7qb1c"
   },
   "outputs": [],
   "source": [
    "# everybody came from Scotland\n",
    "# how to handle missing data?\n",
    "# replace it\n",
    "work_df['native-country'] = work_df['native-country'].replace(np.NaN, 'Scotland')"
   ]
  },
  {
   "cell_type": "code",
   "execution_count": 0,
   "metadata": {
    "colab": {
     "base_uri": "https://localhost:8080/",
     "height": 121
    },
    "colab_type": "code",
    "id": "faijNozLqbzf",
    "outputId": "dc106e6b-ce6e-419e-f894-6699c09a75e2"
   },
   "outputs": [
    {
     "data": {
      "text/plain": [
       " United-States    29170\n",
       " Mexico             643\n",
       "Scotland            583\n",
       " Philippines        198\n",
       " Germany            137\n",
       "Name: native-country, dtype: int64"
      ]
     },
     "execution_count": 54,
     "metadata": {
      "tags": []
     },
     "output_type": "execute_result"
    }
   ],
   "source": [
    "work_df['native-country'].value_counts().head()"
   ]
  },
  {
   "cell_type": "code",
   "execution_count": 0,
   "metadata": {
    "colab": {
     "base_uri": "https://localhost:8080/",
     "height": 295
    },
    "colab_type": "code",
    "id": "woBmDBSjqbrF",
    "outputId": "ef93a7b5-ffa7-41f7-8e29-ad9b126a1e71"
   },
   "outputs": [
    {
     "data": {
      "text/plain": [
       "age                  0\n",
       "workclass         1836\n",
       "fnlwgt               0\n",
       "education            0\n",
       "education-num        0\n",
       "marital-status       0\n",
       "occupation        1843\n",
       "relationship         0\n",
       "race                 0\n",
       "sex                  0\n",
       "capital-gain         0\n",
       "capital-loss         0\n",
       "hours-per-week       0\n",
       "native-country     583\n",
       "income               0\n",
       "dtype: int64"
      ]
     },
     "execution_count": 57,
     "metadata": {
      "tags": []
     },
     "output_type": "execute_result"
    }
   ],
   "source": [
    "# simple get rid of missing data\n",
    "work_df = work_df.replace(' ?', np.NaN)\n",
    "work_df.isnull().sum()"
   ]
  },
  {
   "cell_type": "code",
   "execution_count": 0,
   "metadata": {
    "colab": {},
    "colab_type": "code",
    "id": "oML9ZdA1qboj"
   },
   "outputs": [],
   "source": [
    "# simply get rid of missing data\n",
    "work_df['native-country'].dropna(how='any', inplace=True)"
   ]
  },
  {
   "cell_type": "code",
   "execution_count": 0,
   "metadata": {
    "colab": {
     "base_uri": "https://localhost:8080/",
     "height": 35
    },
    "colab_type": "code",
    "id": "3cnFOAx7qblW",
    "outputId": "23974c61-2815-49c5-e6dc-3218690bb102"
   },
   "outputs": [
    {
     "data": {
      "text/plain": [
       "0"
      ]
     },
     "execution_count": 65,
     "metadata": {
      "tags": []
     },
     "output_type": "execute_result"
    }
   ],
   "source": [
    "work_df['native-country'].isnull().sum()"
   ]
  },
  {
   "cell_type": "markdown",
   "metadata": {
    "colab_type": "text",
    "id": "9zx_C0SKsNU7"
   },
   "source": [
    "## Challenge\n",
    "\n",
    "Hopefully a lot of the above functions are review for you from the precourse material, but if not, again, don't worry. We'll be using these again on the assignment and most days of class -whenever we need to wrap our head around a new dataset."
   ]
  },
  {
   "cell_type": "markdown",
   "metadata": {
    "colab_type": "text",
    "id": "9pQ5XKZMPA4b"
   },
   "source": [
    "# [Objective](#pandas-visualizations) Generate Basic Visualizations (graphs) with Pandas"
   ]
  },
  {
   "cell_type": "markdown",
   "metadata": {
    "colab_type": "text",
    "id": "mUdn5YhXqe3m"
   },
   "source": [
    "## Overview\n",
    "\n",
    "One of the cornerstones of Exploratory Data Analysis (EDA) is visualizing our data in order to understand their distributions and how they're interrelated. Our brains are amazing pattern detection machines and sometimes the \"eyeball test\" is the most efficient one. In this section we'll look at some of the most basic kinds of \"exploratory visualizations\" to help us better understand our data."
   ]
  },
  {
   "cell_type": "markdown",
   "metadata": {
    "colab_type": "text",
    "id": "CE1OpSBpljcU"
   },
   "source": [
    "## Follow Along\n",
    "\n",
    "Lets demonstrate creating a:\n",
    "\n",
    "- Line Plot\n",
    "- Histogram\n",
    "- Scatter Plot\n",
    "- Density Plot\n",
    "- Making plots of our crosstabs\n",
    "\n",
    "How does each of these plots show us something different about the data? \n",
    "\n",
    "Why might it be important for us to be able to visualize how our data is distributed?"
   ]
  },
  {
   "cell_type": "markdown",
   "metadata": {
    "colab_type": "text",
    "id": "-cPyM8eLlIQB"
   },
   "source": [
    "### Line Plot"
   ]
  },
  {
   "cell_type": "code",
   "execution_count": 0,
   "metadata": {
    "colab": {
     "base_uri": "https://localhost:8080/",
     "height": 173
    },
    "colab_type": "code",
    "id": "vGXfTAyJlU4J",
    "outputId": "2461605d-d474-4b86-cdd2-e2ed9cac0a90"
   },
   "outputs": [
    {
     "data": {
      "text/plain": [
       "count    32561.000000\n",
       "mean        38.581647\n",
       "std         13.640433\n",
       "min         17.000000\n",
       "25%         28.000000\n",
       "50%         37.000000\n",
       "75%         48.000000\n",
       "max         90.000000\n",
       "Name: age, dtype: float64"
      ]
     },
     "execution_count": 67,
     "metadata": {
      "tags": []
     },
     "output_type": "execute_result"
    }
   ],
   "source": [
    "work_df['age'].describe()"
   ]
  },
  {
   "cell_type": "code",
   "execution_count": 0,
   "metadata": {
    "colab": {
     "base_uri": "https://localhost:8080/",
     "height": 265
    },
    "colab_type": "code",
    "id": "oaIMgClzt0LM",
    "outputId": "57d44f30-2bf0-4ce0-a867-05e23eaedf43"
   },
   "outputs": [
    {
     "data": {
      "image/png": "iVBORw0KGgoAAAANSUhEUgAAAX0AAAD4CAYAAAAAczaOAAAABHNCSVQICAgIfAhkiAAAAAlwSFlz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\n",
      "text/plain": [
       "<Figure size 432x288 with 1 Axes>"
      ]
     },
     "metadata": {
      "tags": []
     },
     "output_type": "display_data"
    }
   ],
   "source": [
    "work_df['age'].value_counts().plot();"
   ]
  },
  {
   "cell_type": "code",
   "execution_count": 0,
   "metadata": {
    "colab": {},
    "colab_type": "code",
    "id": "7Erbnk8Wt0Xy"
   },
   "outputs": [],
   "source": []
  },
  {
   "cell_type": "markdown",
   "metadata": {
    "colab_type": "text",
    "id": "MvT2W_HulJuR"
   },
   "source": [
    "### Histogram"
   ]
  },
  {
   "cell_type": "code",
   "execution_count": 0,
   "metadata": {
    "colab": {
     "base_uri": "https://localhost:8080/",
     "height": 265
    },
    "colab_type": "code",
    "id": "GJg_yWrMlVRs",
    "outputId": "b71ed699-5dea-4307-99d3-cb63560f6f9c"
   },
   "outputs": [
    {
     "data": {
      "image/png": "iVBORw0KGgoAAAANSUhEUgAAAXcAAAD4CAYAAAAXUaZHAAAABHNCSVQICAgIfAhkiAAAAAlwSFlz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\n",
      "text/plain": [
       "<Figure size 432x288 with 1 Axes>"
      ]
     },
     "metadata": {
      "tags": []
     },
     "output_type": "display_data"
    }
   ],
   "source": [
    "work_df['age'].hist(bins=72);"
   ]
  },
  {
   "cell_type": "markdown",
   "metadata": {
    "colab_type": "text",
    "id": "P67iVO7ulK5J"
   },
   "source": [
    "### Scatter Plot\n"
   ]
  },
  {
   "cell_type": "code",
   "execution_count": 0,
   "metadata": {
    "colab": {
     "base_uri": "https://localhost:8080/",
     "height": 279
    },
    "colab_type": "code",
    "id": "Tz9J6YqnlV0j",
    "outputId": "cef22405-349e-4708-ccc9-e515ae3c8044"
   },
   "outputs": [
    {
     "data": {
      "image/png": "iVBORw0KGgoAAAANSUhEUgAAAYUAAAEGCAYAAACKB4k+AAAABHNCSVQICAgIfAhkiAAAAAlwSFlz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\nMAzDMEL+H8X/1YuEr51LAAAAAElFTkSuQmCC\n",
      "text/plain": [
       "<Figure size 432x288 with 1 Axes>"
      ]
     },
     "metadata": {
      "tags": []
     },
     "output_type": "display_data"
    }
   ],
   "source": [
    "work_df.plot.scatter('age', 'hours-per-week');"
   ]
  },
  {
   "cell_type": "markdown",
   "metadata": {
    "colab_type": "text",
    "id": "O5Q6uv49lOOZ"
   },
   "source": [
    "### Density Plot - Kernel Density Estimate (KDE)"
   ]
  },
  {
   "cell_type": "code",
   "execution_count": 0,
   "metadata": {
    "colab": {
     "base_uri": "https://localhost:8080/",
     "height": 265
    },
    "colab_type": "code",
    "id": "MBpB3NqjlWc8",
    "outputId": "ad694ad3-516b-4174-f162-fe28462de3fa"
   },
   "outputs": [
    {
     "data": {
      "image/png": "iVBORw0KGgoAAAANSUhEUgAAAY4AAAD4CAYAAAD7CAEUAAAABHNCSVQICAgIfAhkiAAAAAlwSFlz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\n",
      "text/plain": [
       "<Figure size 432x288 with 1 Axes>"
      ]
     },
     "metadata": {
      "tags": []
     },
     "output_type": "display_data"
    }
   ],
   "source": [
    "work_df['age'].plot.density();"
   ]
  },
  {
   "cell_type": "markdown",
   "metadata": {
    "colab_type": "text",
    "id": "1vwTB_8ZlQHl"
   },
   "source": [
    "### Plotting using Crosstabs"
   ]
  },
  {
   "cell_type": "code",
   "execution_count": 0,
   "metadata": {
    "colab": {
     "base_uri": "https://localhost:8080/",
     "height": 121
    },
    "colab_type": "code",
    "id": "agnXxQNrlXFC",
    "outputId": "8ee9a5cf-092f-43a9-a6c5-bd293d5ea6c0"
   },
   "outputs": [
    {
     "data": {
      "text/plain": [
       " White                 27816\n",
       " Black                  3124\n",
       " Asian-Pac-Islander     1039\n",
       " Amer-Indian-Eskimo      311\n",
       " Other                   271\n",
       "Name: race, dtype: int64"
      ]
     },
     "execution_count": 86,
     "metadata": {
      "tags": []
     },
     "output_type": "execute_result"
    }
   ],
   "source": [
    "work_df['race'].value_counts().head()"
   ]
  },
  {
   "cell_type": "code",
   "execution_count": 0,
   "metadata": {
    "colab": {
     "base_uri": "https://localhost:8080/",
     "height": 69
    },
    "colab_type": "code",
    "id": "xK9Sc4f5vasz",
    "outputId": "2219231e-f18d-4957-dd99-fdfb485c853c"
   },
   "outputs": [
    {
     "data": {
      "text/plain": [
       " Male      21790\n",
       " Female    10771\n",
       "Name: sex, dtype: int64"
      ]
     },
     "execution_count": 84,
     "metadata": {
      "tags": []
     },
     "output_type": "execute_result"
    }
   ],
   "source": [
    "work_df['sex'].value_counts()"
   ]
  },
  {
   "cell_type": "code",
   "execution_count": 0,
   "metadata": {
    "colab": {
     "base_uri": "https://localhost:8080/",
     "height": 233
    },
    "colab_type": "code",
    "id": "rohKetxgvaqc",
    "outputId": "533dbc5a-4f75-4a9a-9563-88e83ec1b99c"
   },
   "outputs": [
    {
     "data": {
      "text/html": [
       "<div>\n",
       "<style scoped>\n",
       "    .dataframe tbody tr th:only-of-type {\n",
       "        vertical-align: middle;\n",
       "    }\n",
       "\n",
       "    .dataframe tbody tr th {\n",
       "        vertical-align: top;\n",
       "    }\n",
       "\n",
       "    .dataframe thead th {\n",
       "        text-align: right;\n",
       "    }\n",
       "</style>\n",
       "<table border=\"1\" class=\"dataframe\">\n",
       "  <thead>\n",
       "    <tr style=\"text-align: right;\">\n",
       "      <th>sex</th>\n",
       "      <th>Female</th>\n",
       "      <th>Male</th>\n",
       "    </tr>\n",
       "    <tr>\n",
       "      <th>race</th>\n",
       "      <th></th>\n",
       "      <th></th>\n",
       "    </tr>\n",
       "  </thead>\n",
       "  <tbody>\n",
       "    <tr>\n",
       "      <th>Amer-Indian-Eskimo</th>\n",
       "      <td>119</td>\n",
       "      <td>192</td>\n",
       "    </tr>\n",
       "    <tr>\n",
       "      <th>Asian-Pac-Islander</th>\n",
       "      <td>346</td>\n",
       "      <td>693</td>\n",
       "    </tr>\n",
       "    <tr>\n",
       "      <th>Black</th>\n",
       "      <td>1555</td>\n",
       "      <td>1569</td>\n",
       "    </tr>\n",
       "    <tr>\n",
       "      <th>Other</th>\n",
       "      <td>109</td>\n",
       "      <td>162</td>\n",
       "    </tr>\n",
       "    <tr>\n",
       "      <th>White</th>\n",
       "      <td>8642</td>\n",
       "      <td>19174</td>\n",
       "    </tr>\n",
       "  </tbody>\n",
       "</table>\n",
       "</div>"
      ],
      "text/plain": [
       "sex                   Female   Male\n",
       "race                               \n",
       " Amer-Indian-Eskimo      119    192\n",
       " Asian-Pac-Islander      346    693\n",
       " Black                  1555   1569\n",
       " Other                   109    162\n",
       " White                  8642  19174"
      ]
     },
     "execution_count": 87,
     "metadata": {
      "tags": []
     },
     "output_type": "execute_result"
=======
  "cells": [
    {
      "cell_type": "markdown",
      "metadata": {
        "id": "Ldr0HZ193GKb",
        "colab_type": "text"
      },
      "source": [
        "Lambda School Data Science\n",
        "\n",
        "*Unit 1, Sprint 1, Module 1*\n",
        "\n",
        "---\n",
        "\n"
      ]
    },
    {
      "cell_type": "markdown",
      "metadata": {
        "id": "2CkckTc6-txA",
        "colab_type": "text"
      },
      "source": [
        "# Exploratory Data Analysis\n",
        "\n",
        "- Student can submit assignments via GitHub (save work to GitHub).\n",
        "- Student can load a dataset (CSV) from a URL using `pandas.read_csv()`\n",
        "- Student can load a dataset (CSV) from a local file using `pandas.read_csv()`\n",
        "- Student can use basic pandas EDA functions like: `pandas.describe()`, `pandas.isnull()`, `pandas.value_counts()`, `pandas.crosstab()`.\n",
        "- Student can generate basic visualizations with Pandas: line plot, histogram, scatterplot, density plot."
      ]
    },
    {
      "cell_type": "markdown",
      "metadata": {
        "id": "FnOWk3zMOuqz",
        "colab_type": "text"
      },
      "source": [
        "# [Objective](#save-to-github) - Save a .ipynb file (Colab Notebook) to GitHub\n",
        "\n"
      ]
    },
    {
      "cell_type": "markdown",
      "metadata": {
        "id": "fCryOFLnm_vc",
        "colab_type": "text"
      },
      "source": [
        "## Overview\n",
        "\n",
        "GitHub is a website where you can save code or other files either for personal use or for sharing with others. The website is used primarily for storing \"open-source\" project files so that users can work together on large code bases without overwriting each other's work. You will be using GitHub to collaborate on large projects, both with other students and in your career. \n",
        "\n",
        "In order to help you get familiar with this tool we have structured our assignment submission process around the typical GitHub workflow to try and mimic how this tool is used. The following process is the workflow that you will follow in order to submit your assignments so that the Team Leads can view your work and give you daily feedback."
      ]
    },
    {
      "cell_type": "markdown",
      "metadata": {
        "id": "OF5FwWe1m-Wo",
        "colab_type": "text"
      },
      "source": [
        "## Follow Along"
      ]
    },
    {
      "cell_type": "markdown",
      "metadata": {
        "id": "M8moDKv-Tg63",
        "colab_type": "text"
      },
      "source": [
        "### 1) Fork the Repository for that Sprint at the beginning of the Sprint\n",
        "\n",
        "**NOTE: You will only do this step a single time at the beginning of each sprint.**\n",
        "\n",
        "Go to <http://github.com/lambdaschool>\n",
        "\n",
        "All of our data science curriculum can be accessed through this page.\n",
        "\n",
        "In the search bar start typing:\n",
        "\n",
        "`DS-Unit-1-Sprint-1-Data-Wrangling-and-Storytelling`\n",
        "\n",
        "Repositories that don't match what you are typing in the search bar will be filtered out, eventually leaving this sprint's repository. \n",
        "\n",
        "> \"Repository\" is fancy work that just means: folder where we are going to store some files on GitHub. You'll hear people say \"repo\" for short.\n",
        "\n",
        "**At the beginning of each sprint you will need to find that sprint's corresponding repository and \"fork\" it to your personal GitHub account.** \"Forking\" a repository is GitHub lingo for \"Make a copy.\" If you click the fork button on the top right corner of the webpage, GitHub will make a copy of the folder of files that we will be using for that sprint to your personal GitHub account. You will be doing your work and saving your changes to the copied version on your account.\n",
        "\n",
        "You can tell when you have successfully forked a repository because you should briefly see an animation appear that looks like a book is being photocopied with a fork stuck in it and then you will be redirected to your copy of the repository.\n",
        "\n",
        "You can always tell when you're looking at the forked version on your personal github account by looking at the name of the repository and looking at the username that is just to the left of it in the filepath:\n",
        "\n",
        "![Forked Repository Username Screenshot](https://lambdachops.com/img/fork-repository-screenshot.png)\n"
      ]
    },
    {
      "cell_type": "markdown",
      "metadata": {
        "id": "DHgG8kFqYAz0",
        "colab_type": "text"
      },
      "source": [
        "### 2) Open one of the files and make a change to it. \n",
        "\n",
        "The files that we will be working with primarily during the course have the file extension: .ipynb for \"IPython Notebook\" any of these are notebooks that we can open in Google Colab.\n",
        "\n",
        "To open one of these notebook files in Google Colab go to:\n",
        "\n",
        "<https://colab.research.google.com/github/> \n",
        "\n",
        "If you haven't done so already, give Google permission to access your GitHub account from your Google Account.\n",
        "\n",
        "Once you have all of the permissions sorted out, select the repository that you're most interested in from the dropdown menu. Once you select a repository Google Colab will look through it to find all of the .ipynb files and will list them below:\n",
        "\n",
        "![Open .ipynb file from GitHub in Google Colab](https://lambdachops.com/img/google-colab-github.png)\n",
        "\n",
        "If you don't like going to this link everyday to open your notebooks, there is also a Google Chrome extension that you can use to easily open any .ipynb file from GitHub directly in Google Colab: \n",
        "\n",
        "### [Google Chrome Extension to Open .ipynb files easily in Google Colab](https://chrome.google.com/webstore/detail/open-in-colab/iogfkhleblhcpcekbiedikdehleodpjo?hl=en)"
      ]
    },
    {
      "cell_type": "markdown",
      "metadata": {
        "id": "OdRobgtWZrex",
        "colab_type": "text"
      },
      "source": [
        "### 3) Save your changes back to your forked repository on Github.\n",
        "\n",
        "Once you have finished making all of the changes that you want to the notebook, you can save your work back to GitHub by selecting `File` >> `Save a copy in GitHub` from the dropdown menu. \n",
        "\n",
        "When you select this a new tab will open in your browser to show you the saved file on GitHub to let you know that the save has been completed successfully.\n",
        "\n",
        "![Save A Copy In Github](https://lambdachops.com/img/save-a-copy-in-github.png)\n",
        "\n",
        "### You will do steps 2 and 3 of this process every day as you work on your assignment work, however, you will only do steps 1 and 4 at the beginning of a sprint."
      ]
    },
    {
      "cell_type": "markdown",
      "metadata": {
        "id": "z_EX6QN9babi",
        "colab_type": "text"
      },
      "source": [
        "### 4) Submit a \"Pull Request\" of your work.\n",
        "\n",
        "The final step in submitting your work is to open a \"Pull Request\" GitHub won't allow you to complete this step until you have saved some changes to your version of the repository on GitHub.\n",
        "\n",
        "Opening a Pull Request is something that only needs to be done once per week (typically at the beginning of the week). This pull request is what ties your work back to the original Lambda School repository and makes it easy for the Team Leads to find your work.\n",
        "\n",
        "In order to open a pull request, navigate to your repository on GitHub and select the \"Pull Requests\" tab at the top of the page.\n",
        "\n",
        "![Pull Requests Tab](https://lambdachops.com/img/pull-request.png)\n",
        "\n",
        "To open a new pull request you will need to click the green \"New Pull Request\" button and give your pull request a title. Please include your name and Cohort number i.e. DS8, DS9, or DS10, etc. at the beginning of the pull request title so that the Team Leads can easily identify your Pull Request. Once you have filled out the title, just click the remaining large green buttons until the pull request has been submitted.\n"
      ]
    },
    {
      "cell_type": "markdown",
      "metadata": {
        "id": "v1KNmIgQdbOo",
        "colab_type": "text"
      },
      "source": [
        "### In Summary\n",
        "\n",
        "1) Fork the Repository (make a copy to your personal account)\n",
        "\n",
        "2) Open the Repository in Google Colab and make changes to the files (work on your assignment).\n",
        "\n",
        "3) Save the changes back to github using the dropdown menu.\n",
        "\n",
        "4) Make sure that sometime before the end of the first day of the sprint that you have submitted a Pull Request so that the TLs can find your work."
      ]
    },
    {
      "cell_type": "markdown",
      "metadata": {
        "id": "-s3sC4gwrFGN",
        "colab_type": "text"
      },
      "source": [
        "## Challenge\n",
        "\n",
        "You'll have to do follow this process or one very close to it every day/week for the next nine months. If this feels a little bit overwhelming at first, don't worry about it! We will be doing this everyday and you have your Team Leads and classmates to lean on for help. You'll be a pro at using GitHub in no time.\n",
        "\n",
        "If you're already familiar with GitHub and or Git via the command line, feel free to use the tools that you are most comfortable with, but you still need to save your work to GitHub every day."
      ]
    },
    {
      "cell_type": "markdown",
      "metadata": {
        "id": "QszuYn1bnZSe",
        "colab_type": "text"
      },
      "source": [
        "# [Objective](#load-csv-from-url) - Load a dataset (CSV) via its URL"
      ]
    },
    {
      "cell_type": "markdown",
      "metadata": {
        "id": "_7uhS1HHOaR-",
        "colab_type": "text"
      },
      "source": [
        "## Overview\n",
        "\n",
        "In order to practice Loading Datasets into Google Colab, we're going to use the [Flags Dataset](https://archive.ics.uci.edu/ml/datasets/Flags) from UCI to show both loading the dataset via its URL and from a local file.\n",
        "\n",
        "Steps for loading a dataset:\n",
        "\n",
        "1) Learn as much as you can about the dataset:\n",
        " - Number of rows\n",
        " - Number of columns\n",
        " - Column headers (Is there a \"data dictionary\"?)\n",
        " - Is there missing data?\n",
        " - **OPEN THE RAW FILE AND LOOK AT IT. IT MAY NOT BE FORMATTED IN THE WAY THAT YOU EXPECT.**\n",
        "\n",
        "2) Try loading the dataset using `pandas.read_csv()` and if things aren't acting the way that you expect, investigate until you can get it loading correctly.\n",
        "\n",
        "3) Keep in mind that functions like `pandas.read_csv()` have a lot of optional parameters that might help us change the way that data is read in. If you get stuck, google, read the documentation, and try things out.\n",
        "\n",
        "4) You might need to type out column headers by hand if they are not provided in a neat format in the original dataset. It can be a drag."
      ]
    },
    {
      "cell_type": "markdown",
      "metadata": {
        "id": "8vpS8MBjm7A0",
        "colab_type": "text"
      },
      "source": [
        "## Follow Along"
      ]
    },
    {
      "cell_type": "markdown",
      "metadata": {
        "id": "vZobh57ag1S9",
        "colab_type": "text"
      },
      "source": [
        "### Learn about the dataset and look at the raw file."
      ]
    },
    {
      "cell_type": "code",
      "metadata": {
        "id": "sYypbXovgaSi",
        "colab_type": "code",
        "colab": {
          "base_uri": "https://localhost:8080/",
          "height": 1000
        },
        "outputId": "17397b69-04c9-403e-8e77-dfaae8985ee4"
      },
      "source": [
        "# Find the actual file to download\n",
        "# From navigating the page, clicking \"Data Folder\"\n",
        "# Right click on the link to the dataset and say \"Copy Link Address\"\n",
        "\n",
        "flag_data_url = 'https://archive.ics.uci.edu/ml/machine-learning-databases/flags/flag.data'\n",
        "\n",
        "# You can \"shell out\" in a notebook for more powerful tools\n",
        "# https://jakevdp.github.io/PythonDataScienceHandbook/01.05-ipython-and-shell-commands.html\n",
        "\n",
        "# Funny extension, but on inspection looks like a csv\n",
        "!curl https://archive.ics.uci.edu/ml/machine-learning-databases/flags/flag.data\n",
        "\n",
        "# Extensions are just a norm! You have to inspect to be sure what something is"
      ],
      "execution_count": 1,
      "outputs": [
        {
          "output_type": "stream",
          "text": [
            "Afghanistan,5,1,648,16,10,2,0,3,5,1,1,0,1,1,1,0,green,0,0,0,0,1,0,0,1,0,0,black,green\n",
            "Albania,3,1,29,3,6,6,0,0,3,1,0,0,1,0,1,0,red,0,0,0,0,1,0,0,0,1,0,red,red\n",
            "Algeria,4,1,2388,20,8,2,2,0,3,1,1,0,0,1,0,0,green,0,0,0,0,1,1,0,0,0,0,green,white\n",
            "American-Samoa,6,3,0,0,1,1,0,0,5,1,0,1,1,1,0,1,blue,0,0,0,0,0,0,1,1,1,0,blue,red\n",
            "Andorra,3,1,0,0,6,0,3,0,3,1,0,1,1,0,0,0,gold,0,0,0,0,0,0,0,0,0,0,blue,red\n",
            "Angola,4,2,1247,7,10,5,0,2,3,1,0,0,1,0,1,0,red,0,0,0,0,1,0,0,1,0,0,red,black\n",
            "Anguilla,1,4,0,0,1,1,0,1,3,0,0,1,0,1,0,1,white,0,0,0,0,0,0,0,0,1,0,white,blue\n",
            "Antigua-Barbuda,1,4,0,0,1,1,0,1,5,1,0,1,1,1,1,0,red,0,0,0,0,1,0,1,0,0,0,black,red\n",
            "Argentina,2,3,2777,28,2,0,0,3,2,0,0,1,0,1,0,0,blue,0,0,0,0,0,0,0,0,0,0,blue,blue\n",
            "Argentine,2,3,2777,28,2,0,0,3,3,0,0,1,1,1,0,0,blue,0,0,0,0,1,0,0,0,0,0,blue,blue\n",
            "Australia,6,2,7690,15,1,1,0,0,3,1,0,1,0,1,0,0,blue,0,1,1,1,6,0,0,0,0,0,white,blue\n",
            "Austria,3,1,84,8,4,0,0,3,2,1,0,0,0,1,0,0,red,0,0,0,0,0,0,0,0,0,0,red,red\n",
            "Bahamas,1,4,19,0,1,1,0,3,3,0,0,1,1,0,1,0,blue,0,0,0,0,0,0,1,0,0,0,blue,blue\n",
            "Bahrain,5,1,1,0,8,2,0,0,2,1,0,0,0,1,0,0,red,0,0,0,0,0,0,0,0,0,0,white,red\n",
            "Bangladesh,5,1,143,90,6,2,0,0,2,1,1,0,0,0,0,0,green,1,0,0,0,0,0,0,0,0,0,green,green\n",
            "Barbados,1,4,0,0,1,1,3,0,3,0,0,1,1,0,1,0,blue,0,0,0,0,0,0,0,1,0,0,blue,blue\n",
            "Belgium,3,1,31,10,6,0,3,0,3,1,0,0,1,0,1,0,gold,0,0,0,0,0,0,0,0,0,0,black,red\n",
            "Belize,1,4,23,0,1,1,0,2,8,1,1,1,1,1,1,1,blue,1,0,0,0,0,0,0,1,1,1,red,red\n",
            "Benin,4,1,113,3,3,5,0,0,2,1,1,0,0,0,0,0,green,0,0,0,0,1,0,0,0,0,0,green,green\n",
            "Bermuda,1,4,0,0,1,1,0,0,6,1,1,1,1,1,1,0,red,1,1,1,1,0,0,0,1,1,0,white,red\n",
            "Bhutan,5,1,47,1,10,3,0,0,4,1,0,0,0,1,1,1,orange,4,0,0,0,0,0,0,0,1,0,orange,red\n",
            "Bolivia,2,3,1099,6,2,0,0,3,3,1,1,0,1,0,0,0,red,0,0,0,0,0,0,0,0,0,0,red,green\n",
            "Botswana,4,2,600,1,10,5,0,5,3,0,0,1,0,1,1,0,blue,0,0,0,0,0,0,0,0,0,0,blue,blue\n",
            "Brazil,2,3,8512,119,6,0,0,0,4,0,1,1,1,1,0,0,green,1,0,0,0,22,0,0,0,0,1,green,green\n",
            "British-Virgin-Isles,1,4,0,0,1,1,0,0,6,1,1,1,1,1,0,1,blue,0,1,1,1,0,0,0,1,1,1,white,blue\n",
            "Brunei,5,1,6,0,10,2,0,0,4,1,0,0,1,1,1,0,gold,0,0,0,0,0,0,1,1,1,1,white,gold\n",
            "Bulgaria,3,1,111,9,5,6,0,3,5,1,1,1,1,1,0,0,red,0,0,0,0,1,0,0,1,1,0,white,red\n",
            "Burkina,4,4,274,7,3,5,0,2,3,1,1,0,1,0,0,0,red,0,0,0,0,1,0,0,0,0,0,red,green\n",
            "Burma,5,1,678,35,10,3,0,0,3,1,0,1,0,1,0,0,red,0,0,0,1,14,0,0,1,1,0,blue,red\n",
            "Burundi,4,2,28,4,10,5,0,0,3,1,1,0,0,1,0,0,red,1,0,1,0,3,0,0,0,0,0,white,white\n",
            "Cameroon,4,1,474,8,3,1,3,0,3,1,1,0,1,0,0,0,gold,0,0,0,0,1,0,0,0,0,0,green,gold\n",
            "Canada,1,4,9976,24,1,1,2,0,2,1,0,0,0,1,0,0,red,0,0,0,0,0,0,0,0,1,0,red,red\n",
            "Cape-Verde-Islands,4,4,4,0,6,0,1,2,5,1,1,0,1,0,1,1,gold,0,0,0,0,1,0,0,0,1,0,red,green\n",
            "Cayman-Islands,1,4,0,0,1,1,0,0,6,1,1,1,1,1,0,1,blue,1,1,1,1,4,0,0,1,1,1,white,blue\n",
            "Central-African-Republic,4,1,623,2,10,5,1,0,5,1,1,1,1,1,0,0,gold,0,0,0,0,1,0,0,0,0,0,blue,gold\n",
            "Chad,4,1,1284,4,3,5,3,0,3,1,0,1,1,0,0,0,gold,0,0,0,0,0,0,0,0,0,0,blue,red\n",
            "Chile,2,3,757,11,2,0,0,2,3,1,0,1,0,1,0,0,red,0,0,0,1,1,0,0,0,0,0,blue,red\n",
            "China,5,1,9561,1008,7,6,0,0,2,1,0,0,1,0,0,0,red,0,0,0,0,5,0,0,0,0,0,red,red\n",
            "Colombia,2,4,1139,28,2,0,0,3,3,1,0,1,1,0,0,0,gold,0,0,0,0,0,0,0,0,0,0,gold,red\n",
            "Comorro-Islands,4,2,2,0,3,2,0,0,2,0,1,0,0,1,0,0,green,0,0,0,0,4,1,0,0,0,0,green,green\n",
            "Congo,4,2,342,2,10,5,0,0,3,1,1,0,1,0,0,0,red,0,0,0,0,1,0,0,1,1,0,red,red\n",
            "Cook-Islands,6,3,0,0,1,1,0,0,4,1,0,1,0,1,0,0,blue,1,1,1,1,15,0,0,0,0,0,white,blue\n",
            "Costa-Rica,1,4,51,2,2,0,0,5,3,1,0,1,0,1,0,0,blue,0,0,0,0,0,0,0,0,0,0,blue,blue\n",
            "Cuba,1,4,115,10,2,6,0,5,3,1,0,1,0,1,0,0,blue,0,0,0,0,1,0,1,0,0,0,blue,blue\n",
            "Cyprus,3,1,9,1,6,1,0,0,3,0,1,0,1,1,0,0,white,0,0,0,0,0,0,0,1,1,0,white,white\n",
            "Czechoslovakia,3,1,128,15,5,6,0,0,3,1,0,1,0,1,0,0,white,0,0,0,0,0,0,1,0,0,0,white,red\n",
            "Denmark,3,1,43,5,6,1,0,0,2,1,0,0,0,1,0,0,red,0,1,0,0,0,0,0,0,0,0,red,red\n",
            "Djibouti,4,1,22,0,3,2,0,0,4,1,1,1,0,1,0,0,blue,0,0,0,0,1,0,1,0,0,0,white,green\n",
            "Dominica,1,4,0,0,1,1,0,0,6,1,1,1,1,1,1,0,green,1,0,0,0,10,0,0,0,1,0,green,green\n",
            "Dominican-Republic,1,4,49,6,2,0,0,0,3,1,0,1,0,1,0,0,blue,0,1,0,0,0,0,0,0,0,0,blue,blue\n",
            "Ecuador,2,3,284,8,2,0,0,3,3,1,0,1,1,0,0,0,gold,0,0,0,0,0,0,0,0,0,0,gold,red\n",
            "Egypt,4,1,1001,47,8,2,0,3,4,1,0,0,1,1,1,0,black,0,0,0,0,0,0,0,0,1,1,red,black\n",
            "El-Salvador,1,4,21,5,2,0,0,3,2,0,0,1,0,1,0,0,blue,0,0,0,0,0,0,0,0,0,0,blue,blue\n",
            "Equatorial-Guinea,4,1,28,0,10,5,0,3,4,1,1,1,0,1,0,0,green,0,0,0,0,0,0,1,0,0,0,green,red\n",
            "Ethiopia,4,1,1222,31,10,1,0,3,3,1,1,0,1,0,0,0,green,0,0,0,0,0,0,0,0,0,0,green,red\n",
            "Faeroes,3,4,1,0,6,1,0,0,3,1,0,1,0,1,0,0,white,0,1,0,0,0,0,0,0,0,0,white,white\n",
            "Falklands-Malvinas,2,3,12,0,1,1,0,0,6,1,1,1,1,1,0,0,blue,1,1,1,1,0,0,0,1,1,1,white,blue\n",
            "Fiji,6,2,18,1,1,1,0,0,7,1,1,1,1,1,0,1,blue,0,2,1,1,0,0,0,1,1,0,white,blue\n",
            "Finland,3,1,337,5,9,1,0,0,2,0,0,1,0,1,0,0,white,0,1,0,0,0,0,0,0,0,0,white,white\n",
            "France,3,1,547,54,3,0,3,0,3,1,0,1,0,1,0,0,white,0,0,0,0,0,0,0,0,0,0,blue,red\n",
            "French-Guiana,2,4,91,0,3,0,3,0,3,1,0,1,0,1,0,0,white,0,0,0,0,0,0,0,0,0,0,blue,red\n",
            "French-Polynesia,6,3,4,0,3,0,0,3,5,1,0,1,1,1,1,0,red,1,0,0,0,1,0,0,1,0,0,red,red\n",
            "Gabon,4,2,268,1,10,5,0,3,3,0,1,1,1,0,0,0,green,0,0,0,0,0,0,0,0,0,0,green,blue\n",
            "Gambia,4,4,10,1,1,5,0,5,4,1,1,1,0,1,0,0,red,0,0,0,0,0,0,0,0,0,0,red,green\n",
            "Germany-DDR,3,1,108,17,4,6,0,3,3,1,0,0,1,0,1,0,gold,0,0,0,0,0,0,0,1,0,0,black,gold\n",
            "Germany-FRG,3,1,249,61,4,1,0,3,3,1,0,0,1,0,1,0,black,0,0,0,0,0,0,0,0,0,0,black,gold\n",
            "Ghana,4,4,239,14,1,5,0,3,4,1,1,0,1,0,1,0,red,0,0,0,0,1,0,0,0,0,0,red,green\n",
            "Gibraltar,3,4,0,0,1,1,0,1,3,1,0,0,1,1,0,0,white,0,0,0,0,0,0,0,1,0,0,white,red\n",
            "Greece,3,1,132,10,6,1,0,9,2,0,0,1,0,1,0,0,blue,0,1,0,1,0,0,0,0,0,0,blue,blue\n",
            "Greenland,1,4,2176,0,6,1,0,0,2,1,0,0,0,1,0,0,white,1,0,0,0,0,0,0,0,0,0,white,red\n",
            "Grenada,1,4,0,0,1,1,0,0,3,1,1,0,1,0,0,0,gold,1,0,0,0,7,0,1,0,1,0,red,red\n",
            "Guam,6,1,0,0,1,1,0,0,7,1,1,1,1,1,0,1,blue,0,0,0,0,0,0,0,1,1,1,red,red\n",
            "Guatemala,1,4,109,8,2,0,3,0,2,0,0,1,0,1,0,0,blue,0,0,0,0,0,0,0,0,0,0,blue,blue\n",
            "Guinea,4,4,246,6,3,2,3,0,3,1,1,0,1,0,0,0,gold,0,0,0,0,0,0,0,0,0,0,red,green\n",
            "Guinea-Bissau,4,4,36,1,6,5,1,2,4,1,1,0,1,0,1,0,gold,0,0,0,0,1,0,0,0,0,0,red,green\n",
            "Guyana,2,4,215,1,1,4,0,0,5,1,1,0,1,1,1,0,green,0,0,0,0,0,0,1,0,0,0,black,green\n",
            "Haiti,1,4,28,6,3,0,2,0,2,1,0,0,0,0,1,0,black,0,0,0,0,0,0,0,0,0,0,black,red\n",
            "Honduras,1,4,112,4,2,0,0,3,2,0,0,1,0,1,0,0,blue,0,0,0,0,5,0,0,0,0,0,blue,blue\n",
            "Hong-Kong,5,1,1,5,7,3,0,0,6,1,1,1,1,1,0,1,blue,1,1,1,1,0,0,0,1,1,1,white,blue\n",
            "Hungary,3,1,93,11,9,6,0,3,3,1,1,0,0,1,0,0,red,0,0,0,0,0,0,0,0,0,0,red,green\n",
            "Iceland,3,4,103,0,6,1,0,0,3,1,0,1,0,1,0,0,blue,0,1,0,0,0,0,0,0,0,0,blue,blue\n",
            "India,5,1,3268,684,6,4,0,3,4,0,1,1,0,1,0,1,orange,1,0,0,0,0,0,0,1,0,0,orange,green\n",
            "Indonesia,6,2,1904,157,10,2,0,2,2,1,0,0,0,1,0,0,red,0,0,0,0,0,0,0,0,0,0,red,white\n",
            "Iran,5,1,1648,39,6,2,0,3,3,1,1,0,0,1,0,0,red,0,0,0,0,0,0,0,1,0,1,green,red\n",
            "Iraq,5,1,435,14,8,2,0,3,4,1,1,0,0,1,1,0,red,0,0,0,0,3,0,0,0,0,0,red,black\n",
            "Ireland,3,4,70,3,1,0,3,0,3,0,1,0,0,1,0,1,white,0,0,0,0,0,0,0,0,0,0,green,orange\n",
            "Israel,5,1,21,4,10,7,0,2,2,0,0,1,0,1,0,0,white,0,0,0,0,1,0,0,0,0,0,blue,blue\n",
            "Italy,3,1,301,57,6,0,3,0,3,1,1,0,0,1,0,0,white,0,0,0,0,0,0,0,0,0,0,green,red\n",
            "Ivory-Coast,4,4,323,7,3,5,3,0,3,1,1,0,0,1,0,0,white,0,0,0,0,0,0,0,0,0,0,red,green\n",
            "Jamaica,1,4,11,2,1,1,0,0,3,0,1,0,1,0,1,0,green,0,0,1,0,0,0,1,0,0,0,gold,gold\n",
            "Japan,5,1,372,118,9,7,0,0,2,1,0,0,0,1,0,0,white,1,0,0,0,1,0,0,0,0,0,white,white\n",
            "Jordan,5,1,98,2,8,2,0,3,4,1,1,0,0,1,1,0,black,0,0,0,0,1,0,1,0,0,0,black,green\n",
            "Kampuchea,5,1,181,6,10,3,0,0,2,1,0,0,1,0,0,0,red,0,0,0,0,0,0,0,1,0,0,red,red\n",
            "Kenya,4,1,583,17,10,5,0,5,4,1,1,0,0,1,1,0,red,1,0,0,0,0,0,0,1,0,0,black,green\n",
            "Kiribati,6,1,0,0,1,1,0,0,4,1,0,1,1,1,0,0,red,0,0,0,0,1,0,0,1,1,0,red,blue\n",
            "Kuwait,5,1,18,2,8,2,0,3,4,1,1,0,0,1,1,0,green,0,0,0,0,0,0,0,0,0,0,green,red\n",
            "Laos,5,1,236,3,10,6,0,3,3,1,0,1,0,1,0,0,red,1,0,0,0,0,0,0,0,0,0,red,red\n",
            "Lebanon,5,1,10,3,8,2,0,2,4,1,1,0,0,1,0,1,red,0,0,0,0,0,0,0,0,1,0,red,red\n",
            "Lesotho,4,2,30,1,10,5,2,0,4,1,1,1,0,1,0,0,blue,0,0,0,0,0,0,0,1,0,0,green,blue\n",
            "Liberia,4,4,111,1,10,5,0,11,3,1,0,1,0,1,0,0,red,0,0,0,1,1,0,0,0,0,0,blue,red\n",
            "Libya,4,1,1760,3,8,2,0,0,1,0,1,0,0,0,0,0,green,0,0,0,0,0,0,0,0,0,0,green,green\n",
            "Liechtenstein,3,1,0,0,4,0,0,2,3,1,0,1,1,0,0,0,red,0,0,0,0,0,0,0,1,0,0,blue,red\n",
            "Luxembourg,3,1,3,0,4,0,0,3,3,1,0,1,0,1,0,0,red,0,0,0,0,0,0,0,0,0,0,red,blue\n",
            "Malagasy,4,2,587,9,10,1,1,2,3,1,1,0,0,1,0,0,red,0,0,0,0,0,0,0,0,0,0,white,green\n",
            "Malawi,4,2,118,6,10,5,0,3,3,1,1,0,0,0,1,0,red,0,0,0,0,1,0,0,0,0,0,black,green\n",
            "Malaysia,5,1,333,13,10,2,0,14,4,1,0,1,1,1,0,0,red,0,0,0,1,1,1,0,0,0,0,blue,white\n",
            "Maldive-Islands,5,1,0,0,10,2,0,0,3,1,1,0,0,1,0,0,red,0,0,0,0,0,1,0,0,0,0,red,red\n",
            "Mali,4,4,1240,7,3,2,3,0,3,1,1,0,1,0,0,0,gold,0,0,0,0,0,0,0,0,0,0,green,red\n",
            "Malta,3,1,0,0,10,0,2,0,3,1,0,0,0,1,1,0,red,0,1,0,0,0,0,0,1,0,0,white,red\n",
            "Marianas,6,1,0,0,10,1,0,0,3,0,0,1,0,1,0,0,blue,0,0,0,0,1,0,0,1,0,0,blue,blue\n",
            "Mauritania,4,4,1031,2,8,2,0,0,2,0,1,0,1,0,0,0,green,0,0,0,0,1,1,0,0,0,0,green,green\n",
            "Mauritius,4,2,2,1,1,4,0,4,4,1,1,1,1,0,0,0,red,0,0,0,0,0,0,0,0,0,0,red,green\n",
            "Mexico,1,4,1973,77,2,0,3,0,4,1,1,0,0,1,0,1,green,0,0,0,0,0,0,0,0,1,0,green,red\n",
            "Micronesia,6,1,1,0,10,1,0,0,2,0,0,1,0,1,0,0,blue,0,0,0,0,4,0,0,0,0,0,blue,blue\n",
            "Monaco,3,1,0,0,3,0,0,2,2,1,0,0,0,1,0,0,red,0,0,0,0,0,0,0,0,0,0,red,white\n",
            "Mongolia,5,1,1566,2,10,6,3,0,3,1,0,1,1,0,0,0,red,2,0,0,0,1,1,1,1,0,0,red,red\n",
            "Montserrat,1,4,0,0,1,1,0,0,7,1,1,1,1,1,1,0,blue,0,2,1,1,0,0,0,1,1,0,white,blue\n",
            "Morocco,4,4,447,20,8,2,0,0,2,1,1,0,0,0,0,0,red,0,0,0,0,1,0,0,0,0,0,red,red\n",
            "Mozambique,4,2,783,12,10,5,0,5,5,1,1,0,1,1,1,0,gold,0,0,0,0,1,0,1,1,0,0,green,gold\n",
            "Nauru,6,2,0,0,10,1,0,3,3,0,0,1,1,1,0,0,blue,0,0,0,0,1,0,0,0,0,0,blue,blue\n",
            "Nepal,5,1,140,16,10,4,0,0,3,0,0,1,0,1,0,1,brown,0,0,0,0,2,1,0,0,0,0,blue,blue\n",
            "Netherlands,3,1,41,14,6,1,0,3,3,1,0,1,0,1,0,0,red,0,0,0,0,0,0,0,0,0,0,red,blue\n",
            "Netherlands-Antilles,1,4,0,0,6,1,0,1,3,1,0,1,0,1,0,0,white,0,0,0,0,6,0,0,0,0,0,white,white\n",
            "New-Zealand,6,2,268,2,1,1,0,0,3,1,0,1,0,1,0,0,blue,0,1,1,1,4,0,0,0,0,0,white,blue\n",
            "Nicaragua,1,4,128,3,2,0,0,3,2,0,0,1,0,1,0,0,blue,0,0,0,0,0,0,0,0,0,0,blue,blue\n",
            "Niger,4,1,1267,5,3,2,0,3,3,0,1,0,0,1,0,1,orange,1,0,0,0,0,0,0,0,0,0,orange,green\n",
            "Nigeria,4,1,925,56,10,2,3,0,2,0,1,0,0,1,0,0,green,0,0,0,0,0,0,0,0,0,0,green,green\n",
            "Niue,6,3,0,0,1,1,0,0,4,1,0,1,1,1,0,0,gold,1,1,1,1,5,0,0,0,0,0,white,gold\n",
            "North-Korea,5,1,121,18,10,6,0,5,3,1,0,1,0,1,0,0,blue,1,0,0,0,1,0,0,0,0,0,blue,blue\n",
            "North-Yemen,5,1,195,9,8,2,0,3,4,1,1,0,0,1,1,0,red,0,0,0,0,1,0,0,0,0,0,red,black\n",
            "Norway,3,1,324,4,6,1,0,0,3,1,0,1,0,1,0,0,red,0,1,0,0,0,0,0,0,0,0,red,red\n",
            "Oman,5,1,212,1,8,2,0,2,3,1,1,0,0,1,0,0,red,0,0,0,0,0,0,0,1,0,0,red,green\n",
            "Pakistan,5,1,804,84,6,2,1,0,2,0,1,0,0,1,0,0,green,0,0,0,0,1,1,0,0,0,0,white,green\n",
            "Panama,2,4,76,2,2,0,0,0,3,1,0,1,0,1,0,0,red,0,0,0,4,2,0,0,0,0,0,white,white\n",
            "Papua-New-Guinea,6,2,463,3,1,5,0,0,4,1,0,0,1,1,1,0,black,0,0,0,0,5,0,1,0,1,0,red,black\n",
            "Parguay,2,3,407,3,2,0,0,3,6,1,1,1,1,1,1,0,red,1,0,0,0,1,0,0,1,1,1,red,blue\n",
            "Peru,2,3,1285,14,2,0,3,0,2,1,0,0,0,1,0,0,red,0,0,0,0,0,0,0,0,0,0,red,red\n",
            "Philippines,6,1,300,48,10,0,0,0,4,1,0,1,1,1,0,0,blue,0,0,0,0,4,0,1,0,0,0,blue,red\n",
            "Poland,3,1,313,36,5,6,0,2,2,1,0,0,0,1,0,0,white,0,0,0,0,0,0,0,0,0,0,white,red\n",
            "Portugal,3,4,92,10,6,0,0,0,5,1,1,1,1,1,0,0,red,1,0,0,0,0,0,0,1,0,0,green,red\n",
            "Puerto-Rico,1,4,9,3,2,0,0,5,3,1,0,1,0,1,0,0,red,0,0,0,0,1,0,1,0,0,0,red,red\n",
            "Qatar,5,1,11,0,8,2,0,0,2,0,0,0,0,1,0,1,brown,0,0,0,0,0,0,0,0,0,0,white,brown\n",
            "Romania,3,1,237,22,6,6,3,0,7,1,1,1,1,1,0,1,red,0,0,0,0,2,0,0,1,1,1,blue,red\n",
            "Rwanda,4,2,26,5,10,5,3,0,4,1,1,0,1,0,1,0,red,0,0,0,0,0,0,0,0,0,1,red,green\n",
            "San-Marino,3,1,0,0,6,0,0,2,2,0,0,1,0,1,0,0,white,0,0,0,0,0,0,0,0,0,0,white,blue\n",
            "Sao-Tome,4,1,0,0,6,0,0,3,4,1,1,0,1,0,1,0,green,0,0,0,0,2,0,1,0,0,0,green,green\n",
            "Saudi-Arabia,5,1,2150,9,8,2,0,0,2,0,1,0,0,1,0,0,green,0,0,0,0,0,0,0,1,0,1,green,green\n",
            "Senegal,4,4,196,6,3,2,3,0,3,1,1,0,1,0,0,0,green,0,0,0,0,1,0,0,0,0,0,green,red\n",
            "Seychelles,4,2,0,0,1,1,0,0,3,1,1,0,0,1,0,0,red,0,0,0,0,0,0,0,0,0,0,red,green\n",
            "Sierra-Leone,4,4,72,3,1,5,0,3,3,0,1,1,0,1,0,0,green,0,0,0,0,0,0,0,0,0,0,green,blue\n",
            "Singapore,5,1,1,3,7,3,0,2,2,1,0,0,0,1,0,0,white,0,0,0,0,5,1,0,0,0,0,red,white\n",
            "Soloman-Islands,6,2,30,0,1,1,0,0,4,0,1,1,1,1,0,0,green,0,0,0,0,5,0,1,0,0,0,blue,green\n",
            "Somalia,4,1,637,5,10,2,0,0,2,0,0,1,0,1,0,0,blue,0,0,0,0,1,0,0,0,0,0,blue,blue\n",
            "South-Africa,4,2,1221,29,6,1,0,3,5,1,1,1,0,1,0,1,orange,0,1,1,0,0,0,0,0,0,0,orange,blue\n",
            "South-Korea,5,1,99,39,10,7,0,0,4,1,0,1,0,1,1,0,white,1,0,0,0,0,0,0,1,0,0,white,white\n",
            "South-Yemen,5,1,288,2,8,2,0,3,4,1,0,1,0,1,1,0,red,0,0,0,0,1,0,1,0,0,0,red,black\n",
            "Spain,3,4,505,38,2,0,0,3,2,1,0,0,1,0,0,0,red,0,0,0,0,0,0,0,0,0,0,red,red\n",
            "Sri-Lanka,5,1,66,15,10,3,2,0,4,0,1,0,1,0,0,1,gold,0,0,0,0,0,0,0,1,1,0,gold,gold\n",
            "St-Helena,4,3,0,0,1,1,0,0,7,1,1,1,1,1,0,1,blue,0,1,1,1,0,0,0,1,0,0,white,blue\n",
            "St-Kitts-Nevis,1,4,0,0,1,1,0,0,5,1,1,0,1,1,1,0,green,0,0,0,0,2,0,1,0,0,0,green,red\n",
            "St-Lucia,1,4,0,0,1,1,0,0,4,0,0,1,1,1,1,0,blue,0,0,0,0,0,0,1,0,0,0,blue,blue\n",
            "St-Vincent,1,4,0,0,1,1,5,0,4,0,1,1,1,1,0,0,green,0,0,0,0,0,0,0,1,1,1,blue,green\n",
            "Sudan,4,1,2506,20,8,2,0,3,4,1,1,0,0,1,1,0,red,0,0,0,0,0,0,1,0,0,0,red,black\n",
            "Surinam,2,4,63,0,6,1,0,5,4,1,1,0,1,1,0,0,red,0,0,0,0,1,0,0,0,0,0,green,green\n",
            "Swaziland,4,2,17,1,10,1,0,5,7,1,0,1,1,1,1,1,blue,0,0,0,0,0,0,0,1,0,0,blue,blue\n",
            "Sweden,3,1,450,8,6,1,0,0,2,0,0,1,1,0,0,0,blue,0,1,0,0,0,0,0,0,0,0,blue,blue\n",
            "Switzerland,3,1,41,6,4,1,0,0,2,1,0,0,0,1,0,0,red,0,1,0,0,0,0,0,0,0,0,red,red\n",
            "Syria,5,1,185,10,8,2,0,3,4,1,1,0,0,1,1,0,red,0,0,0,0,2,0,0,0,0,0,red,black\n",
            "Taiwan,5,1,36,18,7,3,0,0,3,1,0,1,0,1,0,0,red,1,0,0,1,1,0,0,0,0,0,blue,red\n",
            "Tanzania,4,2,945,18,10,5,0,0,4,0,1,1,1,0,1,0,green,0,0,0,0,0,0,1,0,0,0,green,blue\n",
            "Thailand,5,1,514,49,10,3,0,5,3,1,0,1,0,1,0,0,red,0,0,0,0,0,0,0,0,0,0,red,red\n",
            "Togo,4,1,57,2,3,7,0,5,4,1,1,0,1,1,0,0,green,0,0,0,1,1,0,0,0,0,0,red,green\n",
            "Tonga,6,2,1,0,10,1,0,0,2,1,0,0,0,1,0,0,red,0,1,0,1,0,0,0,0,0,0,white,red\n",
            "Trinidad-Tobago,2,4,5,1,1,1,0,0,3,1,0,0,0,1,1,0,red,0,0,0,0,0,0,1,0,0,0,white,white\n",
            "Tunisia,4,1,164,7,8,2,0,0,2,1,0,0,0,1,0,0,red,1,0,0,0,1,1,0,0,0,0,red,red\n",
            "Turkey,5,1,781,45,9,2,0,0,2,1,0,0,0,1,0,0,red,0,0,0,0,1,1,0,0,0,0,red,red\n",
            "Turks-Cocos-Islands,1,4,0,0,1,1,0,0,6,1,1,1,1,1,0,1,blue,0,1,1,1,0,0,0,1,1,0,white,blue\n",
            "Tuvalu,6,2,0,0,1,1,0,0,5,1,0,1,1,1,0,0,blue,0,1,1,1,9,0,0,0,0,0,white,blue\n",
            "UAE,5,1,84,1,8,2,1,3,4,1,1,0,0,1,1,0,green,0,0,0,0,0,0,0,0,0,0,red,black\n",
            "Uganda,4,1,236,13,10,5,0,6,5,1,0,0,1,1,1,0,gold,1,0,0,0,0,0,0,0,1,0,black,red\n",
            "UK,3,4,245,56,1,1,0,0,3,1,0,1,0,1,0,0,red,0,1,1,0,0,0,0,0,0,0,white,red\n",
            "Uruguay,2,3,178,3,2,0,0,9,3,0,0,1,1,1,0,0,white,0,0,0,1,1,0,0,0,0,0,white,white\n",
            "US-Virgin-Isles,1,4,0,0,1,1,0,0,6,1,1,1,1,1,0,0,white,0,0,0,0,0,0,0,1,1,1,white,white\n",
            "USA,1,4,9363,231,1,1,0,13,3,1,0,1,0,1,0,0,white,0,0,0,1,50,0,0,0,0,0,blue,red\n",
            "USSR,5,1,22402,274,5,6,0,0,2,1,0,0,1,0,0,0,red,0,0,0,0,1,0,0,1,0,0,red,red\n",
            "Vanuatu,6,2,15,0,6,1,0,0,4,1,1,0,1,0,1,0,red,0,0,0,0,0,0,1,0,1,0,black,green\n",
            "Vatican-City,3,1,0,0,6,0,2,0,4,1,0,0,1,1,1,0,gold,0,0,0,0,0,0,0,1,0,0,gold,white\n",
            "Venezuela,2,4,912,15,2,0,0,3,7,1,1,1,1,1,1,1,red,0,0,0,0,7,0,0,1,1,0,gold,red\n",
            "Vietnam,5,1,333,60,10,6,0,0,2,1,0,0,1,0,0,0,red,0,0,0,0,1,0,0,0,0,0,red,red\n",
            "Western-Samoa,6,3,3,0,1,1,0,0,3,1,0,1,0,1,0,0,red,0,0,0,1,5,0,0,0,0,0,blue,red\n",
            "Yugoslavia,3,1,256,22,6,6,0,3,4,1,0,1,1,1,0,0,red,0,0,0,0,1,0,0,0,0,0,blue,red\n",
            "Zaire,4,2,905,28,10,5,0,0,4,1,1,0,1,0,0,1,green,1,0,0,0,0,0,0,1,1,0,green,green\n",
            "Zambia,4,2,753,6,10,5,3,0,4,1,1,0,0,0,1,1,green,0,0,0,0,0,0,0,0,1,0,green,brown\n",
            "Zimbabwe,4,2,391,8,10,5,0,7,5,1,1,0,1,1,1,0,green,0,0,0,0,1,0,1,1,1,0,green,green\n"
          ],
          "name": "stdout"
        }
      ]
    },
    {
      "cell_type": "markdown",
      "metadata": {
        "id": "KncohxMIg5Dq",
        "colab_type": "text"
      },
      "source": [
        "### Attempt to load it via its URL"
      ]
    },
    {
      "cell_type": "code",
      "metadata": {
        "id": "-r24OTvggWub",
        "colab_type": "code",
        "outputId": "c17d671c-ca1d-40bd-e6a3-959ae025b4cb",
        "colab": {
          "base_uri": "https://localhost:8080/",
          "height": 235
        }
      },
      "source": [
        "# Load the flags dataset from its URL:\n",
        "flag_data_url = 'https://archive.ics.uci.edu/ml/machine-learning-databases/flags/flag.data'\n",
        "import pandas as pd\n",
        "\n",
        "flags_df = pd.read_csv(flag_data_url)\n",
        "flags_df.head()"
      ],
      "execution_count": 2,
      "outputs": [
        {
          "output_type": "execute_result",
          "data": {
            "text/html": [
              "<div>\n",
              "<style scoped>\n",
              "    .dataframe tbody tr th:only-of-type {\n",
              "        vertical-align: middle;\n",
              "    }\n",
              "\n",
              "    .dataframe tbody tr th {\n",
              "        vertical-align: top;\n",
              "    }\n",
              "\n",
              "    .dataframe thead th {\n",
              "        text-align: right;\n",
              "    }\n",
              "</style>\n",
              "<table border=\"1\" class=\"dataframe\">\n",
              "  <thead>\n",
              "    <tr style=\"text-align: right;\">\n",
              "      <th></th>\n",
              "      <th>Afghanistan</th>\n",
              "      <th>5</th>\n",
              "      <th>1</th>\n",
              "      <th>648</th>\n",
              "      <th>16</th>\n",
              "      <th>10</th>\n",
              "      <th>2</th>\n",
              "      <th>0</th>\n",
              "      <th>3</th>\n",
              "      <th>5.1</th>\n",
              "      <th>1.1</th>\n",
              "      <th>1.2</th>\n",
              "      <th>0.1</th>\n",
              "      <th>1.3</th>\n",
              "      <th>1.4</th>\n",
              "      <th>1.5</th>\n",
              "      <th>0.2</th>\n",
              "      <th>green</th>\n",
              "      <th>0.3</th>\n",
              "      <th>0.4</th>\n",
              "      <th>0.5</th>\n",
              "      <th>0.6</th>\n",
              "      <th>1.6</th>\n",
              "      <th>0.7</th>\n",
              "      <th>0.8</th>\n",
              "      <th>1.7</th>\n",
              "      <th>0.9</th>\n",
              "      <th>0.10</th>\n",
              "      <th>black</th>\n",
              "      <th>green.1</th>\n",
              "    </tr>\n",
              "  </thead>\n",
              "  <tbody>\n",
              "    <tr>\n",
              "      <th>0</th>\n",
              "      <td>Albania</td>\n",
              "      <td>3</td>\n",
              "      <td>1</td>\n",
              "      <td>29</td>\n",
              "      <td>3</td>\n",
              "      <td>6</td>\n",
              "      <td>6</td>\n",
              "      <td>0</td>\n",
              "      <td>0</td>\n",
              "      <td>3</td>\n",
              "      <td>1</td>\n",
              "      <td>0</td>\n",
              "      <td>0</td>\n",
              "      <td>1</td>\n",
              "      <td>0</td>\n",
              "      <td>1</td>\n",
              "      <td>0</td>\n",
              "      <td>red</td>\n",
              "      <td>0</td>\n",
              "      <td>0</td>\n",
              "      <td>0</td>\n",
              "      <td>0</td>\n",
              "      <td>1</td>\n",
              "      <td>0</td>\n",
              "      <td>0</td>\n",
              "      <td>0</td>\n",
              "      <td>1</td>\n",
              "      <td>0</td>\n",
              "      <td>red</td>\n",
              "      <td>red</td>\n",
              "    </tr>\n",
              "    <tr>\n",
              "      <th>1</th>\n",
              "      <td>Algeria</td>\n",
              "      <td>4</td>\n",
              "      <td>1</td>\n",
              "      <td>2388</td>\n",
              "      <td>20</td>\n",
              "      <td>8</td>\n",
              "      <td>2</td>\n",
              "      <td>2</td>\n",
              "      <td>0</td>\n",
              "      <td>3</td>\n",
              "      <td>1</td>\n",
              "      <td>1</td>\n",
              "      <td>0</td>\n",
              "      <td>0</td>\n",
              "      <td>1</td>\n",
              "      <td>0</td>\n",
              "      <td>0</td>\n",
              "      <td>green</td>\n",
              "      <td>0</td>\n",
              "      <td>0</td>\n",
              "      <td>0</td>\n",
              "      <td>0</td>\n",
              "      <td>1</td>\n",
              "      <td>1</td>\n",
              "      <td>0</td>\n",
              "      <td>0</td>\n",
              "      <td>0</td>\n",
              "      <td>0</td>\n",
              "      <td>green</td>\n",
              "      <td>white</td>\n",
              "    </tr>\n",
              "    <tr>\n",
              "      <th>2</th>\n",
              "      <td>American-Samoa</td>\n",
              "      <td>6</td>\n",
              "      <td>3</td>\n",
              "      <td>0</td>\n",
              "      <td>0</td>\n",
              "      <td>1</td>\n",
              "      <td>1</td>\n",
              "      <td>0</td>\n",
              "      <td>0</td>\n",
              "      <td>5</td>\n",
              "      <td>1</td>\n",
              "      <td>0</td>\n",
              "      <td>1</td>\n",
              "      <td>1</td>\n",
              "      <td>1</td>\n",
              "      <td>0</td>\n",
              "      <td>1</td>\n",
              "      <td>blue</td>\n",
              "      <td>0</td>\n",
              "      <td>0</td>\n",
              "      <td>0</td>\n",
              "      <td>0</td>\n",
              "      <td>0</td>\n",
              "      <td>0</td>\n",
              "      <td>1</td>\n",
              "      <td>1</td>\n",
              "      <td>1</td>\n",
              "      <td>0</td>\n",
              "      <td>blue</td>\n",
              "      <td>red</td>\n",
              "    </tr>\n",
              "    <tr>\n",
              "      <th>3</th>\n",
              "      <td>Andorra</td>\n",
              "      <td>3</td>\n",
              "      <td>1</td>\n",
              "      <td>0</td>\n",
              "      <td>0</td>\n",
              "      <td>6</td>\n",
              "      <td>0</td>\n",
              "      <td>3</td>\n",
              "      <td>0</td>\n",
              "      <td>3</td>\n",
              "      <td>1</td>\n",
              "      <td>0</td>\n",
              "      <td>1</td>\n",
              "      <td>1</td>\n",
              "      <td>0</td>\n",
              "      <td>0</td>\n",
              "      <td>0</td>\n",
              "      <td>gold</td>\n",
              "      <td>0</td>\n",
              "      <td>0</td>\n",
              "      <td>0</td>\n",
              "      <td>0</td>\n",
              "      <td>0</td>\n",
              "      <td>0</td>\n",
              "      <td>0</td>\n",
              "      <td>0</td>\n",
              "      <td>0</td>\n",
              "      <td>0</td>\n",
              "      <td>blue</td>\n",
              "      <td>red</td>\n",
              "    </tr>\n",
              "    <tr>\n",
              "      <th>4</th>\n",
              "      <td>Angola</td>\n",
              "      <td>4</td>\n",
              "      <td>2</td>\n",
              "      <td>1247</td>\n",
              "      <td>7</td>\n",
              "      <td>10</td>\n",
              "      <td>5</td>\n",
              "      <td>0</td>\n",
              "      <td>2</td>\n",
              "      <td>3</td>\n",
              "      <td>1</td>\n",
              "      <td>0</td>\n",
              "      <td>0</td>\n",
              "      <td>1</td>\n",
              "      <td>0</td>\n",
              "      <td>1</td>\n",
              "      <td>0</td>\n",
              "      <td>red</td>\n",
              "      <td>0</td>\n",
              "      <td>0</td>\n",
              "      <td>0</td>\n",
              "      <td>0</td>\n",
              "      <td>1</td>\n",
              "      <td>0</td>\n",
              "      <td>0</td>\n",
              "      <td>1</td>\n",
              "      <td>0</td>\n",
              "      <td>0</td>\n",
              "      <td>red</td>\n",
              "      <td>black</td>\n",
              "    </tr>\n",
              "  </tbody>\n",
              "</table>\n",
              "</div>"
            ],
            "text/plain": [
              "      Afghanistan  5  1   648  16  10  ...  0.8  1.7  0.9  0.10  black  green.1\n",
              "0         Albania  3  1    29   3   6  ...    0    0    1     0    red      red\n",
              "1         Algeria  4  1  2388  20   8  ...    0    0    0     0  green    white\n",
              "2  American-Samoa  6  3     0   0   1  ...    1    1    1     0   blue      red\n",
              "3         Andorra  3  1     0   0   6  ...    0    0    0     0   blue      red\n",
              "4          Angola  4  2  1247   7  10  ...    0    1    0     0    red    black\n",
              "\n",
              "[5 rows x 30 columns]"
            ]
          },
          "metadata": {
            "tags": []
          },
          "execution_count": 2
        }
      ]
    },
    {
      "cell_type": "markdown",
      "metadata": {
        "id": "1hI3GvRgg818",
        "colab_type": "text"
      },
      "source": [
        "### If things go wrong, investigate and try to figure out why.\n"
      ]
    },
    {
      "cell_type": "code",
      "metadata": {
        "id": "8PK-Njl0hJxz",
        "colab_type": "code",
        "colab": {}
      },
      "source": [
        "# Different ways to look at the documentation:\n"
      ],
      "execution_count": 0,
      "outputs": []
    },
    {
      "cell_type": "markdown",
      "metadata": {
        "id": "xuX3bUdOhQ1S",
        "colab_type": "text"
      },
      "source": [
        "### Try Again"
      ]
    },
    {
      "cell_type": "code",
      "metadata": {
        "id": "AJfCoAg-hRzq",
        "colab_type": "code",
        "outputId": "5b3b1b4d-e352-44f2-c111-f881c641114a",
        "colab": {
          "base_uri": "https://localhost:8080/",
          "height": 235
        }
      },
      "source": [
        "# Keep on trying things until you get it. \n",
        "# If you really mess things up you can always just restart your runtime\n",
        "column_headers = ['name', 'landmass', 'zone', 'area', 'population', 'language', 'religion', 'bars', 'stripes', 'colors', 'red', 'green',\n",
        "                  'blue', 'gold', 'white', 'black', 'orange', 'mainhue', 'circles', 'crosses', 'saltires', 'quarters', 'sunstars', 'crescent',\n",
        "                  'triangle', 'icon', 'animate', 'text', 'topleft', 'botright']\n",
        "\n",
        "flags_df = pd.read_csv(flag_data_url, header=None, names=column_headers)\n",
        "flags_df.head()"
      ],
      "execution_count": 3,
      "outputs": [
        {
          "output_type": "execute_result",
          "data": {
            "text/html": [
              "<div>\n",
              "<style scoped>\n",
              "    .dataframe tbody tr th:only-of-type {\n",
              "        vertical-align: middle;\n",
              "    }\n",
              "\n",
              "    .dataframe tbody tr th {\n",
              "        vertical-align: top;\n",
              "    }\n",
              "\n",
              "    .dataframe thead th {\n",
              "        text-align: right;\n",
              "    }\n",
              "</style>\n",
              "<table border=\"1\" class=\"dataframe\">\n",
              "  <thead>\n",
              "    <tr style=\"text-align: right;\">\n",
              "      <th></th>\n",
              "      <th>name</th>\n",
              "      <th>landmass</th>\n",
              "      <th>zone</th>\n",
              "      <th>area</th>\n",
              "      <th>population</th>\n",
              "      <th>language</th>\n",
              "      <th>religion</th>\n",
              "      <th>bars</th>\n",
              "      <th>stripes</th>\n",
              "      <th>colors</th>\n",
              "      <th>red</th>\n",
              "      <th>green</th>\n",
              "      <th>blue</th>\n",
              "      <th>gold</th>\n",
              "      <th>white</th>\n",
              "      <th>black</th>\n",
              "      <th>orange</th>\n",
              "      <th>mainhue</th>\n",
              "      <th>circles</th>\n",
              "      <th>crosses</th>\n",
              "      <th>saltires</th>\n",
              "      <th>quarters</th>\n",
              "      <th>sunstars</th>\n",
              "      <th>crescent</th>\n",
              "      <th>triangle</th>\n",
              "      <th>icon</th>\n",
              "      <th>animate</th>\n",
              "      <th>text</th>\n",
              "      <th>topleft</th>\n",
              "      <th>botright</th>\n",
              "    </tr>\n",
              "  </thead>\n",
              "  <tbody>\n",
              "    <tr>\n",
              "      <th>0</th>\n",
              "      <td>Afghanistan</td>\n",
              "      <td>5</td>\n",
              "      <td>1</td>\n",
              "      <td>648</td>\n",
              "      <td>16</td>\n",
              "      <td>10</td>\n",
              "      <td>2</td>\n",
              "      <td>0</td>\n",
              "      <td>3</td>\n",
              "      <td>5</td>\n",
              "      <td>1</td>\n",
              "      <td>1</td>\n",
              "      <td>0</td>\n",
              "      <td>1</td>\n",
              "      <td>1</td>\n",
              "      <td>1</td>\n",
              "      <td>0</td>\n",
              "      <td>green</td>\n",
              "      <td>0</td>\n",
              "      <td>0</td>\n",
              "      <td>0</td>\n",
              "      <td>0</td>\n",
              "      <td>1</td>\n",
              "      <td>0</td>\n",
              "      <td>0</td>\n",
              "      <td>1</td>\n",
              "      <td>0</td>\n",
              "      <td>0</td>\n",
              "      <td>black</td>\n",
              "      <td>green</td>\n",
              "    </tr>\n",
              "    <tr>\n",
              "      <th>1</th>\n",
              "      <td>Albania</td>\n",
              "      <td>3</td>\n",
              "      <td>1</td>\n",
              "      <td>29</td>\n",
              "      <td>3</td>\n",
              "      <td>6</td>\n",
              "      <td>6</td>\n",
              "      <td>0</td>\n",
              "      <td>0</td>\n",
              "      <td>3</td>\n",
              "      <td>1</td>\n",
              "      <td>0</td>\n",
              "      <td>0</td>\n",
              "      <td>1</td>\n",
              "      <td>0</td>\n",
              "      <td>1</td>\n",
              "      <td>0</td>\n",
              "      <td>red</td>\n",
              "      <td>0</td>\n",
              "      <td>0</td>\n",
              "      <td>0</td>\n",
              "      <td>0</td>\n",
              "      <td>1</td>\n",
              "      <td>0</td>\n",
              "      <td>0</td>\n",
              "      <td>0</td>\n",
              "      <td>1</td>\n",
              "      <td>0</td>\n",
              "      <td>red</td>\n",
              "      <td>red</td>\n",
              "    </tr>\n",
              "    <tr>\n",
              "      <th>2</th>\n",
              "      <td>Algeria</td>\n",
              "      <td>4</td>\n",
              "      <td>1</td>\n",
              "      <td>2388</td>\n",
              "      <td>20</td>\n",
              "      <td>8</td>\n",
              "      <td>2</td>\n",
              "      <td>2</td>\n",
              "      <td>0</td>\n",
              "      <td>3</td>\n",
              "      <td>1</td>\n",
              "      <td>1</td>\n",
              "      <td>0</td>\n",
              "      <td>0</td>\n",
              "      <td>1</td>\n",
              "      <td>0</td>\n",
              "      <td>0</td>\n",
              "      <td>green</td>\n",
              "      <td>0</td>\n",
              "      <td>0</td>\n",
              "      <td>0</td>\n",
              "      <td>0</td>\n",
              "      <td>1</td>\n",
              "      <td>1</td>\n",
              "      <td>0</td>\n",
              "      <td>0</td>\n",
              "      <td>0</td>\n",
              "      <td>0</td>\n",
              "      <td>green</td>\n",
              "      <td>white</td>\n",
              "    </tr>\n",
              "    <tr>\n",
              "      <th>3</th>\n",
              "      <td>American-Samoa</td>\n",
              "      <td>6</td>\n",
              "      <td>3</td>\n",
              "      <td>0</td>\n",
              "      <td>0</td>\n",
              "      <td>1</td>\n",
              "      <td>1</td>\n",
              "      <td>0</td>\n",
              "      <td>0</td>\n",
              "      <td>5</td>\n",
              "      <td>1</td>\n",
              "      <td>0</td>\n",
              "      <td>1</td>\n",
              "      <td>1</td>\n",
              "      <td>1</td>\n",
              "      <td>0</td>\n",
              "      <td>1</td>\n",
              "      <td>blue</td>\n",
              "      <td>0</td>\n",
              "      <td>0</td>\n",
              "      <td>0</td>\n",
              "      <td>0</td>\n",
              "      <td>0</td>\n",
              "      <td>0</td>\n",
              "      <td>1</td>\n",
              "      <td>1</td>\n",
              "      <td>1</td>\n",
              "      <td>0</td>\n",
              "      <td>blue</td>\n",
              "      <td>red</td>\n",
              "    </tr>\n",
              "    <tr>\n",
              "      <th>4</th>\n",
              "      <td>Andorra</td>\n",
              "      <td>3</td>\n",
              "      <td>1</td>\n",
              "      <td>0</td>\n",
              "      <td>0</td>\n",
              "      <td>6</td>\n",
              "      <td>0</td>\n",
              "      <td>3</td>\n",
              "      <td>0</td>\n",
              "      <td>3</td>\n",
              "      <td>1</td>\n",
              "      <td>0</td>\n",
              "      <td>1</td>\n",
              "      <td>1</td>\n",
              "      <td>0</td>\n",
              "      <td>0</td>\n",
              "      <td>0</td>\n",
              "      <td>gold</td>\n",
              "      <td>0</td>\n",
              "      <td>0</td>\n",
              "      <td>0</td>\n",
              "      <td>0</td>\n",
              "      <td>0</td>\n",
              "      <td>0</td>\n",
              "      <td>0</td>\n",
              "      <td>0</td>\n",
              "      <td>0</td>\n",
              "      <td>0</td>\n",
              "      <td>blue</td>\n",
              "      <td>red</td>\n",
              "    </tr>\n",
              "  </tbody>\n",
              "</table>\n",
              "</div>"
            ],
            "text/plain": [
              "             name  landmass  zone  area  ...  animate  text  topleft  botright\n",
              "0     Afghanistan         5     1   648  ...        0     0    black     green\n",
              "1         Albania         3     1    29  ...        1     0      red       red\n",
              "2         Algeria         4     1  2388  ...        0     0    green     white\n",
              "3  American-Samoa         6     3     0  ...        1     0     blue       red\n",
              "4         Andorra         3     1     0  ...        0     0     blue       red\n",
              "\n",
              "[5 rows x 30 columns]"
            ]
          },
          "metadata": {
            "tags": []
          },
          "execution_count": 3
        }
      ]
    },
    {
      "cell_type": "markdown",
      "metadata": {
        "id": "-KRODapErmeM",
        "colab_type": "text"
      },
      "source": [
        "## Challenge\n",
        "\n",
        "You'll get very good at reading documentation, Googling, asking for help, troubleshooting, debugging, etc. by the time you're done here at Lambda School. Our goal is to turn you into a data scientist that can solve their own problems. "
      ]
    },
    {
      "cell_type": "markdown",
      "metadata": {
        "id": "Hi71j4Y-Oj1q",
        "colab_type": "text"
      },
      "source": [
        "# [Objective](#load-csv-from-file) - Load a dataset (CSV) from a local file"
      ]
    },
    {
      "cell_type": "markdown",
      "metadata": {
        "id": "a2FqWlMhloY3",
        "colab_type": "text"
      },
      "source": [
        "## Overview\n",
        "\n",
        "We won't always have CSVs hosted on the interwebs for us. We need to be able to upload files from our local machines as well. With Google Colab this is trickier than it is with other software (like Jupyter Notebooks for example. Because the main file system backing Google Colab is Google Drive, we can't use a filepath to the file on our computers in order to access our data. We have to upload our files to Google Colab before we can start working with them."
      ]
    },
    {
      "cell_type": "markdown",
      "metadata": {
        "id": "jpm_rVwHlnOt",
        "colab_type": "text"
      },
      "source": [
        "## Follow Along"
      ]
    },
    {
      "cell_type": "markdown",
      "metadata": {
        "id": "9ocDcrXWhceM",
        "colab_type": "text"
      },
      "source": [
        "### Method 1: Google Colab File Upload Package\n",
        "- What should we google to try and figure this out?"
      ]
    },
    {
      "cell_type": "code",
      "metadata": {
        "id": "_HQlN7vIhtZe",
        "colab_type": "code",
        "colab": {}
      },
      "source": [
        "# You can also use the manual upload GUI over on the left of your screen.\n",
        "from google.colab import files\n",
        "uploaded = files.upload()"
      ],
      "execution_count": 0,
      "outputs": []
    },
    {
      "cell_type": "markdown",
      "metadata": {
        "id": "sqmNtickhoP_",
        "colab_type": "text"
      },
      "source": [
        "### Method 2: Use the GUI (Graphical User Interface)"
      ]
    },
    {
      "cell_type": "code",
      "metadata": {
        "id": "SliGiU1zhbea",
        "colab_type": "code",
        "colab": {}
      },
      "source": [
        ""
      ],
      "execution_count": 0,
      "outputs": []
    },
    {
      "cell_type": "markdown",
      "metadata": {
        "id": "A-jXtl0Er8EM",
        "colab_type": "text"
      },
      "source": [
        "## Challenge\n",
        "\n",
        "On the assignment this afternoon you'll get to choose a new dataset and try both of these methods, we will load hundreds of datasets into notebooks by the time the class is over, you'll be pro at it in no time."
      ]
    },
    {
      "cell_type": "markdown",
      "metadata": {
        "id": "5iFyoAdDOoqu",
        "colab_type": "text"
      },
      "source": [
        "# [Objective](#basic-pandas-functions) - Use basic Pandas functions for Exploratory Data Analysis (EDA)"
      ]
    },
    {
      "cell_type": "markdown",
      "metadata": {
        "id": "k9DobU7dqILL",
        "colab_type": "text"
      },
      "source": [
        "## Overview\n",
        "\n",
        "> Exploratory Data Analysis (EDA) refers to the critical process of performing initial investigations on data so as to discover patterns, to spot anomalies, to test hypotheses and to check assumptions with the help of summary statistics and graphical representations\n",
        "\n",
        "Exploratory Data Analysis is often the first thing that we'll do when starting out with a new dataset. How we treat our data, the models we choose, the approach we take to analyzing our data and in large part the entirety of our data science methodology and next steps are driven by the discoveries that we make during this stage of the process. "
      ]
    },
    {
      "cell_type": "markdown",
      "metadata": {
        "id": "iRBUyBOWog7X",
        "colab_type": "text"
      },
      "source": [
        "## Follow Along\n",
        "\n",
        "What can we discover about this dataset?\n",
        "\n",
        "- df.shape\n",
        "- df.head()\n",
        "- df.dtypes\n",
        "- df.describe()\n",
        " - Numeric\n",
        " - Non-Numeric\n",
        "- df['column'].value_counts()\n",
        "- df.isnull().sum()\n",
        "- df.fillna()\n",
        "- df.dropna()\n",
        "- df.drop()\n",
        "- pd.crosstab()"
      ]
    },
    {
      "cell_type": "code",
      "metadata": {
        "id": "cGU_UjFKpGsE",
        "colab_type": "code",
        "colab": {}
      },
      "source": [
        "# Lets try reading in a new dataset: The Adult Dataset\n",
        "# https://archive.ics.uci.edu/ml/datasets/adult"
      ],
      "execution_count": 0,
      "outputs": []
    },
    {
      "cell_type": "code",
      "metadata": {
        "id": "XJyni24kknaR",
        "colab_type": "code",
        "colab": {}
      },
      "source": [
        "data_url = 'https://archive.ics.uci.edu/ml/machine-learning-databases/adult/adult.data'"
      ],
      "execution_count": 0,
      "outputs": []
    },
    {
      "cell_type": "code",
      "metadata": {
        "id": "fSrQwxj5kn1g",
        "colab_type": "code",
        "colab": {}
      },
      "source": [
        "column_headers2=['age', 'workclass', 'fnlwgt', 'education', 'education-num', 'marital-status', 'occupation', 'relationship',\n",
        "                 'race', 'sex', 'capital-gain', 'capital-loss', 'hours-per-week', 'native-country', 'income']"
      ],
      "execution_count": 0,
      "outputs": []
    },
    {
      "cell_type": "code",
      "metadata": {
        "id": "kXFMoQpEkmAA",
        "colab_type": "code",
        "outputId": "d4ba2953-d850-4c48-971e-a787cc2a3c67",
        "colab": {
          "base_uri": "https://localhost:8080/",
          "height": 225
        }
      },
      "source": [
        "work_df = pd.read_csv(data_url, header=None, names=column_headers2)\n",
        "work_df.head(3)"
      ],
      "execution_count": 7,
      "outputs": [
        {
          "output_type": "execute_result",
          "data": {
            "text/html": [
              "<div>\n",
              "<style scoped>\n",
              "    .dataframe tbody tr th:only-of-type {\n",
              "        vertical-align: middle;\n",
              "    }\n",
              "\n",
              "    .dataframe tbody tr th {\n",
              "        vertical-align: top;\n",
              "    }\n",
              "\n",
              "    .dataframe thead th {\n",
              "        text-align: right;\n",
              "    }\n",
              "</style>\n",
              "<table border=\"1\" class=\"dataframe\">\n",
              "  <thead>\n",
              "    <tr style=\"text-align: right;\">\n",
              "      <th></th>\n",
              "      <th>age</th>\n",
              "      <th>workclass</th>\n",
              "      <th>fnlwgt</th>\n",
              "      <th>education</th>\n",
              "      <th>education-num</th>\n",
              "      <th>marital-status</th>\n",
              "      <th>occupation</th>\n",
              "      <th>relationship</th>\n",
              "      <th>race</th>\n",
              "      <th>sex</th>\n",
              "      <th>capital-gain</th>\n",
              "      <th>capital-loss</th>\n",
              "      <th>hours-per-week</th>\n",
              "      <th>native-country</th>\n",
              "      <th>income</th>\n",
              "    </tr>\n",
              "  </thead>\n",
              "  <tbody>\n",
              "    <tr>\n",
              "      <th>0</th>\n",
              "      <td>39</td>\n",
              "      <td>State-gov</td>\n",
              "      <td>77516</td>\n",
              "      <td>Bachelors</td>\n",
              "      <td>13</td>\n",
              "      <td>Never-married</td>\n",
              "      <td>Adm-clerical</td>\n",
              "      <td>Not-in-family</td>\n",
              "      <td>White</td>\n",
              "      <td>Male</td>\n",
              "      <td>2174</td>\n",
              "      <td>0</td>\n",
              "      <td>40</td>\n",
              "      <td>United-States</td>\n",
              "      <td>&lt;=50K</td>\n",
              "    </tr>\n",
              "    <tr>\n",
              "      <th>1</th>\n",
              "      <td>50</td>\n",
              "      <td>Self-emp-not-inc</td>\n",
              "      <td>83311</td>\n",
              "      <td>Bachelors</td>\n",
              "      <td>13</td>\n",
              "      <td>Married-civ-spouse</td>\n",
              "      <td>Exec-managerial</td>\n",
              "      <td>Husband</td>\n",
              "      <td>White</td>\n",
              "      <td>Male</td>\n",
              "      <td>0</td>\n",
              "      <td>0</td>\n",
              "      <td>13</td>\n",
              "      <td>United-States</td>\n",
              "      <td>&lt;=50K</td>\n",
              "    </tr>\n",
              "    <tr>\n",
              "      <th>2</th>\n",
              "      <td>38</td>\n",
              "      <td>Private</td>\n",
              "      <td>215646</td>\n",
              "      <td>HS-grad</td>\n",
              "      <td>9</td>\n",
              "      <td>Divorced</td>\n",
              "      <td>Handlers-cleaners</td>\n",
              "      <td>Not-in-family</td>\n",
              "      <td>White</td>\n",
              "      <td>Male</td>\n",
              "      <td>0</td>\n",
              "      <td>0</td>\n",
              "      <td>40</td>\n",
              "      <td>United-States</td>\n",
              "      <td>&lt;=50K</td>\n",
              "    </tr>\n",
              "  </tbody>\n",
              "</table>\n",
              "</div>"
            ],
            "text/plain": [
              "   age          workclass  fnlwgt  ... hours-per-week  native-country  income\n",
              "0   39          State-gov   77516  ...             40   United-States   <=50K\n",
              "1   50   Self-emp-not-inc   83311  ...             13   United-States   <=50K\n",
              "2   38            Private  215646  ...             40   United-States   <=50K\n",
              "\n",
              "[3 rows x 15 columns]"
            ]
          },
          "metadata": {
            "tags": []
          },
          "execution_count": 7
        }
      ]
    },
    {
      "cell_type": "code",
      "metadata": {
        "id": "lHT_6d0PmJIK",
        "colab_type": "code",
        "outputId": "1fcaa293-4bc8-4c5a-cb80-e45a8a2cf7f0",
        "colab": {
          "base_uri": "https://localhost:8080/",
          "height": 35
        }
      },
      "source": [
        "# data exploration techniques\n",
        "# what is the shape of the dataframe?\n",
        "work_df.shape"
      ],
      "execution_count": 8,
      "outputs": [
        {
          "output_type": "execute_result",
          "data": {
            "text/plain": [
              "(32561, 15)"
            ]
          },
          "metadata": {
            "tags": []
          },
          "execution_count": 8
        }
      ]
    },
    {
      "cell_type": "code",
      "metadata": {
        "id": "ordk4pDZmJYJ",
        "colab_type": "code",
        "outputId": "b1001585-5f8c-432e-84be-6226e14dbcb3",
        "colab": {
          "base_uri": "https://localhost:8080/",
          "height": 104
        }
      },
      "source": [
        "work_df.columns"
      ],
      "execution_count": 9,
      "outputs": [
        {
          "output_type": "execute_result",
          "data": {
            "text/plain": [
              "Index(['age', 'workclass', 'fnlwgt', 'education', 'education-num',\n",
              "       'marital-status', 'occupation', 'relationship', 'race', 'sex',\n",
              "       'capital-gain', 'capital-loss', 'hours-per-week', 'native-country',\n",
              "       'income'],\n",
              "      dtype='object')"
            ]
          },
          "metadata": {
            "tags": []
          },
          "execution_count": 9
        }
      ]
    },
    {
      "cell_type": "code",
      "metadata": {
        "id": "VUAdCMt4mJot",
        "colab_type": "code",
        "outputId": "f1eb76c0-b0e4-46fd-e2be-118c7b1ddaca",
        "colab": {
          "base_uri": "https://localhost:8080/",
          "height": 294
        }
      },
      "source": [
        "# what are the data types?\n",
        "work_df.dtypes"
      ],
      "execution_count": 10,
      "outputs": [
        {
          "output_type": "execute_result",
          "data": {
            "text/plain": [
              "age                int64\n",
              "workclass         object\n",
              "fnlwgt             int64\n",
              "education         object\n",
              "education-num      int64\n",
              "marital-status    object\n",
              "occupation        object\n",
              "relationship      object\n",
              "race              object\n",
              "sex               object\n",
              "capital-gain       int64\n",
              "capital-loss       int64\n",
              "hours-per-week     int64\n",
              "native-country    object\n",
              "income            object\n",
              "dtype: object"
            ]
          },
          "metadata": {
            "tags": []
          },
          "execution_count": 10
        }
      ]
    },
    {
      "cell_type": "code",
      "metadata": {
        "id": "6mEU_C6hmJ5g",
        "colab_type": "code",
        "outputId": "50c2687f-e62b-45bb-99ee-22e9739a8497",
        "colab": {
          "base_uri": "https://localhost:8080/",
          "height": 288
        }
      },
      "source": [
        "# high-level stats about our data\n",
        "work_df.describe()"
      ],
      "execution_count": 11,
      "outputs": [
        {
          "output_type": "execute_result",
          "data": {
            "text/html": [
              "<div>\n",
              "<style scoped>\n",
              "    .dataframe tbody tr th:only-of-type {\n",
              "        vertical-align: middle;\n",
              "    }\n",
              "\n",
              "    .dataframe tbody tr th {\n",
              "        vertical-align: top;\n",
              "    }\n",
              "\n",
              "    .dataframe thead th {\n",
              "        text-align: right;\n",
              "    }\n",
              "</style>\n",
              "<table border=\"1\" class=\"dataframe\">\n",
              "  <thead>\n",
              "    <tr style=\"text-align: right;\">\n",
              "      <th></th>\n",
              "      <th>age</th>\n",
              "      <th>fnlwgt</th>\n",
              "      <th>education-num</th>\n",
              "      <th>capital-gain</th>\n",
              "      <th>capital-loss</th>\n",
              "      <th>hours-per-week</th>\n",
              "    </tr>\n",
              "  </thead>\n",
              "  <tbody>\n",
              "    <tr>\n",
              "      <th>count</th>\n",
              "      <td>32561.000000</td>\n",
              "      <td>3.256100e+04</td>\n",
              "      <td>32561.000000</td>\n",
              "      <td>32561.000000</td>\n",
              "      <td>32561.000000</td>\n",
              "      <td>32561.000000</td>\n",
              "    </tr>\n",
              "    <tr>\n",
              "      <th>mean</th>\n",
              "      <td>38.581647</td>\n",
              "      <td>1.897784e+05</td>\n",
              "      <td>10.080679</td>\n",
              "      <td>1077.648844</td>\n",
              "      <td>87.303830</td>\n",
              "      <td>40.437456</td>\n",
              "    </tr>\n",
              "    <tr>\n",
              "      <th>std</th>\n",
              "      <td>13.640433</td>\n",
              "      <td>1.055500e+05</td>\n",
              "      <td>2.572720</td>\n",
              "      <td>7385.292085</td>\n",
              "      <td>402.960219</td>\n",
              "      <td>12.347429</td>\n",
              "    </tr>\n",
              "    <tr>\n",
              "      <th>min</th>\n",
              "      <td>17.000000</td>\n",
              "      <td>1.228500e+04</td>\n",
              "      <td>1.000000</td>\n",
              "      <td>0.000000</td>\n",
              "      <td>0.000000</td>\n",
              "      <td>1.000000</td>\n",
              "    </tr>\n",
              "    <tr>\n",
              "      <th>25%</th>\n",
              "      <td>28.000000</td>\n",
              "      <td>1.178270e+05</td>\n",
              "      <td>9.000000</td>\n",
              "      <td>0.000000</td>\n",
              "      <td>0.000000</td>\n",
              "      <td>40.000000</td>\n",
              "    </tr>\n",
              "    <tr>\n",
              "      <th>50%</th>\n",
              "      <td>37.000000</td>\n",
              "      <td>1.783560e+05</td>\n",
              "      <td>10.000000</td>\n",
              "      <td>0.000000</td>\n",
              "      <td>0.000000</td>\n",
              "      <td>40.000000</td>\n",
              "    </tr>\n",
              "    <tr>\n",
              "      <th>75%</th>\n",
              "      <td>48.000000</td>\n",
              "      <td>2.370510e+05</td>\n",
              "      <td>12.000000</td>\n",
              "      <td>0.000000</td>\n",
              "      <td>0.000000</td>\n",
              "      <td>45.000000</td>\n",
              "    </tr>\n",
              "    <tr>\n",
              "      <th>max</th>\n",
              "      <td>90.000000</td>\n",
              "      <td>1.484705e+06</td>\n",
              "      <td>16.000000</td>\n",
              "      <td>99999.000000</td>\n",
              "      <td>4356.000000</td>\n",
              "      <td>99.000000</td>\n",
              "    </tr>\n",
              "  </tbody>\n",
              "</table>\n",
              "</div>"
            ],
            "text/plain": [
              "                age        fnlwgt  ...  capital-loss  hours-per-week\n",
              "count  32561.000000  3.256100e+04  ...  32561.000000    32561.000000\n",
              "mean      38.581647  1.897784e+05  ...     87.303830       40.437456\n",
              "std       13.640433  1.055500e+05  ...    402.960219       12.347429\n",
              "min       17.000000  1.228500e+04  ...      0.000000        1.000000\n",
              "25%       28.000000  1.178270e+05  ...      0.000000       40.000000\n",
              "50%       37.000000  1.783560e+05  ...      0.000000       40.000000\n",
              "75%       48.000000  2.370510e+05  ...      0.000000       45.000000\n",
              "max       90.000000  1.484705e+06  ...   4356.000000       99.000000\n",
              "\n",
              "[8 rows x 6 columns]"
            ]
          },
          "metadata": {
            "tags": []
          },
          "execution_count": 11
        }
      ]
    },
    {
      "cell_type": "code",
      "metadata": {
        "id": "8MoLrY20mKGl",
        "colab_type": "code",
        "outputId": "2f58cb9c-5c8d-4fba-bbbd-44d240c954d6",
        "colab": {
          "base_uri": "https://localhost:8080/",
          "height": 168
        }
      },
      "source": [
        "# what about non-numeric?\n",
        "work_df.describe(exclude = 'number')"
      ],
      "execution_count": 12,
      "outputs": [
        {
          "output_type": "execute_result",
          "data": {
            "text/html": [
              "<div>\n",
              "<style scoped>\n",
              "    .dataframe tbody tr th:only-of-type {\n",
              "        vertical-align: middle;\n",
              "    }\n",
              "\n",
              "    .dataframe tbody tr th {\n",
              "        vertical-align: top;\n",
              "    }\n",
              "\n",
              "    .dataframe thead th {\n",
              "        text-align: right;\n",
              "    }\n",
              "</style>\n",
              "<table border=\"1\" class=\"dataframe\">\n",
              "  <thead>\n",
              "    <tr style=\"text-align: right;\">\n",
              "      <th></th>\n",
              "      <th>workclass</th>\n",
              "      <th>education</th>\n",
              "      <th>marital-status</th>\n",
              "      <th>occupation</th>\n",
              "      <th>relationship</th>\n",
              "      <th>race</th>\n",
              "      <th>sex</th>\n",
              "      <th>native-country</th>\n",
              "      <th>income</th>\n",
              "    </tr>\n",
              "  </thead>\n",
              "  <tbody>\n",
              "    <tr>\n",
              "      <th>count</th>\n",
              "      <td>32561</td>\n",
              "      <td>32561</td>\n",
              "      <td>32561</td>\n",
              "      <td>32561</td>\n",
              "      <td>32561</td>\n",
              "      <td>32561</td>\n",
              "      <td>32561</td>\n",
              "      <td>32561</td>\n",
              "      <td>32561</td>\n",
              "    </tr>\n",
              "    <tr>\n",
              "      <th>unique</th>\n",
              "      <td>9</td>\n",
              "      <td>16</td>\n",
              "      <td>7</td>\n",
              "      <td>15</td>\n",
              "      <td>6</td>\n",
              "      <td>5</td>\n",
              "      <td>2</td>\n",
              "      <td>42</td>\n",
              "      <td>2</td>\n",
              "    </tr>\n",
              "    <tr>\n",
              "      <th>top</th>\n",
              "      <td>Private</td>\n",
              "      <td>HS-grad</td>\n",
              "      <td>Married-civ-spouse</td>\n",
              "      <td>Prof-specialty</td>\n",
              "      <td>Husband</td>\n",
              "      <td>White</td>\n",
              "      <td>Male</td>\n",
              "      <td>United-States</td>\n",
              "      <td>&lt;=50K</td>\n",
              "    </tr>\n",
              "    <tr>\n",
              "      <th>freq</th>\n",
              "      <td>22696</td>\n",
              "      <td>10501</td>\n",
              "      <td>14976</td>\n",
              "      <td>4140</td>\n",
              "      <td>13193</td>\n",
              "      <td>27816</td>\n",
              "      <td>21790</td>\n",
              "      <td>29170</td>\n",
              "      <td>24720</td>\n",
              "    </tr>\n",
              "  </tbody>\n",
              "</table>\n",
              "</div>"
            ],
            "text/plain": [
              "       workclass education       marital-status  ...    sex  native-country  income\n",
              "count      32561     32561                32561  ...  32561           32561   32561\n",
              "unique         9        16                    7  ...      2              42       2\n",
              "top      Private   HS-grad   Married-civ-spouse  ...   Male   United-States   <=50K\n",
              "freq       22696     10501                14976  ...  21790           29170   24720\n",
              "\n",
              "[4 rows x 9 columns]"
            ]
          },
          "metadata": {
            "tags": []
          },
          "execution_count": 12
        }
      ]
    },
    {
      "cell_type": "code",
      "metadata": {
        "id": "i02mOhxumKS5",
        "colab_type": "code",
        "outputId": "8d63eafa-917f-469f-8659-af33cadfe3fd",
        "colab": {
          "base_uri": "https://localhost:8080/",
          "height": 138
        }
      },
      "source": [
        "# call a single column?\n",
        "work_df[['occupation', 'native-country', 'sex', 'race']].sample(3)"
      ],
      "execution_count": 13,
      "outputs": [
        {
          "output_type": "execute_result",
          "data": {
            "text/html": [
              "<div>\n",
              "<style scoped>\n",
              "    .dataframe tbody tr th:only-of-type {\n",
              "        vertical-align: middle;\n",
              "    }\n",
              "\n",
              "    .dataframe tbody tr th {\n",
              "        vertical-align: top;\n",
              "    }\n",
              "\n",
              "    .dataframe thead th {\n",
              "        text-align: right;\n",
              "    }\n",
              "</style>\n",
              "<table border=\"1\" class=\"dataframe\">\n",
              "  <thead>\n",
              "    <tr style=\"text-align: right;\">\n",
              "      <th></th>\n",
              "      <th>occupation</th>\n",
              "      <th>native-country</th>\n",
              "      <th>sex</th>\n",
              "      <th>race</th>\n",
              "    </tr>\n",
              "  </thead>\n",
              "  <tbody>\n",
              "    <tr>\n",
              "      <th>17822</th>\n",
              "      <td>Protective-serv</td>\n",
              "      <td>United-States</td>\n",
              "      <td>Male</td>\n",
              "      <td>White</td>\n",
              "    </tr>\n",
              "    <tr>\n",
              "      <th>27774</th>\n",
              "      <td>?</td>\n",
              "      <td>United-States</td>\n",
              "      <td>Male</td>\n",
              "      <td>White</td>\n",
              "    </tr>\n",
              "    <tr>\n",
              "      <th>5606</th>\n",
              "      <td>Exec-managerial</td>\n",
              "      <td>United-States</td>\n",
              "      <td>Male</td>\n",
              "      <td>White</td>\n",
              "    </tr>\n",
              "  </tbody>\n",
              "</table>\n",
              "</div>"
            ],
            "text/plain": [
              "             occupation  native-country    sex    race\n",
              "17822   Protective-serv   United-States   Male   White\n",
              "27774                 ?   United-States   Male   White\n",
              "5606    Exec-managerial   United-States   Male   White"
            ]
          },
          "metadata": {
            "tags": []
          },
          "execution_count": 13
        }
      ]
    },
    {
      "cell_type": "code",
      "metadata": {
        "id": "79uD3p6OoHJm",
        "colab_type": "code",
        "outputId": "8e40cc60-a2be-40ad-9862-5254f77481e5",
        "colab": {
          "base_uri": "https://localhost:8080/",
          "height": 121
        }
      },
      "source": [
        "# top values from a single column?\n",
        "work_df['native-country'].value_counts().head()"
      ],
      "execution_count": 14,
      "outputs": [
        {
          "output_type": "execute_result",
          "data": {
            "text/plain": [
              " United-States    29170\n",
              " Mexico             643\n",
              " ?                  583\n",
              " Philippines        198\n",
              " Germany            137\n",
              "Name: native-country, dtype: int64"
            ]
          },
          "metadata": {
            "tags": []
          },
          "execution_count": 14
        }
      ]
    },
    {
      "cell_type": "code",
      "metadata": {
        "id": "CP0CF45xoHZU",
        "colab_type": "code",
        "outputId": "b19f3245-5983-4bd1-b53b-20a9fe776be3",
        "colab": {
          "base_uri": "https://localhost:8080/",
          "height": 121
        }
      },
      "source": [
        "# sort my values\n",
        "work_df['native-country'].value_counts().sort_values(ascending=True).head()"
      ],
      "execution_count": 15,
      "outputs": [
        {
          "output_type": "execute_result",
          "data": {
            "text/plain": [
              " Holand-Netherlands             1\n",
              " Scotland                      12\n",
              " Honduras                      13\n",
              " Hungary                       13\n",
              " Outlying-US(Guam-USVI-etc)    14\n",
              "Name: native-country, dtype: int64"
            ]
          },
          "metadata": {
            "tags": []
          },
          "execution_count": 15
        }
      ]
    },
    {
      "cell_type": "code",
      "metadata": {
        "id": "SPHDVZj_oHnV",
        "colab_type": "code",
        "outputId": "5606cf45-2d31-42c6-ef08-85c3d6f07b2d",
        "colab": {
          "base_uri": "https://localhost:8080/",
          "height": 173
        }
      },
      "source": [
        "# descrive those values\n",
        "work_df['native-country'].value_counts().head(8).describe()"
      ],
      "execution_count": 16,
      "outputs": [
        {
          "output_type": "execute_result",
          "data": {
            "text/plain": [
              "count        8.000000\n",
              "mean      3884.000000\n",
              "std      10219.417344\n",
              "min        106.000000\n",
              "25%        119.250000\n",
              "50%        167.500000\n",
              "75%        598.000000\n",
              "max      29170.000000\n",
              "Name: native-country, dtype: float64"
            ]
          },
          "metadata": {
            "tags": []
          },
          "execution_count": 16
        }
      ]
    },
    {
      "cell_type": "code",
      "metadata": {
        "id": "SUOQgWVSoH1F",
        "colab_type": "code",
        "outputId": "e0cfd559-c239-4d14-daeb-aa503c52ceb9",
        "colab": {
          "base_uri": "https://localhost:8080/",
          "height": 121
        }
      },
      "source": [
        "# unknown country\n",
        "work_df['native-country'].value_counts().head()"
      ],
      "execution_count": 17,
      "outputs": [
        {
          "output_type": "execute_result",
          "data": {
            "text/plain": [
              " United-States    29170\n",
              " Mexico             643\n",
              " ?                  583\n",
              " Philippines        198\n",
              " Germany            137\n",
              "Name: native-country, dtype: int64"
            ]
          },
          "metadata": {
            "tags": []
          },
          "execution_count": 17
        }
      ]
    },
    {
      "cell_type": "code",
      "metadata": {
        "id": "6tfIsVLoq0f5",
        "colab_type": "code",
        "outputId": "5c770c77-9617-4dd1-ad66-880e01f4f500",
        "colab": {
          "base_uri": "https://localhost:8080/",
          "height": 121
        }
      },
      "source": [
        "# examine the ?\n",
        "subset = work_df['native-country'].value_counts().head()\n",
        "subset"
      ],
      "execution_count": 23,
      "outputs": [
        {
          "output_type": "execute_result",
          "data": {
            "text/plain": [
              " United-States    29170\n",
              " Mexico             643\n",
              " ?                  583\n",
              " Philippines        198\n",
              " Germany            137\n",
              "Name: native-country, dtype: int64"
            ]
          },
          "metadata": {
            "tags": []
          },
          "execution_count": 23
        }
      ]
    },
    {
      "cell_type": "code",
      "metadata": {
        "id": "vxxzlmwpoH_t",
        "colab_type": "code",
        "outputId": "e0e22c4b-df52-4dbd-9404-bc69fdf4a432",
        "colab": {
          "base_uri": "https://localhost:8080/",
          "height": 294
        }
      },
      "source": [
        "# what about missing data?\n",
        "# how much missing data do I have?\n",
        "work_df.isnull().sum()"
      ],
      "execution_count": 24,
      "outputs": [
        {
          "output_type": "execute_result",
          "data": {
            "text/plain": [
              "age               0\n",
              "workclass         0\n",
              "fnlwgt            0\n",
              "education         0\n",
              "education-num     0\n",
              "marital-status    0\n",
              "occupation        0\n",
              "relationship      0\n",
              "race              0\n",
              "sex               0\n",
              "capital-gain      0\n",
              "capital-loss      0\n",
              "hours-per-week    0\n",
              "native-country    0\n",
              "income            0\n",
              "dtype: int64"
            ]
          },
          "metadata": {
            "tags": []
          },
          "execution_count": 24
        }
      ]
    },
    {
      "cell_type": "code",
      "metadata": {
        "id": "wvHogKTVoI0V",
        "colab_type": "code",
        "colab": {}
      },
      "source": [
        "# flag ? as missing\n",
        "import numpy as np\n",
        "work_df = work_df.replace(' ?', np.NaN)"
      ],
      "execution_count": 0,
      "outputs": []
    },
    {
      "cell_type": "code",
      "metadata": {
        "id": "uoJ7k57gqbub",
        "colab_type": "code",
        "outputId": "e6f53e8c-4627-4d26-af21-2da596df3a66",
        "colab": {
          "base_uri": "https://localhost:8080/",
          "height": 294
        }
      },
      "source": [
        "# missing data appears \n",
        "work_df.isnull().sum()"
      ],
      "execution_count": 26,
      "outputs": [
        {
          "output_type": "execute_result",
          "data": {
            "text/plain": [
              "age                  0\n",
              "workclass         1836\n",
              "fnlwgt               0\n",
              "education            0\n",
              "education-num        0\n",
              "marital-status       0\n",
              "occupation        1843\n",
              "relationship         0\n",
              "race                 0\n",
              "sex                  0\n",
              "capital-gain         0\n",
              "capital-loss         0\n",
              "hours-per-week       0\n",
              "native-country     583\n",
              "income               0\n",
              "dtype: int64"
            ]
          },
          "metadata": {
            "tags": []
          },
          "execution_count": 26
        }
      ]
    },
    {
      "cell_type": "code",
      "metadata": {
        "id": "F3XP4sN7qb1c",
        "colab_type": "code",
        "colab": {}
      },
      "source": [
        "# how to handle missing data?\n",
        "# replace it\n",
        "work_df['native-country'] = work_df['native-country'].replace(np.NaN, 'Scotland')"
      ],
      "execution_count": 0,
      "outputs": []
    },
    {
      "cell_type": "code",
      "metadata": {
        "id": "faijNozLqbzf",
        "colab_type": "code",
        "outputId": "045403c7-34d5-4b19-b619-6e3869146e5c",
        "colab": {
          "base_uri": "https://localhost:8080/",
          "height": 121
        }
      },
      "source": [
        "work_df['native-country'].value_counts().head()"
      ],
      "execution_count": 45,
      "outputs": [
        {
          "output_type": "execute_result",
          "data": {
            "text/plain": [
              " United-States    29170\n",
              " Mexico             643\n",
              "Scotland            583\n",
              " Philippines        198\n",
              " Germany            137\n",
              "Name: native-country, dtype: int64"
            ]
          },
          "metadata": {
            "tags": []
          },
          "execution_count": 45
        }
      ]
    },
    {
      "cell_type": "code",
      "metadata": {
        "id": "woBmDBSjqbrF",
        "colab_type": "code",
        "outputId": "3510da4e-7f5d-4597-f576-2c3a639bf382",
        "colab": {
          "base_uri": "https://localhost:8080/",
          "height": 294
        }
      },
      "source": [
        "# simple get rid of missing data\n",
        "work_df = work_df.replace(' ?', np.NaN)\n",
        "work_df.isnull().sum()"
      ],
      "execution_count": 46,
      "outputs": [
        {
          "output_type": "execute_result",
          "data": {
            "text/plain": [
              "age                  0\n",
              "workclass         1836\n",
              "fnlwgt               0\n",
              "education            0\n",
              "education-num        0\n",
              "marital-status       0\n",
              "occupation        1843\n",
              "relationship         0\n",
              "race                 0\n",
              "sex                  0\n",
              "capital-gain         0\n",
              "capital-loss         0\n",
              "hours-per-week       0\n",
              "native-country       0\n",
              "income               0\n",
              "dtype: int64"
            ]
          },
          "metadata": {
            "tags": []
          },
          "execution_count": 46
        }
      ]
    },
    {
      "cell_type": "code",
      "metadata": {
        "id": "oML9ZdA1qboj",
        "colab_type": "code",
        "colab": {}
      },
      "source": [
        "# simply get rid of missing data\n",
        "work_df['native-country'].dropna(how='any', inplace=True)"
      ],
      "execution_count": 0,
      "outputs": []
    },
    {
      "cell_type": "code",
      "metadata": {
        "id": "3cnFOAx7qblW",
        "colab_type": "code",
        "outputId": "e206e061-c52d-40f9-a59a-fce834240910",
        "colab": {
          "base_uri": "https://localhost:8080/",
          "height": 35
        }
      },
      "source": [
        "work_df['native-country'].isnull().sum()"
      ],
      "execution_count": 31,
      "outputs": [
        {
          "output_type": "execute_result",
          "data": {
            "text/plain": [
              "0"
            ]
          },
          "metadata": {
            "tags": []
          },
          "execution_count": 31
        }
      ]
    },
    {
      "cell_type": "markdown",
      "metadata": {
        "id": "9zx_C0SKsNU7",
        "colab_type": "text"
      },
      "source": [
        "## Challenge\n",
        "\n",
        "Hopefully a lot of the above functions are review for you from the precourse material, but if not, again, don't worry. We'll be using these again on the assignment and most days of class -whenever we need to wrap our head around a new dataset."
      ]
    },
    {
      "cell_type": "markdown",
      "metadata": {
        "id": "9pQ5XKZMPA4b",
        "colab_type": "text"
      },
      "source": [
        "# [Objective](#pandas-visualizations) Generate Basic Visualizations (graphs) with Pandas"
      ]
    },
    {
      "cell_type": "markdown",
      "metadata": {
        "id": "mUdn5YhXqe3m",
        "colab_type": "text"
      },
      "source": [
        "## Overview\n",
        "\n",
        "One of the cornerstones of Exploratory Data Analysis (EDA) is visualizing our data in order to understand their distributions and how they're interrelated. Our brains are amazing pattern detection machines and sometimes the \"eyeball test\" is the most efficient one. In this section we'll look at some of the most basic kinds of \"exploratory visualizations\" to help us better understand our data."
      ]
    },
    {
      "cell_type": "markdown",
      "metadata": {
        "id": "CE1OpSBpljcU",
        "colab_type": "text"
      },
      "source": [
        "## Follow Along\n",
        "\n",
        "Lets demonstrate creating a:\n",
        "\n",
        "- Line Plot\n",
        "- Histogram\n",
        "- Scatter Plot\n",
        "- Density Plot\n",
        "- Making plots of our crosstabs\n",
        "\n",
        "How does each of these plots show us something different about the data? \n",
        "\n",
        "Why might it be important for us to be able to visualize how our data is distributed?"
      ]
    },
    {
      "cell_type": "markdown",
      "metadata": {
        "id": "-cPyM8eLlIQB",
        "colab_type": "text"
      },
      "source": [
        "### Line Plot"
      ]
    },
    {
      "cell_type": "code",
      "metadata": {
        "id": "vGXfTAyJlU4J",
        "colab_type": "code",
        "outputId": "f0e86d77-6bce-4891-abbd-00b62b7dd9e6",
        "colab": {
          "base_uri": "https://localhost:8080/",
          "height": 173
        }
      },
      "source": [
        "work_df['age'].describe()"
      ],
      "execution_count": 32,
      "outputs": [
        {
          "output_type": "execute_result",
          "data": {
            "text/plain": [
              "count    32561.000000\n",
              "mean        38.581647\n",
              "std         13.640433\n",
              "min         17.000000\n",
              "25%         28.000000\n",
              "50%         37.000000\n",
              "75%         48.000000\n",
              "max         90.000000\n",
              "Name: age, dtype: float64"
            ]
          },
          "metadata": {
            "tags": []
          },
          "execution_count": 32
        }
      ]
    },
    {
      "cell_type": "code",
      "metadata": {
        "id": "oaIMgClzt0LM",
        "colab_type": "code",
        "outputId": "eaa35dd4-a8d0-430c-ee8b-19de99ed03f8",
        "colab": {
          "base_uri": "https://localhost:8080/",
          "height": 265
        }
      },
      "source": [
        "work_df['age'].value_counts().plot();"
      ],
      "execution_count": 33,
      "outputs": [
        {
          "output_type": "display_data",
          "data": {
            "image/png": "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\n",
            "text/plain": [
              "<Figure size 432x288 with 1 Axes>"
            ]
          },
          "metadata": {
            "tags": [],
            "needs_background": "light"
          }
        }
      ]
    },
    {
      "cell_type": "code",
      "metadata": {
        "id": "7Erbnk8Wt0Xy",
        "colab_type": "code",
        "colab": {}
      },
      "source": [
        ""
      ],
      "execution_count": 0,
      "outputs": []
    },
    {
      "cell_type": "markdown",
      "metadata": {
        "id": "MvT2W_HulJuR",
        "colab_type": "text"
      },
      "source": [
        "### Histogram"
      ]
    },
    {
      "cell_type": "code",
      "metadata": {
        "id": "GJg_yWrMlVRs",
        "colab_type": "code",
        "outputId": "800c2aa0-6853-4816-c8b3-fe355c1aa006",
        "colab": {
          "base_uri": "https://localhost:8080/",
          "height": 265
        }
      },
      "source": [
        "work_df['age'].hist(bins=72);"
      ],
      "execution_count": 34,
      "outputs": [
        {
          "output_type": "display_data",
          "data": {
            "image/png": "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\n",
            "text/plain": [
              "<Figure size 432x288 with 1 Axes>"
            ]
          },
          "metadata": {
            "tags": [],
            "needs_background": "light"
          }
        }
      ]
    },
    {
      "cell_type": "markdown",
      "metadata": {
        "id": "P67iVO7ulK5J",
        "colab_type": "text"
      },
      "source": [
        "### Scatter Plot\n"
      ]
    },
    {
      "cell_type": "code",
      "metadata": {
        "id": "Tz9J6YqnlV0j",
        "colab_type": "code",
        "outputId": "05a6a95a-91c4-42df-c08a-ab0613de7017",
        "colab": {
          "base_uri": "https://localhost:8080/",
          "height": 279
        }
      },
      "source": [
        "work_df.plot.scatter('age', 'hours-per-week');"
      ],
      "execution_count": 35,
      "outputs": [
        {
          "output_type": "display_data",
          "data": {
            "image/png": "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\n",
            "text/plain": [
              "<Figure size 432x288 with 1 Axes>"
            ]
          },
          "metadata": {
            "tags": [],
            "needs_background": "light"
          }
        }
      ]
    },
    {
      "cell_type": "markdown",
      "metadata": {
        "id": "O5Q6uv49lOOZ",
        "colab_type": "text"
      },
      "source": [
        "### Density Plot - Kernel Density Estimate (KDE)"
      ]
    },
    {
      "cell_type": "code",
      "metadata": {
        "id": "MBpB3NqjlWc8",
        "colab_type": "code",
        "outputId": "d264a3c4-7660-4872-de1c-6236d3280108",
        "colab": {
          "base_uri": "https://localhost:8080/",
          "height": 265
        }
      },
      "source": [
        "work_df['age'].plot.density();"
      ],
      "execution_count": 36,
      "outputs": [
        {
          "output_type": "display_data",
          "data": {
            "image/png": "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\n",
            "text/plain": [
              "<Figure size 432x288 with 1 Axes>"
            ]
          },
          "metadata": {
            "tags": [],
            "needs_background": "light"
          }
        }
      ]
    },
    {
      "cell_type": "markdown",
      "metadata": {
        "id": "1vwTB_8ZlQHl",
        "colab_type": "text"
      },
      "source": [
        "### Plotting using Crosstabs"
      ]
    },
    {
      "cell_type": "code",
      "metadata": {
        "id": "agnXxQNrlXFC",
        "colab_type": "code",
        "outputId": "2e75af92-c751-4f93-d83d-c314facae6e0",
        "colab": {
          "base_uri": "https://localhost:8080/",
          "height": 121
        }
      },
      "source": [
        "work_df['race'].value_counts().head()"
      ],
      "execution_count": 37,
      "outputs": [
        {
          "output_type": "execute_result",
          "data": {
            "text/plain": [
              " White                 27816\n",
              " Black                  3124\n",
              " Asian-Pac-Islander     1039\n",
              " Amer-Indian-Eskimo      311\n",
              " Other                   271\n",
              "Name: race, dtype: int64"
            ]
          },
          "metadata": {
            "tags": []
          },
          "execution_count": 37
        }
      ]
    },
    {
      "cell_type": "code",
      "metadata": {
        "id": "xK9Sc4f5vasz",
        "colab_type": "code",
        "outputId": "49086bdd-a759-489f-d755-36713aa98e2e",
        "colab": {
          "base_uri": "https://localhost:8080/",
          "height": 69
        }
      },
      "source": [
        "work_df['sex'].value_counts()"
      ],
      "execution_count": 38,
      "outputs": [
        {
          "output_type": "execute_result",
          "data": {
            "text/plain": [
              " Male      21790\n",
              " Female    10771\n",
              "Name: sex, dtype: int64"
            ]
          },
          "metadata": {
            "tags": []
          },
          "execution_count": 38
        }
      ]
    },
    {
      "cell_type": "code",
      "metadata": {
        "id": "rohKetxgvaqc",
        "colab_type": "code",
        "outputId": "341f5ee6-89d7-4c93-f5e6-172e268078bd",
        "colab": {
          "base_uri": "https://localhost:8080/",
          "height": 228
        }
      },
      "source": [
        "pd.crosstab(work_df['race'], work_df['sex'])"
      ],
      "execution_count": 39,
      "outputs": [
        {
          "output_type": "execute_result",
          "data": {
            "text/html": [
              "<div>\n",
              "<style scoped>\n",
              "    .dataframe tbody tr th:only-of-type {\n",
              "        vertical-align: middle;\n",
              "    }\n",
              "\n",
              "    .dataframe tbody tr th {\n",
              "        vertical-align: top;\n",
              "    }\n",
              "\n",
              "    .dataframe thead th {\n",
              "        text-align: right;\n",
              "    }\n",
              "</style>\n",
              "<table border=\"1\" class=\"dataframe\">\n",
              "  <thead>\n",
              "    <tr style=\"text-align: right;\">\n",
              "      <th>sex</th>\n",
              "      <th>Female</th>\n",
              "      <th>Male</th>\n",
              "    </tr>\n",
              "    <tr>\n",
              "      <th>race</th>\n",
              "      <th></th>\n",
              "      <th></th>\n",
              "    </tr>\n",
              "  </thead>\n",
              "  <tbody>\n",
              "    <tr>\n",
              "      <th>Amer-Indian-Eskimo</th>\n",
              "      <td>119</td>\n",
              "      <td>192</td>\n",
              "    </tr>\n",
              "    <tr>\n",
              "      <th>Asian-Pac-Islander</th>\n",
              "      <td>346</td>\n",
              "      <td>693</td>\n",
              "    </tr>\n",
              "    <tr>\n",
              "      <th>Black</th>\n",
              "      <td>1555</td>\n",
              "      <td>1569</td>\n",
              "    </tr>\n",
              "    <tr>\n",
              "      <th>Other</th>\n",
              "      <td>109</td>\n",
              "      <td>162</td>\n",
              "    </tr>\n",
              "    <tr>\n",
              "      <th>White</th>\n",
              "      <td>8642</td>\n",
              "      <td>19174</td>\n",
              "    </tr>\n",
              "  </tbody>\n",
              "</table>\n",
              "</div>"
            ],
            "text/plain": [
              "sex                   Female   Male\n",
              "race                               \n",
              " Amer-Indian-Eskimo      119    192\n",
              " Asian-Pac-Islander      346    693\n",
              " Black                  1555   1569\n",
              " Other                   109    162\n",
              " White                  8642  19174"
            ]
          },
          "metadata": {
            "tags": []
          },
          "execution_count": 39
        }
      ]
    },
    {
      "cell_type": "code",
      "metadata": {
        "id": "XT7SKhuvvam4",
        "colab_type": "code",
        "colab": {}
      },
      "source": [
        "myresults = pd.crosstab(work_df['race'], work_df['sex'])"
      ],
      "execution_count": 0,
      "outputs": []
    },
    {
      "cell_type": "code",
      "metadata": {
        "id": "7smfcLhVvajN",
        "colab_type": "code",
        "outputId": "6f5f0a54-26a3-4aae-d15c-4d150921a55f",
        "colab": {
          "base_uri": "https://localhost:8080/",
          "height": 375
        }
      },
      "source": [
        "myresults.plot(kind = 'bar');"
      ],
      "execution_count": 41,
      "outputs": [
        {
          "output_type": "display_data",
          "data": {
            "image/png": "iVBORw0KGgoAAAANSUhEUgAAAYMAAAFmCAYAAACP7fYjAAAABHNCSVQICAgIfAhkiAAAAAlwSFlzAAALEgAACxIB0t1+/AAAADh0RVh0U29mdHdhcmUAbWF0cGxvdGxpYiB2ZXJzaW9uMy4yLjEsIGh0dHA6Ly9tYXRwbG90bGliLm9yZy+j8jraAAAgAElEQVR4nO3de7hVVb3/8fcHRFEDJd1yUCDQA6Z4QdwmZZppCprXTIUugpqUl9ROx7TbTzM9j3VMT2pRmKR2TNGypMQUOaYdFeUSclVBwOMmVALCWyqX7++POTYsYG/Ya63Nmou9Pq/nWc+e8zsv67vWA/u75xhjjqmIwMzMalu7vBMwM7P8uRiYmZmLgZmZuRiYmRkuBmZmhouBmZnRgmIgqYekxyTNljRL0iUp/kFJ4yXNTT+7pLgk3SRpnqTpkgYUnGtY2n+upGEF8YMlzUjH3CRJW+LDmplZ01pyZbAK+HpE7AsMBC6UtC9wBTAhIvoAE9I6wHFAn/QaAYyErHgAVwKHAh8BrmwsIGmf8wqOG1z+RzMzs5baZnM7RMRiYHFaflPSHGAP4GTgyLTbHcCfgctT/M7I7mabKGlnSd3SvuMjYhmApPHAYEl/BjpHxMQUvxM4BXhoU3ntuuuu0atXryI+qpmZTZky5e8RUbdhfLPFoJCkXsBBwDNA11QoAF4FuqblPYBXCg5rSLFNxRuaiG9Sr169mDx5cjHpm5nVPEkvNxVvcQeypA8AvwUujYg3Crelq4AtPq+FpBGSJkuavGTJki39dmZmNaNFxUBSB7JCcFdE3J/Cr6XmH9LP11N8EdCj4PDuKbapePcm4huJiFERUR8R9XV1G13lmJlZiVoymkjAbcCciLihYNNYoHFE0DDggYL4WWlU0UBgRWpOehg4VlKX1HF8LPBw2vaGpIHpvc4qOJeZmVVAS/oMDgO+CMyQNC3FvgVcB9wr6VzgZeCMtG0ccDwwD3gHOBsgIpZJ+j4wKe13dWNnMnABcDuwPVnH8SY7j5uzcuVKGhoaePfdd0s5vGZ07NiR7t2706FDh7xTMbMqoa11Cuv6+vrYsAN5wYIFdOrUiV122QXfqtC0iGDp0qW8+eab9O7dO+90zKzCJE2JiPoN423qDuR3333XhWAzJLHLLrv46snM1tOmigHgQtAC/o7MbENtrhiYmVnxirrpzMzMSnTVTq1wjhXln6MZvjIwMzMXg3K9/fbbfPrTn+bAAw9kv/32Y8yYMUyZMoVPfOITHHzwwQwaNIjFixezYsUK9t57b1544QUAhg4dyq233ppz9mZmGTcTlelPf/oTu+++Ow8++CAAK1as4LjjjuOBBx6grq6OMWPG8O1vf5vRo0dzyy23MHz4cC655BKWL1/Oeeedl3P2ZmYZF4My7b///nz961/n8ssv54QTTqBLly7MnDmTY445BoDVq1fTrVs3AI455hjuu+8+LrzwQp577rk80zYzW4+LQZn69u3L1KlTGTduHN/5znc46qij6NevH08//fRG+65Zs4Y5c+awww47sHz5crp3797EGc3MKs99BmX629/+xg477MAXvvAFLrvsMp555hmWLFmythisXLmSWbNmAXDjjTeyzz778Otf/5qzzz6blStX5pm6mdlavjIo04wZM7jsssto164dHTp0YOTIkWyzzTZcfPHFrFixglWrVnHppZeyzTbb8Itf/IJnn32WTp06ccQRR3DNNdfwve99L++PYGbmYlCuQYMGMWjQoI3iTzzxxEaxOXPmrF2+4YYbNtpuZpYXNxOZmZmLgZmZuRiYmRkuBmZmhouBmZnhYmBmZrRgaKmk0cAJwOsRsV+KjQH2TrvsDPwjIvpL6gXMAV5I2yZGxFfSMQez7jnH44BLIiIkfRAYA/QCFgJnRMTyVvhs9LriwdY4zVoLr/t0ce/fqxedOnWiffv2APz0pz/lYx/7WKvm1OjII4/k+uuvp75+o6fZmZltVkvuM7gduAW4szEQEWc2Lkv6EVA4yfZLEdG/ifOMBM4DniErBoPJHnx/BTAhIq6TdEVav7y4j1G9HnvsMXbddde80zAz26TNNhNFxBPAsqa2KXt+4hnA3Zs6h6RuQOeImBgRQVZYTkmbTwbuSMt3FMTbpJdeeonBgwdz8MEHc/jhh/P8888DMHz4cM4//3wGDhzInnvuyZ///GfOOecc9tlnH4YPH772+PPPP5/6+nr69evHlVde2eR7PPLII3z0ox9lwIABnH766bz11luV+GhmthUrt8/gcOC1iJhbEOst6a+SHpd0eIrtATQU7NOQYgBdI2JxWn4V6FpmTlXlk5/8JP379+fQQw8FYMSIEdx8881MmTKF66+/ngsuuGDtvsuXL+fpp5/mxhtv5KSTTuJrX/sas2bNYsaMGUybNg2Aa6+9lsmTJzN9+nQef/xxpk+fvt77/f3vf+eaa67h0UcfZerUqdTX1/tuZzPbrHKnoxjK+lcFi4GeEbE09RH8XlK/lp4s9SFEc9sljQBGAPTs2bPElCursJnorbfe4qmnnuL0009fu/29995bu3ziiSciif3335+uXbuy//77A9CvXz8WLlxI//79uffeexk1ahSrVq1i8eLFzJ49mwMOOGDtOSZOnMjs2bM57LDDAHj//ff56Ec/WomPamZbsZKLgaRtgM8ABzfGIuI94L20PEXSS0BfYBFQOF9z9xQDeE1St4hYnJqTXm/uPSNiFDAKoL6+vtmiUa3WrFnDzjvvvPav/A1tt912ALRr127tcuP6qlWrWLBgAddffz2TJk2iS5cuDB8+nHfffXe9c0QExxxzDHffvcmWOzOz9ZTTTPQp4PmIWNv8I6lOUvu0vCfQB5ifmoHekDQw9TOcBTyQDhsLDEvLwwribU7nzp3p3bs39913H5D94i7mITdvvPEGO+64IzvttBOvvfYaDz300Eb7DBw4kCeffJJ58+YB2WM5X3zxxdb5AGbWZrVkaOndwJHArpIagCsj4jZgCBt3HB8BXC1pJbAG+EpENHY+X8C6oaUPpRfAdcC9ks4FXibrkG4VxQ4FrYS77rqL888/n2uuuYaVK1cyZMgQDjzwwBYde+CBB3LQQQfx4Q9/mB49eqxtCipUV1fH7bffztChQ9c2QV1zzTX07du3VT+HmbUtygb3bH3q6+tj8uTJ68XmzJnDPvvsk1NGWxd/V2YVdtVOrXCOFZvfZzMkTYmIjW5I8h3IZmbmYmBmZi4GZmaGi4GZmeFiYGZmuBiYmRnlT0dR3VpjKNd65ytuWFevXr3o0aMHf/nLX9bG+vfvz6pVq5g5c2azxy1cuJATTjhhk/uYmbUmXxlsYW+++SavvPIKkI3tNzOrRi4GW9gZZ5zBmDFjALj77rsZOnTo2m0LFy7k8MMPZ8CAAQwYMICnnnpqo+NXr17NZZddxiGHHMIBBxzAz3/+84rlbma1w8VgCzvttNO4//77AfjDH/7AiSeeuHbbbrvtxvjx45k6dSpjxozh4osv3uj42267jZ122olJkyYxadIkbr31VhYsWFCx/M2sNrTtPoMqsMsuu9ClSxfuuece9tlnH3bYYYe121auXMlFF13EtGnTaN++fZMTyj3yyCNMnz6d3/zmNwCsWLGCuXPn0rt374p9BjNr+1wMKuDMM8/kwgsv5Pbbb18vfuONN9K1a1eee+451qxZQ8eOHTc6NiK4+eabGTRoUIWyNbNa5GaiCjj11FP5xje+sdEv9BUrVtCtWzfatWvHr371K1avXr3RsYMGDWLkyJGsXLkSgBdffJG33367InmbWe1o21cGrTDDX2vo1KkTl19++UbxCy64gNNOO40777yTwYMHs+OOO260z5e+9CUWLlzIgAEDiAjq6ur4/e9/X4m0zayGeArrGuXvyqzCPIW1mZlVOxcDMzNre8Vga232qiR/R2a2oc0WA0mjJb0uaWZB7CpJiyRNS6/jC7Z9U9I8SS9IGlQQH5xi8yRdURDvLemZFB8jadtSP0zHjh1ZunSpf9ltQkSwdOnSJoexmlntaslootuBW4A7N4jfGBHXFwYk7QsMAfoBuwOPSmp8EvtPgGOABmCSpLERMRv4QTrXPZJ+BpwLjCzlw3Tv3p2GhgaWLFlSyuE1o2PHjnTv3j3vNMysimy2GETEE5J6tfB8JwP3RMR7wAJJ84CPpG3zImI+gKR7gJMlzQGOAj6X9rkDuIoSi0GHDh18Z66ZWQnK6TO4SNL01IzUJcX2AF4p2KchxZqL7wL8IyJWbRA3M7MKKrUYjAT2AvoDi4EftVpGmyBphKTJkia7KcjMrPWUVAwi4rWIWB0Ra4BbWdcUtAjoUbBr9xRrLr4U2FnSNhvEm3vfURFRHxH1dXV1paRuZmZNKKkYSOpWsHoq0DjSaCwwRNJ2knoDfYBngUlAnzRyaFuyTuaxkQ37eQz4bDp+GPBAKTmZmVnpNtuBLOlu4EhgV0kNwJXAkZL6AwEsBL4MEBGzJN0LzAZWARdGxOp0nouAh4H2wOiImJXe4nLgHknXAH8Fbmu1T2dmZi3SktFEQ5sIN/sLOyKuBa5tIj4OGNdEfD7rmpnMzCwHbe4OZDMzK56LgZmZuRiYmZmLgZmZ4WJgZma4GJiZGS4GZmaGi4GZmeFiYGZmuBiYmRkuBmZmhouBmZnhYmBmZrgYmJkZLgZmZoaLgZmZ4WJgZma4GJiZGS0oBpJGS3pd0syC2H9Kel7SdEm/k7RziveS9E9J09LrZwXHHCxphqR5km6SpBT/oKTxkuamn122xAc1M7PmteTK4HZg8Aax8cB+EXEA8CLwzYJtL0VE//T6SkF8JHAe0Ce9Gs95BTAhIvoAE9K6mZlV0GaLQUQ8ASzbIPZIRKxKqxOB7ps6h6RuQOeImBgRAdwJnJI2nwzckZbvKIibmVmFtEafwTnAQwXrvSX9VdLjkg5PsT2AhoJ9GlIMoGtELE7LrwJdWyEnMzMrwjblHCzp28Aq4K4UWgz0jIilkg4Gfi+pX0vPFxEhKTbxfiOAEQA9e/YsPXEzM1tPyVcGkoYDJwCfT00/RMR7EbE0LU8BXgL6AotYvympe4oBvJaakRqbk15v7j0jYlRE1EdEfV1dXampm5nZBkoqBpIGA98AToqIdwridZLap+U9yTqK56dmoDckDUyjiM4CHkiHjQWGpeVhBXEzM6uQzTYTSbobOBLYVVIDcCXZ6KHtgPFphOjENHLoCOBqSSuBNcBXIqKx8/kCspFJ25P1MTT2M1wH3CvpXOBl4IxW+WRmZtZimy0GETG0ifBtzez7W+C3zWybDOzXRHwpcPTm8jAzsy3HdyCbmZmLgZmZuRiYmRkuBmZmhouBmZnhYmBmZrgYmJkZLgZmZoaLgZmZ4WJgZma4GJiZGS4GZmaGi4GZmeFiYGZmuBiYmRkuBmZmhouBmZnhYmBmZrSwGEgaLel1STMLYh+UNF7S3PSzS4pL0k2S5kmaLmlAwTHD0v5zJQ0riB8saUY65ialByubmVlltPTK4HZg8AaxK4AJEdEHmJDWAY4D+qTXCGAkZMUDuBI4FPgIcGVjAUn7nFdw3IbvZWZmW1CLikFEPAEs2yB8MnBHWr4DOKUgfmdkJgI7S+oGDALGR8SyiFgOjAcGp22dI2JiRARwZ8G5zMysAsrpM+gaEYvT8qtA17S8B/BKwX4NKbapeEMTcTMzq5BW6UBOf9FHa5xrUySNkDRZ0uQlS5Zs6bczM6sZ5RSD11ITD+nn6ym+COhRsF/3FNtUvHsT8Y1ExKiIqI+I+rq6ujJSNzOzQuUUg7FA44igYcADBfGz0qiigcCK1Jz0MHCspC6p4/hY4OG07Q1JA9MoorMKzmVmZhWwTUt2knQ3cCSwq6QGslFB1wH3SjoXeBk4I+0+DjgemAe8A5wNEBHLJH0fmJT2uzoiGjulLyAbsbQ98FB6mZlZhbSoGETE0GY2Hd3EvgFc2Mx5RgOjm4hPBvZrSS5mZtb6fAeymZm5GJiZmYuBmZnhYmBmZrgYmJkZLgZmZoaLgZmZ4WJgZma4GJiZGS28A9nMrJb1uuLBss+xsGMrJLIF+crAzMxcDMzMzMXAzMxwMTAzM1wMzMwMFwMzM8PFwMzMcDEwMzPKKAaS9pY0reD1hqRLJV0laVFB/PiCY74paZ6kFyQNKogPTrF5kq4o90OZmVlxSr4DOSJeAPoDSGoPLAJ+B5wN3BgR1xfuL2lfYAjQD9gdeFRS37T5J8AxQAMwSdLYiJhdam5mZlac1pqO4mjgpYh4WVJz+5wM3BMR7wELJM0DPpK2zYuI+QCS7kn7uhiYmVVIa/UZDAHuLli/SNJ0SaMldUmxPYBXCvZpSLHm4mZmViFlFwNJ2wInAfel0EhgL7ImpMXAj8p9j4L3GiFpsqTJS5Ysaa3TmpnVvNa4MjgOmBoRrwFExGsRsToi1gC3sq4paBHQo+C47inWXHwjETEqIuojor6urq4VUjczM2idYjCUgiYiSd0Ktp0KzEzLY4EhkraT1BvoAzwLTAL6SOqdrjKGpH3NzKxCyupAlrQj2SigLxeEfyipPxDAwsZtETFL0r1kHcOrgAsjYnU6z0XAw0B7YHREzConLzMzK05ZxSAi3gZ22SD2xU3sfy1wbRPxccC4cnIxM7PS+Q5kMzNzMTAzMxcDMzPDxcDMzHAxMDMzXAzMzAwXAzMzw8XAzMxwMTAzM1wMzMwMFwMzM8PFwMzMcDEwMzNcDMzMDBcDMzPDxcDMzHAxMDMzXAzMzIxWKAaSFkqaIWmapMkp9kFJ4yXNTT+7pLgk3SRpnqTpkgYUnGdY2n+upGHl5mVmZi3XWlcGn4yI/hFRn9avACZERB9gQloHOA7ok14jgJGQFQ/gSuBQ4CPAlY0FxMzMtrwt1Ux0MnBHWr4DOKUgfmdkJgI7S+oGDALGR8SyiFgOjAcGb6HczMxsA61RDAJ4RNIUSSNSrGtELE7LrwJd0/IewCsFxzakWHNxMzOrgG1a4Rwfj4hFknYDxkt6vnBjRISkaIX3IRWbEQA9e/ZsjVOamRmtcGUQEYvSz9eB35G1+b+Wmn9IP19Puy8CehQc3j3Fmotv+F6jIqI+Iurr6urKTd3MzJKyioGkHSV1alwGjgVmAmOBxhFBw4AH0vJY4Kw0qmggsCI1Jz0MHCupS+o4PjbFzMysAsptJuoK/E5S47l+HRF/kjQJuFfSucDLwBlp/3HA8cA84B3gbICIWCbp+8CktN/VEbGszNzMzKyFyioGETEfOLCJ+FLg6CbiAVzYzLlGA6PLycfMzErjO5DNzMzFwMzMXAzMzAwXAzMzw8XAzMxwMTAzM1wMzMwMFwMzM8PFwMzMcDEwMzNcDMzMDBcDMzPDxcDMzHAxMDMzXAzMzAwXAzMzw8XAzMxwMTAzM8ooBpJ6SHpM0mxJsyRdkuJXSVokaVp6HV9wzDclzZP0gqRBBfHBKTZP0hXlfSQzMytWOc9AXgV8PSKmSuoETJE0Pm27MSKuL9xZ0r7AEKAfsDvwqKS+afNPgGOABmCSpLERMbuM3MzMrAglF4OIWAwsTstvSpoD7LGJQ04G7omI94AFkuYBH0nb5kXEfABJ96R9XQzMzCqkVfoMJPUCDgKeSaGLJE2XNFpSlxTbA3il4LCGFGsubmZmFVJ2MZD0AeC3wKUR8QYwEtgL6E925fCjct+j4L1GSJosafKSJUta67RmZjWvrGIgqQNZIbgrIu4HiIjXImJ1RKwBbmVdU9AioEfB4d1TrLn4RiJiVETUR0R9XV1dOambmVmBckYTCbgNmBMRNxTEuxXsdiowMy2PBYZI2k5Sb6AP8CwwCegjqbekbck6mceWmpeZmRWvnNFEhwFfBGZImpZi3wKGSuoPBLAQ+DJARMySdC9Zx/Aq4MKIWA0g6SLgYaA9MDoiZpWRl5mZFamc0UT/C6iJTeM2ccy1wLVNxMdt6jgzM9uyfAeymZm5GJiZmYuBmZnhYmBmZrgYmJkZ5Q0tNWtzel3xYNnnWNjxc+UnctWK8s9hVgRfGZiZmYuBmZm5GJiZGS4GZmaGi4GZmeFiYGZmuBiYmRkuBmZmhm86s9Zy1U6tcA7faGWWF18ZmJmZi4GZmbkYmJkZVdRnIGkw8GOy5yD/IiKuyzmlmlLuBG0LO7ZSImaWi6ooBpLaAz8BjgEagEmSxkbE7Hwz2wx3mppZG1EVxQD4CDAvIuYDSLoHOBnYosXAfw2bNc/TedeWaukz2AN4pWC9IcXMzKwCFBF554CkzwKDI+JLaf2LwKERcdEG+40ARqTVvYEXKproxnYF/p5zDtXC38U6/i7W8XexTrV8Fx+KiLoNg9XSTLQI6FGw3j3F1hMRo4BRlUpqcyRNjoj6vPOoBv4u1vF3sY6/i3Wq/buolmaiSUAfSb0lbQsMAcbmnJOZWc2oiiuDiFgl6SLgYbKhpaMjYlbOaZmZ1YyqKAYAETEOGJd3HkWqmiarKuDvYh1/F+v4u1inqr+LquhANjOzfFVLn4GZmeXIxcCKpkyPze9ZGySpidh2eeRiVioXgyJI6iDpYkm/Sa+vSuqQd16VFlnb4tbWv7Ml3Va4IukD1OD3I6mdpDPyzqNaSNpB0ncl3ZrW+0g6Ie+8muNiUJyRwMHAT9NrQIrVoqmSDsk7iSrRIOmnAJK6AI8A/51vSpUXEWuAb+SdRxX5JfAe8NG0vgi4Jr90Ns0dyEWQ9FxEHLi5WC2Q9Dzwr8DLwNuAyC4aDsg1sZxI+iHQmeyPhesi4rc5p5QLSdeR3WU7huzfBQARsSy3pHLSeJOZpL9GxEEpVrW/L6pmaOlWYrWkvSLiJQBJewKrc84pL4PyTiBvkj5TsPoM8F3gWSAkfSYi7s8ns1ydmX5eWBALYM8ccsnb+5K2J/v8SNqL7EqhKvnKoAiSjia79JtP9pfwh4CzI+KxXBPLiaSPA30i4peS6oAPRMSCvPOqFEm/3MTmiIhzKpaMVR1JxwLfBvYlazo8jCr+feFiUKQ0SmTvtPpCRFRtpd+SJF0J1AN7R0RfSbsD90XEYTmnZjmStAPwb0DPiBghqQ/Zv5E/5pxaLiTtAgwk++NxYkRUw0R1TXIHchHSQ3gGAUcCnwIulPRvuSaVn1OBk0jtwhHxN6BTrhnlRNIdknYuWO8iaXSeOeXol8D7wMfSelV3mm5JkiZExNKIeDAi/hgRf5c0Ie+8muM+g+L8AXgXmAGsyTmXvL0fESGpsT10x7wTytEBEfGPxpWIWC7poDwTytFeEXGmpKEAEfFOU/dhtGWSOgI7ALum0WWNn78zVfycFheD4nSv1dEyTbhX0s+BnSWdB5wD3JpzTnlpJ6lLRCwHkPRBavf/1lbVabqFfBm4FNgdmFoQfwO4JZeMWsB9BkWQ9ANgQkQ8kncu1UDSMcCxZH/5PBwR43NOKReSzgK+BdxH9l18Frg2In6Va2I5SP8mvsP6nabDI+LPeeaVB0lfjYib886jpVwMiiDpVLKbidoBK1k3tr5zrolZ7iT1Az6ZVv8nIrbo87ur2dbUabolSDoqIv5ng6HHa1XrkONavZQt1Q1kdxPOiBqtopLeJDUBNKVWC2NEzJK0BOgIIKlnRPxfzmnlpSOwnOz3y76SiIgncs6pkj4B/A9wYhPbAqjKYuArgyJIegI4Mt12X9MkfR9YDPyK7C/AzwPdIuL/5ZpYDiSdBPyIrI34dbL7T+ZERL9cE8tBako9E5jFukEWEREn5ZeVtYSLQREk3U52J+VDFHSKRcQNeeWUF0/NsY6k54CjgEcj4iBJnwS+EBHn5pxaxUl6gWx0Va11Gm8k3ZN0GtCLglaYiLg6r5w2xfcZFGcBMAHYlmxMfeOrFr0t6fOS2qfZKj9PwVw0NWZlRCwlG1XULt1hWrUPPt/C5gM1N5NvMx4ATgZWkf3faHxVJfcZFCEivpd3DlXkc8CP0yuAJ1OsFv0jTVv9BHCXpNep4v/0W4Kkm8n+HbwDTEs3VxVePV+cV2456h4Rg/NOoqXcTNQCkv4rIi6V9Aea6Dx1e2htSzfcvcu6vpOdgLvS1UJNkDRsE5sjIu6sWDJVQtIo4OaImJF3Li3hYtACkg6OiCmSPtHU9oh4vNI55S1NTHceG7eHenK2Gibpkoj48eZibZmkGWR/NG4D9CFrOnuPKp/m3cWgCI1FYYPYCbU4CZekp4C/AFMomMa7lubx38Qw25q9/0TS1IgYsEFs7Xz+tUDShza1PSJerlQuxXAxKIKkqcBZETEzrQ8FLo2IQ/PNrPIkTYuI/nnnYdUh/V/4HPBxsj8SGnUC1kTE0bkklgNJ/wU8BTwZEYvyzqel3IFcnM8Cv5H0OeBw4Cyy6Rhq0R8lHR8RNfes3+ak6Zv3BRbW2l23ZL/8FgO7kt1z0ehNYHouGeVnHnAK8MM0R99T6fUk8Fy13qfkK4MiSeoL/B74P+DUiPhnzinlIjWR7EjWFlqTU3Okm81uApaRzcfzE+A1sn6UyyPijvyyy0d6+t++aXV2RMzPM5+8ped8fCy9TgJ2q9b/Iy4GLVDQIdRoN2AFaehctXYI2ZaVbjY7nWz00GNkN1vNl7Qb2YSG++eaYAVJ6gz8guwZ0M+lcH+yPqVzI+KNvHLLQ5q2e3+yInAYWYFcAjxdrUPU3UzUMifknUA1SnO19yHNxwPU2hw0ayLiRQBJCxr/Co6I1yWtyje1irsJmA0MaWwGSb8Qv0s2bfNZOeZWUZLGkz27YBowEfiPiJiTb1ab52LQAo29/2lu9oaIeE/SkcABQM2NnwaQ9CXgEqA72T/6gcDTZNMy1Ip2qSC2A9Zs8CCTWru7/7CIGF4YSJM5Xi1pbj4p5WY+2e+GPsBS4O+SllR7P5KbiYogaRrZNAO9gHFkt5v3i4jj88wrD6np7BCyKYr7S/ow2V9ATU7b2xZJWkg2GVtTT/KKiNizshnlR9LciOjTzLZ5EfGvlc4pb6npbCBZU9FAoA6YGRGbukEvN74yKM6aiFiV5im/OSJulvTXvJPKybsR8a4kJG0XEc9L2jvvpCopInrlnUMVeUrS/wO+Xzi9u6Tvkl0x1qL3yKbn+Gda7k42r1lVcjEozso0nvos1s1VXquTcjWkh8D/HhgvaT8CDVwAAAlESURBVDlQlTfTWEV8FbgNmJeuoCHrQP4rUFOzt0q6kexqoA/Z538a+BkwrPBZ2dXGzURFkLQv8BWyEQF3S+oNnBERP8g5tVylaTp2Av4UEe/nnY/lJ/WrFQ4tfSnPfPIg6WKyewqmRcTqze1fLVwMWkBS5+aGxtXaE63Sw96bFRHLKpWLmbUeF4MWKJxvRdKEwlvrm5qLpS2TtIDsnoua7zQ1a0vcZ9Ayhb/4NvzLuKlfim1WRPTOOwcza321Nha6VNHMclPrNUHSYWkefyR9QdINknrmnZeZlcZXBi2zm6R/I7sKaFwmrdfll1auRgIHSjoQ+DrZVAS/App85oOZVTdfGbTMrWRT8X6gYLlx/Rc55pWnVWk8+cnALRHxE2r3edBmWz13IFtJJD0O/Ak4GzgCeJ1set6amZzNrC3xlUGJ0oNuatmZZHdVnhsRr5LdXfmf+aZkZqXylUGJau1RfmbWtrkDuXQP5p1AHvzcX7O2yVcGZmbmPoNiSPqMpLmSVkh6Q9KbkmrqCU5NkTQi7xzMrDy+MiiCpHnAiVvDU4sqqdam5DBri3xlUJzXXAiaVFNTcpi1Rb4yKIKkHwP/QjaH/3uN8Yi4P7ekqoCk7hHRkHceZlY6XxkUpzPZk4uOJXu4zYnACblmlBNJ/5EebkNENEjqIumavPMys9L4ysBK0tR9Fu47MNt6+T6DIkjqSPYIv35Ax8Z4RJyTW1L5aZ+effwegKTtge1yzsnMSuRmouL8iqzPYBDwONkUDG/mmlF+7gImSDpX0rnAeOCOnHMysxK5magIjU0jkqZHxAGSOgB/iYiBeeeWB0nHAY1PfRsfEQ/nmY+Zlc7NRMVZmX7+Q9J+wKvAbjnmk6uIeAh4KO88zKx8biYqzihJXYDvAmOB2cAP800pH5IGSpok6S1J70ta7buxzbZebiaykkiaDAwB7gPqgbOAvhHxzVwTM7OSuBi0gKQvRMR/Fzzucj0RcUOlc8qbpMkRUd/Yf5JintbbbCvlPoOW2TH99GMd13lH0rbANEk/BBbjZkezrZavDKwkknqSPepyW+BrwE7ATyNiXq6JmVlJXAxaQNJNm9oeERdXKpe8SeoDXA/sBcwA/j0iFuWblZmVy5f1LTMlvToCA4C56dWf7C/jWjIa+CNwGjAVuDnfdMysNfjKoAiSJgIfj4hVab3mbjqTNC0i+hesez4iszbAHcjF6UI2c+mytP6BFKslHSUdxLpnGGxfuB4RU3PLzMxK5iuDIkg6G7gKeIzsl98RwFURUTNz8kh6bBObIyKOqlgyZtZqXAyKJOlfgEPT6jMR8Wqe+ZiZtQZ3IBevPbAEWA70lXREzvnkTtKovHMws/K4z6AIkn4AnAnMAtakcABP5JZUdajPOwEzK4+LQXFOAfZufKCLrfV63gmYWXncTFSc+UCHvJOoNhExOO8czKw8vjIozjtkc/FMANZeHdTSHciNJPUFLgM+RMG/I48mMts6uRgUZ2x6WTZ19c+AW4HVOediZmXy0FIriaQpEXFw3nmYWetwMWgBSTPIRg01qXE+/1oi6SqyjuPfsX6T2bLmjjGz6uVi0AKSPrSp7RHxcqVyqRaSFjQRjojYs+LJmFnZXAxKJOmEiPhj3nmYmbUGF4MSebZOkLQfsC/Z1N4ARMSd+WVkZqXyaKLSafO7tF2SrgSOJCsG44DjgP8FXAzMtkK+6ayFJLXfYMbOL+eWTHX4LHA08GpEnA0cSPboSzPbCrkYtFBErAbWSNoprT+bc0p5+2dErAFWSepMNrKoR845mVmJ3ExUnLeAGZLGA283BmvxDmRgsqSdyW46m0L23Tydb0pmVip3IBdB0rCm4rX0cJumSOoFdI6I6TmnYmYlcjEokqTtgZ4R8ULeueRB0ocj4nlJTY6k8mMvzbZOLgZFkHQicD2wbUT0ltQfuDoiTso5tYqRNCoiRjTz+Es/9tJsK+ViUARJU4CjgD9HxEEpNjMi9ss3MzOz8ng0UXFWRsSKDWJrmtyzjZN0uqROafk7ku6XdFDeeZlZaVwMijNL0ueA9pL6SLoZeCrvpHLy3Yh4U9LHgU8Bt5FNaW1mWyEXg+J8FehHNkvn3cAbwKW5ZpSfxmcYfBoYFREPAtvmmI+ZlcF9BlYSSX8EFgHHAAOAfwLPRsSBuSZmZiVxMSiCpHrgW0Av1n/UYy0+z2AHYDAwIyLmSuoG7BcR43NOzcxK4GJQBEkvkD33dwYFHce1+DyDQpJ2BD4DDImIT+edj5kVz9NRFGdJRPgZyICkbcn6Cz4HDAJ+izuQzbZavjIogqSjgaHABNZ/1OP9uSVVYZKOJfsOjgUeA8YAN0dErzzzMrPyuBgUQdJ/Ax8GZrGumSgi4pz8sqosSWuAvwDDI2JBis334y7Ntm5uJirOIRGxd95J5GwAMAR4VNJ84B6gfb4pmVm5fJ9BcZ6StG/eSeQpIqZFxBURsRdwJdAf6CDpIUkjck7PzErkZqIiSJoD7AUsIOszEFkzUc0NLS0kqR3ZXchDaqnJzKwtcTEogqQPNRWv9aGlZrb1czEoURpbfyow1GPrzWxr5z6DIkjaVtKpku4DFpM9EN5j681sq+crgxbw2Hoza+tcDFrAY+vNrK3zfQYt47H1Ztam+cqgSJI+RtZkdBrwHPC7iBiVb1ZmZuVxMSiRx9abWVviYmBmZh5aamZmLgZmZoaLgZmZ4WJgZma4GJiZGS4GZmaGi4FZSZTx/x9rM/yP2ayFJPWS9IKkO4GZwG2SJkuaJel7BfsdIukpSc9JelZSJ0ntJf2npEmSpkv6cn6fxGxjnpvIrDh9gGERMVHSByNimaT2wARJBwDPk81qe2ZETJLUGfgncC6wIiIOkbQd8KSkRxonPjTLm4uBWXFejoiJafmM9NznbYBuwL5AAIsjYhJARLwBa6dBP0DSZ9OxO5EVFhcDqwouBmbFeRtAUm/g34FDImK5pNuBjps4TsBXI+LhLZ+iWfHcZ2BWms5khWGFpK7AcSn+AtBN0iEAqb9gG+Bh4HxJHVK8b3p0qllV8JWBWQki4jlJfyXrI3gFeDLF35d0JnCzpO3J+gs+BfwC6AVMlSRgCXBKHrmbNcWzlpqZmZuJzMzMxcDMzHAxMDMzXAzMzAwXAzMzw8XAzMxwMTAzM1wMzMwM+P8fQa8suQDCYQAAAABJRU5ErkJggg==\n",
            "text/plain": [
              "<Figure size 432x288 with 1 Axes>"
            ]
          },
          "metadata": {
            "tags": [],
            "needs_background": "light"
          }
        }
      ]
    },
    {
      "cell_type": "code",
      "metadata": {
        "id": "WuKi11OxvaeP",
        "colab_type": "code",
        "colab": {}
      },
      "source": [
        "myresults = pd.crosstab(work_df['marital-status'], work_df['sex'])"
      ],
      "execution_count": 0,
      "outputs": []
    },
    {
      "cell_type": "code",
      "metadata": {
        "id": "N0UPzikGwJld",
        "colab_type": "code",
        "outputId": "f89e35ba-3f97-45b6-f6b1-783a15647998",
        "colab": {
          "base_uri": "https://localhost:8080/",
          "height": 405
        }
      },
      "source": [
        "myresults.plot(kind = 'bar')"
      ],
      "execution_count": 43,
      "outputs": [
        {
          "output_type": "execute_result",
          "data": {
            "text/plain": [
              "<matplotlib.axes._subplots.AxesSubplot at 0x7f516661ed68>"
            ]
          },
          "metadata": {
            "tags": []
          },
          "execution_count": 43
        },
        {
          "output_type": "display_data",
          "data": {
            "image/png": "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\n",
            "text/plain": [
              "<Figure size 432x288 with 1 Axes>"
            ]
          },
          "metadata": {
            "tags": [],
            "needs_background": "light"
          }
        }
      ]
    },
    {
      "cell_type": "markdown",
      "metadata": {
        "id": "y2qBPH-Wsiar",
        "colab_type": "text"
      },
      "source": [
        "## Challenge\n",
        "\n",
        "These are some of the most basic and important types of data visualizations. They're so important that they're built straight into Pandas and can be accessed with some very concise code. At the beginning our data exploration is about understanding the characteristics of our dataset, but over time it becomes about communicating insights in as effective and digestable a manner as possible, and that typically means using graphs in one way or another. See how intuitive of a graph you can make using a crosstab on this dataset."
      ]
    },
    {
      "cell_type": "markdown",
      "metadata": {
        "id": "trZtxlPtASwI",
        "colab_type": "text"
      },
      "source": [
        "# Review\n",
        "\n",
        "Whew, that was a lot. Again, if this content seems overwhelming, remember that this won't be the last time that we'll talk about the skills contained in this lesson. They're right at the beginning of the course because we'll use these skills nearly every day, so you'll get really good at these things in no time!\n",
        "\n",
        "You know when you're learning a new board game and somebody tries to explain the rules to you and it doesn't make very much sense? My friends always end up saying something like: \"It sounds more complicated then it really is, lets just play a round and you'll get it.\" \n",
        "\n",
        "That's the same message that I have for you. There's a lot of new things here at Lambda School in the first week:\n",
        "\n",
        "- New Course\n",
        "- New Schedule\n",
        "- New Community\n",
        "- New Tools\n",
        "- New Processes\n",
        "- New Content\n",
        "\n",
        "As we go through a cycle of one sprint, it will all start making a whole lot more sense. \n",
        "\n",
        "---\n",
        "\n",
        "Your assignment for this afternoon can be found in the -other- notebook inside the module folder in this week's repository on GitHub. You are going to pick another [UCI Machine Learning Repository](https://archive.ics.uci.edu/ml/index.php) dataset and do much of the same as what we have done above.\n",
        "\n",
        "In order to start out with something that won't be impossibly hard, please use one of the datasets that is listed as \"Most Popular\" on the right side of the UCI website.\n",
        "\n",
        "Why am I **not** assigning a specific dataset to you for your assignment? As a baby step in getting you more comfortable with open-endedness. Traditional education has been training you to expect there to be a single correct solution to things -that's rarely the case in data science. There are pros and cons to every decision that we make. Over the course of the first unit, we will work on helping you be comfortable open-endedness as we navigate the sea of tradeoffs that exist when we approach data. and you choosing the dataset for your assignment is the first tiny step that we're going to take in that direction. \n",
        "\n",
        "Assignment Notebook:\n",
        "\n"
      ]
>>>>>>> 9fc9c911db55bbbd00a0754611e9dfbf58c64eec
    }
   ],
   "source": [
    "pd.crosstab(work_df['race'], work_df['sex'])"
   ]
  },
  {
   "cell_type": "code",
   "execution_count": 0,
   "metadata": {
    "colab": {},
    "colab_type": "code",
    "id": "XT7SKhuvvam4"
   },
   "outputs": [],
   "source": [
    "myresults = pd.crosstab(work_df['race'], work_df['sex'])"
   ]
  },
  {
   "cell_type": "code",
   "execution_count": 0,
   "metadata": {
    "colab": {
     "base_uri": "https://localhost:8080/",
     "height": 376
    },
    "colab_type": "code",
    "id": "7smfcLhVvajN",
    "outputId": "83e20d84-52cf-422d-ee98-e7bcdc0c765e"
   },
   "outputs": [
    {
     "data": {
      "image/png": "iVBORw0KGgoAAAANSUhEUgAAAYMAAAFnCAYAAABEsSWGAAAABHNCSVQICAgIfAhkiAAAAAlwSFlz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\nwLXCJFZtDsIAAAAASUVORK5CYII=\n",
      "text/plain": [
       "<Figure size 432x288 with 1 Axes>"
      ]
     },
     "metadata": {
      "tags": []
     },
     "output_type": "display_data"
    }
   ],
   "source": [
    "myresults.plot(kind = 'bar');"
   ]
  },
  {
   "cell_type": "code",
   "execution_count": 0,
   "metadata": {
    "colab": {},
    "colab_type": "code",
    "id": "WuKi11OxvaeP"
   },
   "outputs": [],
   "source": [
    "myresults = pd.crosstab(work_df['marital-status'], work_df['sex'])"
   ]
  },
  {
   "cell_type": "code",
   "execution_count": 0,
   "metadata": {
    "colab": {
     "base_uri": "https://localhost:8080/",
     "height": 405
    },
    "colab_type": "code",
    "id": "N0UPzikGwJld",
    "outputId": "f7c7d45a-db5b-4354-d667-f4352821a71c"
   },
   "outputs": [
    {
     "data": {
      "text/plain": [
       "<matplotlib.axes._subplots.AxesSubplot at 0x7fe3b2ae7240>"
      ]
     },
     "execution_count": 95,
     "metadata": {
      "tags": []
     },
     "output_type": "execute_result"
    },
    {
     "data": {
      "image/png": "iVBORw0KGgoAAAANSUhEUgAAAYMAAAFyCAYAAAAXqrauAAAABHNCSVQICAgIfAhkiAAAAAlwSFlz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\nRK5CYII=\n",
      "text/plain": [
       "<Figure size 432x288 with 1 Axes>"
      ]
     },
     "metadata": {
      "tags": []
     },
     "output_type": "display_data"
    }
   ],
   "source": [
    "myresults.plot(kind = 'bar')"
   ]
  },
  {
   "cell_type": "markdown",
   "metadata": {
    "colab_type": "text",
    "id": "y2qBPH-Wsiar"
   },
   "source": [
    "## Challenge\n",
    "\n",
    "These are some of the most basic and important types of data visualizations. They're so important that they're built straight into Pandas and can be accessed with some very concise code. At the beginning our data exploration is about understanding the characteristics of our dataset, but over time it becomes about communicating insights in as effective and digestable a manner as possible, and that typically means using graphs in one way or another. See how intuitive of a graph you can make using a crosstab on this dataset."
   ]
  },
  {
   "cell_type": "markdown",
   "metadata": {
    "colab_type": "text",
    "id": "trZtxlPtASwI"
   },
   "source": [
    "# Review\n",
    "\n",
    "Whew, that was a lot. Again, if this content seems overwhelming, remember that this won't be the last time that we'll talk about the skills contained in this lesson. They're right at the beginning of the course because we'll use these skills nearly every day, so you'll get really good at these things in no time!\n",
    "\n",
    "You know when you're learning a new board game and somebody tries to explain the rules to you and it doesn't make very much sense? My friends always end up saying something like: \"It sounds more complicated then it really is, lets just play a round and you'll get it.\" \n",
    "\n",
    "That's the same message that I have for you. There's a lot of new things here at Lambda School in the first week:\n",
    "\n",
    "- New Course\n",
    "- New Schedule\n",
    "- New Community\n",
    "- New Tools\n",
    "- New Processes\n",
    "- New Content\n",
    "\n",
    "As we go through a cycle of one sprint, it will all start making a whole lot more sense. \n",
    "\n",
    "---\n",
    "\n",
    "Your assignment for this afternoon can be found in the -other- notebook inside the module folder in this week's repository on GitHub. You are going to pick another [UCI Machine Learning Repository](https://archive.ics.uci.edu/ml/index.php) dataset and do much of the same as what we have done above.\n",
    "\n",
    "In order to start out with something that won't be impossibly hard, please use one of the datasets that is listed as \"Most Popular\" on the right side of the UCI website.\n",
    "\n",
    "Why am I **not** assigning a specific dataset to you for your assignment? As a baby step in getting you more comfortable with open-endedness. Traditional education has been training you to expect there to be a single correct solution to things -that's rarely the case in data science. There are pros and cons to every decision that we make. Over the course of the first unit, we will work on helping you be comfortable open-endedness as we navigate the sea of tradeoffs that exist when we approach data. and you choosing the dataset for your assignment is the first tiny step that we're going to take in that direction. \n",
    "\n",
    "Assignment Notebook:\n",
    "\n"
   ]
  }
 ],
 "metadata": {
  "colab": {
   "collapsed_sections": [],
   "name": "Copy of LS_DS_111_Exploratory_Data_Analysis.ipynb",
   "provenance": []
  },
  "kernelspec": {
   "display_name": "Python 3",
   "language": "python",
   "name": "python3"
  },
  "language_info": {
   "codemirror_mode": {
    "name": "ipython",
    "version": 3
   },
   "file_extension": ".py",
   "mimetype": "text/x-python",
   "name": "python",
   "nbconvert_exporter": "python",
   "pygments_lexer": "ipython3",
   "version": "3.7.3"
  }
 },
 "nbformat": 4,
 "nbformat_minor": 1
}
